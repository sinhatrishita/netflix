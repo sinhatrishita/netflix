{
  "nbformat": 4,
  "nbformat_minor": 0,
  "metadata": {
    "colab": {
      "provenance": [],
      "collapsed_sections": [
        "vncDsAP0Gaoa",
        "FJNUwmbgGyua",
        "w6K7xa23Elo4",
        "yQaldy8SH6Dl",
        "mDgbUHAGgjLW",
        "O_i_v8NEhb9l",
        "HhfV-JJviCcP",
        "Y3lxredqlCYt",
        "3RnN4peoiCZX",
        "x71ZqKXriCWQ",
        "7hBIi_osiCS2",
        "JlHwYmJAmNHm",
        "35m5QtbWiB9F",
        "PoPl-ycgm1ru",
        "H0kj-8xxnORC",
        "nA9Y7ga8ng1Z",
        "PBTbrJXOngz2",
        "u3PMJOP6ngxN",
        "dauF4eBmngu3",
        "bKJF3rekwFvQ",
        "MSa1f5Uengrz",
        "GF8Ens_Soomf",
        "0wOQAZs5pc--",
        "K5QZ13OEpz2H",
        "lQ7QKXXCp7Bj",
        "448CDAPjqfQr",
        "KSlN3yHqYklG",
        "t6dVpIINYklI",
        "ijmpgYnKYklI",
        "-JiQyfWJYklI",
        "EM7whBJCYoAo",
        "fge-S5ZAYoAp",
        "85gYPyotYoAp",
        "RoGjAbkUYoAp",
        "4Of9eVA-YrdM",
        "iky9q4vBYrdO",
        "F6T5p64dYrdO",
        "y-Ehk30pYrdP",
        "bamQiAODYuh1",
        "QHF8YVU7Yuh3",
        "GwzvFGzlYuh3",
        "qYpmQ266Yuh3",
        "OH-pJp9IphqM",
        "bbFf2-_FphqN",
        "_ouA3fa0phqN",
        "Seke61FWphqN",
        "PIIx-8_IphqN",
        "t27r6nlMphqO",
        "r2jJGEOYphqO",
        "b0JNsNcRphqO",
        "BZR9WyysphqO",
        "jj7wYXLtphqO",
        "eZrbJ2SmphqO",
        "rFu4xreNphqO",
        "YJ55k-q6phqO",
        "gCFgpxoyphqP",
        "OVtJsKN_phqQ",
        "lssrdh5qphqQ",
        "U2RJ9gkRphqQ",
        "1M8mcRywphqQ",
        "tgIPom80phqQ",
        "JMzcOPDDphqR",
        "x-EpHcCOp1ci",
        "X_VqEhTip1ck",
        "8zGJKyg5p1ck",
        "PVzmfK_Ep1ck",
        "n3dbpmDWp1ck",
        "ylSl6qgtp1ck",
        "ZWILFDl5p1ck",
        "M7G43BXep1ck",
        "Ag9LCva-p1cl",
        "E6MkPsBcp1cl",
        "2cELzS2fp1cl",
        "3MPXvC8up1cl",
        "NC_X3p0fY2L0",
        "UV0SzAkaZNRQ",
        "YPEH6qLeZNRQ",
        "q29F0dvdveiT",
        "EXh0U9oCveiU",
        "22aHeOlLveiV",
        "g-ATYxFrGrvw",
        "Yfr_Vlr8HBkt",
        "8yEUt7NnHlrM",
        "tEA2Xm5dHt1r",
        "I79__PHVH19G",
        "Ou-I18pAyIpj",
        "fF3858GYyt-u",
        "4_0_7-oCpUZd",
        "hwyV_J3ipUZe",
        "3yB-zSqbpUZe",
        "dEUvejAfpUZe",
        "Fd15vwWVpUZf",
        "bn_IUdTipZyH",
        "49K5P_iCpZyH",
        "Nff-vKELpZyI",
        "kLW572S8pZyI",
        "dWbDXHzopZyI",
        "yLjJCtPM0KBk",
        "xiyOF9F70UgQ",
        "7wuGOrhz0itI",
        "id1riN9m0vUs",
        "578E2V7j08f6",
        "89xtkJwZ18nB",
        "67NQN5KX2AMe",
        "Iwf50b-R2tYG",
        "GMQiZwjn3iu7",
        "WVIkgGqN3qsr",
        "XkPnILGE3zoT",
        "Hlsf0x5436Go",
        "mT9DMSJo4nBL",
        "c49ITxTc407N",
        "OeJFEK0N496M",
        "9ExmJH0g5HBk",
        "cJNqERVU536h",
        "k5UmGsbsOxih",
        "T0VqWOYE6DLQ",
        "qBMux9mC6MCf",
        "-oLEiFgy-5Pf",
        "C74aWNz2AliB",
        "2DejudWSA-a0",
        "pEMng2IbBLp7",
        "rAdphbQ9Bhjc",
        "TNVZ9zx19K6k",
        "nqoHp30x9hH9",
        "rMDnDkt2B6du",
        "yiiVWRdJDDil",
        "1UUpS68QDMuG",
        "kexQrXU-DjzY",
        "T5CmagL3EC8N",
        "BhH2vgX9EjGr",
        "qjKvONjwE8ra",
        "P1XJ9OREExlT",
        "VFOzZv6IFROw",
        "TIqpNgepFxVj",
        "VfCC591jGiD4",
        "OB4l2ZhMeS1U",
        "ArJBuiUVfxKd",
        "4qY1EAkEfxKe",
        "PiV4Ypx8fxKe",
        "TfvqoZmBfxKf",
        "dJ2tPlVmpsJ0",
        "JWYfwnehpsJ1",
        "-jK_YjpMpsJ2",
        "HAih1iBOpsJ2",
        "zVGeBEFhpsJ2",
        "bmKjuQ-FpsJ3",
        "Fze-IPXLpx6K",
        "7AN1z2sKpx6M",
        "9PIHJqyupx6M",
        "_-qAgymDpx6N",
        "Z-hykwinpx6N",
        "h_CCil-SKHpo",
        "cBFFvTBNJzUa",
        "HvGl1hHyA_VK",
        "EyNgTHvd2WFk",
        "KH5McJBi2d8v",
        "iW_Lq9qf2h6X",
        "-Kee-DAl2viO",
        "gCX9965dhzqZ",
        "gIfDvo9L0UH2"
      ],
      "include_colab_link": true
    },
    "kernelspec": {
      "name": "python3",
      "display_name": "Python 3"
    },
    "language_info": {
      "name": "python"
    }
  },
  "cells": [
    {
      "cell_type": "markdown",
      "metadata": {
        "id": "view-in-github",
        "colab_type": "text"
      },
      "source": [
        "<a href=\"https://colab.research.google.com/github/sinhatrishita/super-umbrella/blob/main/Unsupervised_ML_Project_by_Trishita.ipynb\" target=\"_parent\"><img src=\"https://colab.research.google.com/assets/colab-badge.svg\" alt=\"Open In Colab\"/></a>"
      ]
    },
    {
      "cell_type": "markdown",
      "source": [
        "# **Project Name** -   Unsupervised ML - Netflix Movies and TV Shows Clustering -\n",
        "\n"
      ],
      "metadata": {
        "id": "vncDsAP0Gaoa"
      }
    },
    {
      "cell_type": "markdown",
      "source": [
        "##### **Project Type**    - EDA/Unsupervised\n",
        "##### **Contribution**    - Individual\n"
      ],
      "metadata": {
        "id": "beRrZCGUAJYm"
      }
    },
    {
      "cell_type": "markdown",
      "source": [
        "# **Project Summary -**"
      ],
      "metadata": {
        "id": "FJNUwmbgGyua"
      }
    },
    {
      "cell_type": "markdown",
      "source": [
        "The unsupervised machine learning project focused on clustering Netflix content aimed to explore and categorize the diverse range of movies and TV shows available on the platform. Leveraging clustering algorithms, such as K-means or hierarchical clustering, the project sought to identify inherent patterns and similarities within content types, illuminating potential viewer preferences and regional content trends. The project aimed to provide actionable insights for content curation, user engagement strategies, and informed decision-making related to regional preferences and content acquisition, ultimately enhancing the overall Netflix viewing experience."
      ],
      "metadata": {
        "id": "F6v_1wHtG2nS"
      }
    },
    {
      "cell_type": "markdown",
      "source": [
        "# **GitHub Link -**"
      ],
      "metadata": {
        "id": "w6K7xa23Elo4"
      }
    },
    {
      "cell_type": "markdown",
      "source": [
        "Provide your GitHub Link here."
      ],
      "metadata": {
        "id": "h1o69JH3Eqqn"
      }
    },
    {
      "cell_type": "markdown",
      "source": [
        "# **Problem Statement**\n"
      ],
      "metadata": {
        "id": "yQaldy8SH6Dl"
      }
    },
    {
      "cell_type": "markdown",
      "source": [
        "**Problem Statement:**\n",
        "\n",
        "The project aims to leverage unsupervised machine learning techniques to categorize and cluster the extensive range of content available on Netflix, including movies and TV shows. The primary challenge involves understanding the diverse content landscape and identifying underlying patterns and groupings within the dataset to gain insights into viewer preferences, regional content trends, and genre-based clustering. By conducting this analysis, the project seeks to uncover actionable intelligence for optimizing content curation, enhancing user engagement strategies, and making informed decisions related to regional content preferences and strategic content acquisition."
      ],
      "metadata": {
        "id": "DpeJGUA3kjGy"
      }
    },
    {
      "cell_type": "markdown",
      "source": [
        "# **General Guidelines** : -  "
      ],
      "metadata": {
        "id": "mDgbUHAGgjLW"
      }
    },
    {
      "cell_type": "markdown",
      "source": [
        "1.   Well-structured, formatted, and commented code is required.\n",
        "2.   Exception Handling, Production Grade Code & Deployment Ready Code will be a plus. Those students will be awarded some additional credits.\n",
        "     \n",
        "     The additional credits will have advantages over other students during Star Student selection.\n",
        "       \n",
        "             [ Note: - Deployment Ready Code is defined as, the whole .ipynb notebook should be executable in one go\n",
        "                       without a single error logged. ]\n",
        "\n",
        "3.   Each and every logic should have proper comments.\n",
        "4. You may add as many number of charts you want. Make Sure for each and every chart the following format should be answered.\n",
        "        \n",
        "\n",
        "```\n",
        "# Chart visualization code\n",
        "```\n",
        "            \n",
        "\n",
        "*   Why did you pick the specific chart?\n",
        "*   What is/are the insight(s) found from the chart?\n",
        "* Will the gained insights help creating a positive business impact?\n",
        "Are there any insights that lead to negative growth? Justify with specific reason.\n",
        "\n",
        "5. You have to create at least 15 logical & meaningful charts having important insights.\n",
        "\n",
        "\n",
        "[ Hints : - Do the Vizualization in  a structured way while following \"UBM\" Rule.\n",
        "\n",
        "U - Univariate Analysis,\n",
        "\n",
        "B - Bivariate Analysis (Numerical - Categorical, Numerical - Numerical, Categorical - Categorical)\n",
        "\n",
        "M - Multivariate Analysis\n",
        " ]\n",
        "\n",
        "\n",
        "\n",
        "\n",
        "\n",
        "6. You may add more ml algorithms for model creation. Make sure for each and every algorithm, the following format should be answered.\n",
        "\n",
        "\n",
        "*   Explain the ML Model used and it's performance using Evaluation metric Score Chart.\n",
        "\n",
        "\n",
        "*   Cross- Validation & Hyperparameter Tuning\n",
        "\n",
        "*   Have you seen any improvement? Note down the improvement with updates Evaluation metric Score Chart.\n",
        "\n",
        "*   Explain each evaluation metric's indication towards business and the business impact pf the ML model used.\n",
        "\n",
        "\n",
        "\n",
        "\n",
        "\n",
        "\n",
        "\n",
        "\n",
        "\n",
        "\n",
        "\n",
        "\n",
        "\n",
        "\n",
        "\n",
        "\n",
        "\n",
        "\n"
      ],
      "metadata": {
        "id": "ZrxVaUj-hHfC"
      }
    },
    {
      "cell_type": "markdown",
      "source": [
        "# ***Let's Begin !***"
      ],
      "metadata": {
        "id": "O_i_v8NEhb9l"
      }
    },
    {
      "cell_type": "markdown",
      "source": [
        "## ***1. Know Your Data***"
      ],
      "metadata": {
        "id": "HhfV-JJviCcP"
      }
    },
    {
      "cell_type": "markdown",
      "source": [
        "### Import Libraries"
      ],
      "metadata": {
        "id": "Y3lxredqlCYt"
      }
    },
    {
      "cell_type": "code",
      "source": [
        "# Import Libraries\n",
        "import pandas as pd\n",
        "import numpy as np\n",
        "import matplotlib.pyplot as plt\n",
        "import seaborn as sns\n",
        "import datetime\n",
        "import missingno as msno\n",
        "import matplotlib\n",
        "import matplotlib.pylab as pylab\n",
        "\n",
        "%matplotlib inline\n",
        "matplotlib.style.use('ggplot')\n",
        "sns.set_style('white')\n",
        "pylab.rcParams['figure.figsize'] = 8,6\n",
        "\n",
        "import math\n",
        "from sklearn.cluster import KMeans, DBSCAN, AgglomerativeClustering\n",
        "from sklearn.preprocessing import StandardScaler\n",
        "from sklearn.metrics import silhouette_score\n",
        "from sklearn.impute import SimpleImputer\n",
        "from sklearn.feature_extraction.text import CountVectorizer\n"
      ],
      "metadata": {
        "id": "4gzLaMNtpb-m"
      },
      "execution_count": 1,
      "outputs": []
    },
    {
      "cell_type": "markdown",
      "source": [
        "### Dataset Loading"
      ],
      "metadata": {
        "id": "3RnN4peoiCZX"
      }
    },
    {
      "cell_type": "code",
      "source": [
        "from google.colab import drive\n",
        "drive.mount('/content/drive')"
      ],
      "metadata": {
        "colab": {
          "base_uri": "https://localhost:8080/"
        },
        "id": "_LQkxdP_oFse",
        "outputId": "b2a4b104-1744-494a-faae-0d5bd7acc8dd"
      },
      "execution_count": 2,
      "outputs": [
        {
          "output_type": "stream",
          "name": "stdout",
          "text": [
            "Mounted at /content/drive\n"
          ]
        }
      ]
    },
    {
      "cell_type": "code",
      "source": [
        "# Load the dataset\n",
        "df = pd.read_csv(\"/content/drive/MyDrive/NETFLIX MOVIES AND TV SHOWS CLUSTERING.csv\")"
      ],
      "metadata": {
        "id": "i-Me6VwIIDrd"
      },
      "execution_count": 3,
      "outputs": []
    },
    {
      "cell_type": "markdown",
      "source": [
        "### Dataset First View"
      ],
      "metadata": {
        "id": "x71ZqKXriCWQ"
      }
    },
    {
      "cell_type": "code",
      "source": [
        "df.head()"
      ],
      "metadata": {
        "colab": {
          "base_uri": "https://localhost:8080/",
          "height": 380
        },
        "id": "Bjm7_bLVCxTx",
        "outputId": "9103b15e-acdf-4761-9f77-3fe05fb56d15"
      },
      "execution_count": 4,
      "outputs": [
        {
          "output_type": "execute_result",
          "data": {
            "text/plain": [
              "  show_id     type  title           director  \\\n",
              "0      s1  TV Show     3%                NaN   \n",
              "1      s2    Movie   7:19  Jorge Michel Grau   \n",
              "2      s3    Movie  23:59       Gilbert Chan   \n",
              "3      s4    Movie      9        Shane Acker   \n",
              "4      s5    Movie     21     Robert Luketic   \n",
              "\n",
              "                                                cast        country  \\\n",
              "0  João Miguel, Bianca Comparato, Michel Gomes, R...         Brazil   \n",
              "1  Demián Bichir, Héctor Bonilla, Oscar Serrano, ...         Mexico   \n",
              "2  Tedd Chan, Stella Chung, Henley Hii, Lawrence ...      Singapore   \n",
              "3  Elijah Wood, John C. Reilly, Jennifer Connelly...  United States   \n",
              "4  Jim Sturgess, Kevin Spacey, Kate Bosworth, Aar...  United States   \n",
              "\n",
              "          date_added  release_year rating   duration  \\\n",
              "0    August 14, 2020          2020  TV-MA  4 Seasons   \n",
              "1  December 23, 2016          2016  TV-MA     93 min   \n",
              "2  December 20, 2018          2011      R     78 min   \n",
              "3  November 16, 2017          2009  PG-13     80 min   \n",
              "4    January 1, 2020          2008  PG-13    123 min   \n",
              "\n",
              "                                           listed_in  \\\n",
              "0  International TV Shows, TV Dramas, TV Sci-Fi &...   \n",
              "1                       Dramas, International Movies   \n",
              "2                Horror Movies, International Movies   \n",
              "3  Action & Adventure, Independent Movies, Sci-Fi...   \n",
              "4                                             Dramas   \n",
              "\n",
              "                                         description  \n",
              "0  In a future where the elite inhabit an island ...  \n",
              "1  After a devastating earthquake hits Mexico Cit...  \n",
              "2  When an army recruit is found dead, his fellow...  \n",
              "3  In a postapocalyptic world, rag-doll robots hi...  \n",
              "4  A brilliant group of students become card-coun...  "
            ],
            "text/html": [
              "\n",
              "  <div id=\"df-88032718-8f32-4381-b5f8-aed3a1677eb5\" class=\"colab-df-container\">\n",
              "    <div>\n",
              "<style scoped>\n",
              "    .dataframe tbody tr th:only-of-type {\n",
              "        vertical-align: middle;\n",
              "    }\n",
              "\n",
              "    .dataframe tbody tr th {\n",
              "        vertical-align: top;\n",
              "    }\n",
              "\n",
              "    .dataframe thead th {\n",
              "        text-align: right;\n",
              "    }\n",
              "</style>\n",
              "<table border=\"1\" class=\"dataframe\">\n",
              "  <thead>\n",
              "    <tr style=\"text-align: right;\">\n",
              "      <th></th>\n",
              "      <th>show_id</th>\n",
              "      <th>type</th>\n",
              "      <th>title</th>\n",
              "      <th>director</th>\n",
              "      <th>cast</th>\n",
              "      <th>country</th>\n",
              "      <th>date_added</th>\n",
              "      <th>release_year</th>\n",
              "      <th>rating</th>\n",
              "      <th>duration</th>\n",
              "      <th>listed_in</th>\n",
              "      <th>description</th>\n",
              "    </tr>\n",
              "  </thead>\n",
              "  <tbody>\n",
              "    <tr>\n",
              "      <th>0</th>\n",
              "      <td>s1</td>\n",
              "      <td>TV Show</td>\n",
              "      <td>3%</td>\n",
              "      <td>NaN</td>\n",
              "      <td>João Miguel, Bianca Comparato, Michel Gomes, R...</td>\n",
              "      <td>Brazil</td>\n",
              "      <td>August 14, 2020</td>\n",
              "      <td>2020</td>\n",
              "      <td>TV-MA</td>\n",
              "      <td>4 Seasons</td>\n",
              "      <td>International TV Shows, TV Dramas, TV Sci-Fi &amp;...</td>\n",
              "      <td>In a future where the elite inhabit an island ...</td>\n",
              "    </tr>\n",
              "    <tr>\n",
              "      <th>1</th>\n",
              "      <td>s2</td>\n",
              "      <td>Movie</td>\n",
              "      <td>7:19</td>\n",
              "      <td>Jorge Michel Grau</td>\n",
              "      <td>Demián Bichir, Héctor Bonilla, Oscar Serrano, ...</td>\n",
              "      <td>Mexico</td>\n",
              "      <td>December 23, 2016</td>\n",
              "      <td>2016</td>\n",
              "      <td>TV-MA</td>\n",
              "      <td>93 min</td>\n",
              "      <td>Dramas, International Movies</td>\n",
              "      <td>After a devastating earthquake hits Mexico Cit...</td>\n",
              "    </tr>\n",
              "    <tr>\n",
              "      <th>2</th>\n",
              "      <td>s3</td>\n",
              "      <td>Movie</td>\n",
              "      <td>23:59</td>\n",
              "      <td>Gilbert Chan</td>\n",
              "      <td>Tedd Chan, Stella Chung, Henley Hii, Lawrence ...</td>\n",
              "      <td>Singapore</td>\n",
              "      <td>December 20, 2018</td>\n",
              "      <td>2011</td>\n",
              "      <td>R</td>\n",
              "      <td>78 min</td>\n",
              "      <td>Horror Movies, International Movies</td>\n",
              "      <td>When an army recruit is found dead, his fellow...</td>\n",
              "    </tr>\n",
              "    <tr>\n",
              "      <th>3</th>\n",
              "      <td>s4</td>\n",
              "      <td>Movie</td>\n",
              "      <td>9</td>\n",
              "      <td>Shane Acker</td>\n",
              "      <td>Elijah Wood, John C. Reilly, Jennifer Connelly...</td>\n",
              "      <td>United States</td>\n",
              "      <td>November 16, 2017</td>\n",
              "      <td>2009</td>\n",
              "      <td>PG-13</td>\n",
              "      <td>80 min</td>\n",
              "      <td>Action &amp; Adventure, Independent Movies, Sci-Fi...</td>\n",
              "      <td>In a postapocalyptic world, rag-doll robots hi...</td>\n",
              "    </tr>\n",
              "    <tr>\n",
              "      <th>4</th>\n",
              "      <td>s5</td>\n",
              "      <td>Movie</td>\n",
              "      <td>21</td>\n",
              "      <td>Robert Luketic</td>\n",
              "      <td>Jim Sturgess, Kevin Spacey, Kate Bosworth, Aar...</td>\n",
              "      <td>United States</td>\n",
              "      <td>January 1, 2020</td>\n",
              "      <td>2008</td>\n",
              "      <td>PG-13</td>\n",
              "      <td>123 min</td>\n",
              "      <td>Dramas</td>\n",
              "      <td>A brilliant group of students become card-coun...</td>\n",
              "    </tr>\n",
              "  </tbody>\n",
              "</table>\n",
              "</div>\n",
              "    <div class=\"colab-df-buttons\">\n",
              "\n",
              "  <div class=\"colab-df-container\">\n",
              "    <button class=\"colab-df-convert\" onclick=\"convertToInteractive('df-88032718-8f32-4381-b5f8-aed3a1677eb5')\"\n",
              "            title=\"Convert this dataframe to an interactive table.\"\n",
              "            style=\"display:none;\">\n",
              "\n",
              "  <svg xmlns=\"http://www.w3.org/2000/svg\" height=\"24px\" viewBox=\"0 -960 960 960\">\n",
              "    <path d=\"M120-120v-720h720v720H120Zm60-500h600v-160H180v160Zm220 220h160v-160H400v160Zm0 220h160v-160H400v160ZM180-400h160v-160H180v160Zm440 0h160v-160H620v160ZM180-180h160v-160H180v160Zm440 0h160v-160H620v160Z\"/>\n",
              "  </svg>\n",
              "    </button>\n",
              "\n",
              "  <style>\n",
              "    .colab-df-container {\n",
              "      display:flex;\n",
              "      gap: 12px;\n",
              "    }\n",
              "\n",
              "    .colab-df-convert {\n",
              "      background-color: #E8F0FE;\n",
              "      border: none;\n",
              "      border-radius: 50%;\n",
              "      cursor: pointer;\n",
              "      display: none;\n",
              "      fill: #1967D2;\n",
              "      height: 32px;\n",
              "      padding: 0 0 0 0;\n",
              "      width: 32px;\n",
              "    }\n",
              "\n",
              "    .colab-df-convert:hover {\n",
              "      background-color: #E2EBFA;\n",
              "      box-shadow: 0px 1px 2px rgba(60, 64, 67, 0.3), 0px 1px 3px 1px rgba(60, 64, 67, 0.15);\n",
              "      fill: #174EA6;\n",
              "    }\n",
              "\n",
              "    .colab-df-buttons div {\n",
              "      margin-bottom: 4px;\n",
              "    }\n",
              "\n",
              "    [theme=dark] .colab-df-convert {\n",
              "      background-color: #3B4455;\n",
              "      fill: #D2E3FC;\n",
              "    }\n",
              "\n",
              "    [theme=dark] .colab-df-convert:hover {\n",
              "      background-color: #434B5C;\n",
              "      box-shadow: 0px 1px 3px 1px rgba(0, 0, 0, 0.15);\n",
              "      filter: drop-shadow(0px 1px 2px rgba(0, 0, 0, 0.3));\n",
              "      fill: #FFFFFF;\n",
              "    }\n",
              "  </style>\n",
              "\n",
              "    <script>\n",
              "      const buttonEl =\n",
              "        document.querySelector('#df-88032718-8f32-4381-b5f8-aed3a1677eb5 button.colab-df-convert');\n",
              "      buttonEl.style.display =\n",
              "        google.colab.kernel.accessAllowed ? 'block' : 'none';\n",
              "\n",
              "      async function convertToInteractive(key) {\n",
              "        const element = document.querySelector('#df-88032718-8f32-4381-b5f8-aed3a1677eb5');\n",
              "        const dataTable =\n",
              "          await google.colab.kernel.invokeFunction('convertToInteractive',\n",
              "                                                    [key], {});\n",
              "        if (!dataTable) return;\n",
              "\n",
              "        const docLinkHtml = 'Like what you see? Visit the ' +\n",
              "          '<a target=\"_blank\" href=https://colab.research.google.com/notebooks/data_table.ipynb>data table notebook</a>'\n",
              "          + ' to learn more about interactive tables.';\n",
              "        element.innerHTML = '';\n",
              "        dataTable['output_type'] = 'display_data';\n",
              "        await google.colab.output.renderOutput(dataTable, element);\n",
              "        const docLink = document.createElement('div');\n",
              "        docLink.innerHTML = docLinkHtml;\n",
              "        element.appendChild(docLink);\n",
              "      }\n",
              "    </script>\n",
              "  </div>\n",
              "\n",
              "\n",
              "<div id=\"df-a53ecae3-84ec-411a-b9fb-c1c1cc5dc873\">\n",
              "  <button class=\"colab-df-quickchart\" onclick=\"quickchart('df-a53ecae3-84ec-411a-b9fb-c1c1cc5dc873')\"\n",
              "            title=\"Suggest charts\"\n",
              "            style=\"display:none;\">\n",
              "\n",
              "<svg xmlns=\"http://www.w3.org/2000/svg\" height=\"24px\"viewBox=\"0 0 24 24\"\n",
              "     width=\"24px\">\n",
              "    <g>\n",
              "        <path d=\"M19 3H5c-1.1 0-2 .9-2 2v14c0 1.1.9 2 2 2h14c1.1 0 2-.9 2-2V5c0-1.1-.9-2-2-2zM9 17H7v-7h2v7zm4 0h-2V7h2v10zm4 0h-2v-4h2v4z\"/>\n",
              "    </g>\n",
              "</svg>\n",
              "  </button>\n",
              "\n",
              "<style>\n",
              "  .colab-df-quickchart {\n",
              "      --bg-color: #E8F0FE;\n",
              "      --fill-color: #1967D2;\n",
              "      --hover-bg-color: #E2EBFA;\n",
              "      --hover-fill-color: #174EA6;\n",
              "      --disabled-fill-color: #AAA;\n",
              "      --disabled-bg-color: #DDD;\n",
              "  }\n",
              "\n",
              "  [theme=dark] .colab-df-quickchart {\n",
              "      --bg-color: #3B4455;\n",
              "      --fill-color: #D2E3FC;\n",
              "      --hover-bg-color: #434B5C;\n",
              "      --hover-fill-color: #FFFFFF;\n",
              "      --disabled-bg-color: #3B4455;\n",
              "      --disabled-fill-color: #666;\n",
              "  }\n",
              "\n",
              "  .colab-df-quickchart {\n",
              "    background-color: var(--bg-color);\n",
              "    border: none;\n",
              "    border-radius: 50%;\n",
              "    cursor: pointer;\n",
              "    display: none;\n",
              "    fill: var(--fill-color);\n",
              "    height: 32px;\n",
              "    padding: 0;\n",
              "    width: 32px;\n",
              "  }\n",
              "\n",
              "  .colab-df-quickchart:hover {\n",
              "    background-color: var(--hover-bg-color);\n",
              "    box-shadow: 0 1px 2px rgba(60, 64, 67, 0.3), 0 1px 3px 1px rgba(60, 64, 67, 0.15);\n",
              "    fill: var(--button-hover-fill-color);\n",
              "  }\n",
              "\n",
              "  .colab-df-quickchart-complete:disabled,\n",
              "  .colab-df-quickchart-complete:disabled:hover {\n",
              "    background-color: var(--disabled-bg-color);\n",
              "    fill: var(--disabled-fill-color);\n",
              "    box-shadow: none;\n",
              "  }\n",
              "\n",
              "  .colab-df-spinner {\n",
              "    border: 2px solid var(--fill-color);\n",
              "    border-color: transparent;\n",
              "    border-bottom-color: var(--fill-color);\n",
              "    animation:\n",
              "      spin 1s steps(1) infinite;\n",
              "  }\n",
              "\n",
              "  @keyframes spin {\n",
              "    0% {\n",
              "      border-color: transparent;\n",
              "      border-bottom-color: var(--fill-color);\n",
              "      border-left-color: var(--fill-color);\n",
              "    }\n",
              "    20% {\n",
              "      border-color: transparent;\n",
              "      border-left-color: var(--fill-color);\n",
              "      border-top-color: var(--fill-color);\n",
              "    }\n",
              "    30% {\n",
              "      border-color: transparent;\n",
              "      border-left-color: var(--fill-color);\n",
              "      border-top-color: var(--fill-color);\n",
              "      border-right-color: var(--fill-color);\n",
              "    }\n",
              "    40% {\n",
              "      border-color: transparent;\n",
              "      border-right-color: var(--fill-color);\n",
              "      border-top-color: var(--fill-color);\n",
              "    }\n",
              "    60% {\n",
              "      border-color: transparent;\n",
              "      border-right-color: var(--fill-color);\n",
              "    }\n",
              "    80% {\n",
              "      border-color: transparent;\n",
              "      border-right-color: var(--fill-color);\n",
              "      border-bottom-color: var(--fill-color);\n",
              "    }\n",
              "    90% {\n",
              "      border-color: transparent;\n",
              "      border-bottom-color: var(--fill-color);\n",
              "    }\n",
              "  }\n",
              "</style>\n",
              "\n",
              "  <script>\n",
              "    async function quickchart(key) {\n",
              "      const quickchartButtonEl =\n",
              "        document.querySelector('#' + key + ' button');\n",
              "      quickchartButtonEl.disabled = true;  // To prevent multiple clicks.\n",
              "      quickchartButtonEl.classList.add('colab-df-spinner');\n",
              "      try {\n",
              "        const charts = await google.colab.kernel.invokeFunction(\n",
              "            'suggestCharts', [key], {});\n",
              "      } catch (error) {\n",
              "        console.error('Error during call to suggestCharts:', error);\n",
              "      }\n",
              "      quickchartButtonEl.classList.remove('colab-df-spinner');\n",
              "      quickchartButtonEl.classList.add('colab-df-quickchart-complete');\n",
              "    }\n",
              "    (() => {\n",
              "      let quickchartButtonEl =\n",
              "        document.querySelector('#df-a53ecae3-84ec-411a-b9fb-c1c1cc5dc873 button');\n",
              "      quickchartButtonEl.style.display =\n",
              "        google.colab.kernel.accessAllowed ? 'block' : 'none';\n",
              "    })();\n",
              "  </script>\n",
              "</div>\n",
              "\n",
              "    </div>\n",
              "  </div>\n"
            ],
            "application/vnd.google.colaboratory.intrinsic+json": {
              "type": "dataframe",
              "variable_name": "df",
              "summary": "{\n  \"name\": \"df\",\n  \"rows\": 7787,\n  \"fields\": [\n    {\n      \"column\": \"show_id\",\n      \"properties\": {\n        \"dtype\": \"string\",\n        \"num_unique_values\": 7787,\n        \"samples\": [\n          \"s7325\",\n          \"s4695\",\n          \"s1323\"\n        ],\n        \"semantic_type\": \"\",\n        \"description\": \"\"\n      }\n    },\n    {\n      \"column\": \"type\",\n      \"properties\": {\n        \"dtype\": \"category\",\n        \"num_unique_values\": 2,\n        \"samples\": [\n          \"Movie\",\n          \"TV Show\"\n        ],\n        \"semantic_type\": \"\",\n        \"description\": \"\"\n      }\n    },\n    {\n      \"column\": \"title\",\n      \"properties\": {\n        \"dtype\": \"string\",\n        \"num_unique_values\": 7787,\n        \"samples\": [\n          \"Unchained: The Untold Story of Freestyle Motocross\",\n          \"Our Idiot Brother\"\n        ],\n        \"semantic_type\": \"\",\n        \"description\": \"\"\n      }\n    },\n    {\n      \"column\": \"director\",\n      \"properties\": {\n        \"dtype\": \"string\",\n        \"num_unique_values\": 4049,\n        \"samples\": [\n          \"Olivia Milch\",\n          \"Francisco Macri\"\n        ],\n        \"semantic_type\": \"\",\n        \"description\": \"\"\n      }\n    },\n    {\n      \"column\": \"cast\",\n      \"properties\": {\n        \"dtype\": \"string\",\n        \"num_unique_values\": 6831,\n        \"samples\": [\n          \"Nicola Lambo, Evan Boymel, John P. Fowler, Erica Duke, Ezra James Colbert\",\n          \"Jodie Whittaker, Warwick Davis, Jim Broadbent, Stephen Graham, Nonso Anozie, Rafe Spall, Ewen Bremner, Matt King\"\n        ],\n        \"semantic_type\": \"\",\n        \"description\": \"\"\n      }\n    },\n    {\n      \"column\": \"country\",\n      \"properties\": {\n        \"dtype\": \"category\",\n        \"num_unique_values\": 681,\n        \"samples\": [\n          \"Romania, United Kingdom\",\n          \"United States, United Arab Emirates\"\n        ],\n        \"semantic_type\": \"\",\n        \"description\": \"\"\n      }\n    },\n    {\n      \"column\": \"date_added\",\n      \"properties\": {\n        \"dtype\": \"category\",\n        \"num_unique_values\": 1565,\n        \"samples\": [\n          \"April 18, 2017\",\n          \"February 27, 2020\"\n        ],\n        \"semantic_type\": \"\",\n        \"description\": \"\"\n      }\n    },\n    {\n      \"column\": \"release_year\",\n      \"properties\": {\n        \"dtype\": \"number\",\n        \"std\": 8,\n        \"min\": 1925,\n        \"max\": 2021,\n        \"num_unique_values\": 73,\n        \"samples\": [\n          2008,\n          1969\n        ],\n        \"semantic_type\": \"\",\n        \"description\": \"\"\n      }\n    },\n    {\n      \"column\": \"rating\",\n      \"properties\": {\n        \"dtype\": \"category\",\n        \"num_unique_values\": 14,\n        \"samples\": [\n          \"PG\",\n          \"NC-17\"\n        ],\n        \"semantic_type\": \"\",\n        \"description\": \"\"\n      }\n    },\n    {\n      \"column\": \"duration\",\n      \"properties\": {\n        \"dtype\": \"category\",\n        \"num_unique_values\": 216,\n        \"samples\": [\n          \"230 min\",\n          \"253 min\"\n        ],\n        \"semantic_type\": \"\",\n        \"description\": \"\"\n      }\n    },\n    {\n      \"column\": \"listed_in\",\n      \"properties\": {\n        \"dtype\": \"category\",\n        \"num_unique_values\": 492,\n        \"samples\": [\n          \"Children & Family Movies, Dramas\",\n          \"Dramas, LGBTQ Movies\"\n        ],\n        \"semantic_type\": \"\",\n        \"description\": \"\"\n      }\n    },\n    {\n      \"column\": \"description\",\n      \"properties\": {\n        \"dtype\": \"string\",\n        \"num_unique_values\": 7769,\n        \"samples\": [\n          \"A middle-aged actress is cast in a film adaptation of the play that made her famous 20 years earlier, but in a much less glamorous role.\",\n          \"The life of a high-flying law student takes a drastic turn when a bout of misfortune changes his status in society for good.\"\n        ],\n        \"semantic_type\": \"\",\n        \"description\": \"\"\n      }\n    }\n  ]\n}"
            }
          },
          "metadata": {},
          "execution_count": 4
        }
      ]
    },
    {
      "cell_type": "markdown",
      "source": [
        "### Dataset Rows & Columns count"
      ],
      "metadata": {
        "id": "7hBIi_osiCS2"
      }
    },
    {
      "cell_type": "code",
      "source": [
        "df.shape"
      ],
      "metadata": {
        "colab": {
          "base_uri": "https://localhost:8080/"
        },
        "id": "4WKagb1nC8yE",
        "outputId": "0737c56e-ede7-47ef-b277-d6d40622c908"
      },
      "execution_count": null,
      "outputs": [
        {
          "output_type": "execute_result",
          "data": {
            "text/plain": [
              "(7787, 12)"
            ]
          },
          "metadata": {},
          "execution_count": 5
        }
      ]
    },
    {
      "cell_type": "markdown",
      "source": [
        "### Dataset Information"
      ],
      "metadata": {
        "id": "JlHwYmJAmNHm"
      }
    },
    {
      "cell_type": "code",
      "source": [
        "df.info()"
      ],
      "metadata": {
        "colab": {
          "base_uri": "https://localhost:8080/"
        },
        "id": "EaFXl1wtKSYW",
        "outputId": "ca7ded13-fc2e-488d-b278-260d4d6fdc90"
      },
      "execution_count": null,
      "outputs": [
        {
          "output_type": "stream",
          "name": "stdout",
          "text": [
            "<class 'pandas.core.frame.DataFrame'>\n",
            "RangeIndex: 7787 entries, 0 to 7786\n",
            "Data columns (total 12 columns):\n",
            " #   Column        Non-Null Count  Dtype \n",
            "---  ------        --------------  ----- \n",
            " 0   show_id       7787 non-null   object\n",
            " 1   type          7787 non-null   object\n",
            " 2   title         7787 non-null   object\n",
            " 3   director      5398 non-null   object\n",
            " 4   cast          7069 non-null   object\n",
            " 5   country       7280 non-null   object\n",
            " 6   date_added    7777 non-null   object\n",
            " 7   release_year  7787 non-null   int64 \n",
            " 8   rating        7780 non-null   object\n",
            " 9   duration      7787 non-null   object\n",
            " 10  listed_in     7787 non-null   object\n",
            " 11  description   7787 non-null   object\n",
            "dtypes: int64(1), object(11)\n",
            "memory usage: 730.2+ KB\n"
          ]
        }
      ]
    },
    {
      "cell_type": "markdown",
      "source": [
        "#### Duplicate Values"
      ],
      "metadata": {
        "id": "35m5QtbWiB9F"
      }
    },
    {
      "cell_type": "code",
      "source": [
        "df.duplicated().sum()"
      ],
      "metadata": {
        "colab": {
          "base_uri": "https://localhost:8080/"
        },
        "id": "JNE4BajODF2w",
        "outputId": "cef85bb4-3a0c-4dcd-fcd5-914df90c6c42"
      },
      "execution_count": null,
      "outputs": [
        {
          "output_type": "execute_result",
          "data": {
            "text/plain": [
              "0"
            ]
          },
          "metadata": {},
          "execution_count": 7
        }
      ]
    },
    {
      "cell_type": "markdown",
      "source": [
        "#### Missing Values/Null Values"
      ],
      "metadata": {
        "id": "PoPl-ycgm1ru"
      }
    },
    {
      "cell_type": "code",
      "source": [
        "df.isnull().sum()"
      ],
      "metadata": {
        "colab": {
          "base_uri": "https://localhost:8080/",
          "height": 460
        },
        "id": "vyDbnaHzEWJW",
        "outputId": "2f1f76c5-04ab-4883-8fd5-44d1867415aa"
      },
      "execution_count": null,
      "outputs": [
        {
          "output_type": "execute_result",
          "data": {
            "text/plain": [
              "show_id            0\n",
              "type               0\n",
              "title              0\n",
              "director        2389\n",
              "cast             718\n",
              "country          507\n",
              "date_added        10\n",
              "release_year       0\n",
              "rating             7\n",
              "duration           0\n",
              "listed_in          0\n",
              "description        0\n",
              "dtype: int64"
            ],
            "text/html": [
              "<div>\n",
              "<style scoped>\n",
              "    .dataframe tbody tr th:only-of-type {\n",
              "        vertical-align: middle;\n",
              "    }\n",
              "\n",
              "    .dataframe tbody tr th {\n",
              "        vertical-align: top;\n",
              "    }\n",
              "\n",
              "    .dataframe thead th {\n",
              "        text-align: right;\n",
              "    }\n",
              "</style>\n",
              "<table border=\"1\" class=\"dataframe\">\n",
              "  <thead>\n",
              "    <tr style=\"text-align: right;\">\n",
              "      <th></th>\n",
              "      <th>0</th>\n",
              "    </tr>\n",
              "  </thead>\n",
              "  <tbody>\n",
              "    <tr>\n",
              "      <th>show_id</th>\n",
              "      <td>0</td>\n",
              "    </tr>\n",
              "    <tr>\n",
              "      <th>type</th>\n",
              "      <td>0</td>\n",
              "    </tr>\n",
              "    <tr>\n",
              "      <th>title</th>\n",
              "      <td>0</td>\n",
              "    </tr>\n",
              "    <tr>\n",
              "      <th>director</th>\n",
              "      <td>2389</td>\n",
              "    </tr>\n",
              "    <tr>\n",
              "      <th>cast</th>\n",
              "      <td>718</td>\n",
              "    </tr>\n",
              "    <tr>\n",
              "      <th>country</th>\n",
              "      <td>507</td>\n",
              "    </tr>\n",
              "    <tr>\n",
              "      <th>date_added</th>\n",
              "      <td>10</td>\n",
              "    </tr>\n",
              "    <tr>\n",
              "      <th>release_year</th>\n",
              "      <td>0</td>\n",
              "    </tr>\n",
              "    <tr>\n",
              "      <th>rating</th>\n",
              "      <td>7</td>\n",
              "    </tr>\n",
              "    <tr>\n",
              "      <th>duration</th>\n",
              "      <td>0</td>\n",
              "    </tr>\n",
              "    <tr>\n",
              "      <th>listed_in</th>\n",
              "      <td>0</td>\n",
              "    </tr>\n",
              "    <tr>\n",
              "      <th>description</th>\n",
              "      <td>0</td>\n",
              "    </tr>\n",
              "  </tbody>\n",
              "</table>\n",
              "</div><br><label><b>dtype:</b> int64</label>"
            ]
          },
          "metadata": {},
          "execution_count": 8
        }
      ]
    },
    {
      "cell_type": "code",
      "source": [
        "# let's visualise the null values with a heat map\n",
        "# Create a heatmap to visualize null values in the DataFrame\n",
        "plt.figure(figsize=(8, 6))  # Set the size of the heatmap\n",
        "sns.heatmap(df.isnull(), cbar=False, cmap='viridis')  # Plot a heatmap of the null values\n",
        "plt.title('Null Values Heatmap')  # Set the title of the heatmap\n",
        "plt.show()  # Show the plot"
      ],
      "metadata": {
        "colab": {
          "base_uri": "https://localhost:8080/",
          "height": 620
        },
        "id": "dRmNnQJIO0nx",
        "outputId": "3dd86426-77e1-4e97-c344-f9683c2e2a15"
      },
      "execution_count": null,
      "outputs": [
        {
          "output_type": "display_data",
          "data": {
            "text/plain": [
              "<Figure size 800x600 with 1 Axes>"
            ],
            "image/png": "[encoded data removed]"
          },
          "metadata": {}
        }
      ]
    },
    {
      "cell_type": "markdown",
      "source": [
        "### What did you know about your dataset?"
      ],
      "metadata": {
        "id": "H0kj-8xxnORC"
      }
    },
    {
      "cell_type": "markdown",
      "source": [
        "The Netflix dataset consists of 7787 rows and 12 columns, providing details about movies and TV shows available on the platform. This dataset is free from duplicate entries. However, it's important to note that columns such as \"director,\" \"cast,\" \"country,\" and \"rating\" contain null values, which may require special handling during analysis or data processing."
      ],
      "metadata": {
        "id": "gfoNAAC-nUe_"
      }
    },
    {
      "cell_type": "markdown",
      "source": [
        "## ***2. Understanding Your Variables***"
      ],
      "metadata": {
        "id": "nA9Y7ga8ng1Z"
      }
    },
    {
      "cell_type": "markdown",
      "source": [
        "### Variables Description"
      ],
      "metadata": {
        "id": "PBTbrJXOngz2"
      }
    },
    {
      "cell_type": "markdown",
      "source": [
        "show_id: Unique identifier for each show.\n",
        "\n",
        "type: Categorization of the content (e.g., movie, TV show).\n",
        "\n",
        "title: The title of the show or movie.\n",
        "\n",
        "director: The director(s) of the show or movie.\n",
        "\n",
        "cast: The actors or performers in the show or movie.\n",
        "\n",
        "country: The country or countries associated with the show or movie.\n",
        "\n",
        "date_added: The date the show or movie was added to the platform.\n",
        "\n",
        "release_year: The year when the show or movie was released.\n",
        "\n",
        "rating: The rating assigned to the show or movie (e.g., PG-13, TV-MA).\n",
        "\n",
        "duration: The duration or length of the show or movie.\n",
        "\n",
        "listed_in: The categories or genres that the show or movie is classified under.\n",
        "\n",
        "description: A brief summary or description of the show or movie."
      ],
      "metadata": {
        "id": "aJV4KIxSnxay"
      }
    },
    {
      "cell_type": "markdown",
      "source": [
        "### Check Unique Values for each variable."
      ],
      "metadata": {
        "id": "u3PMJOP6ngxN"
      }
    },
    {
      "cell_type": "code",
      "source": [
        "df.nunique()"
      ],
      "metadata": {
        "colab": {
          "base_uri": "https://localhost:8080/",
          "height": 460
        },
        "id": "O-eo_TXAE6-N",
        "outputId": "e954e23b-442e-46d3-88c5-93ad16115613"
      },
      "execution_count": null,
      "outputs": [
        {
          "output_type": "execute_result",
          "data": {
            "text/plain": [
              "show_id         7787\n",
              "type               2\n",
              "title           7787\n",
              "director        4049\n",
              "cast            6831\n",
              "country          681\n",
              "date_added      1565\n",
              "release_year      73\n",
              "rating            14\n",
              "duration         216\n",
              "listed_in        492\n",
              "description     7769\n",
              "dtype: int64"
            ],
            "text/html": [
              "<div>\n",
              "<style scoped>\n",
              "    .dataframe tbody tr th:only-of-type {\n",
              "        vertical-align: middle;\n",
              "    }\n",
              "\n",
              "    .dataframe tbody tr th {\n",
              "        vertical-align: top;\n",
              "    }\n",
              "\n",
              "    .dataframe thead th {\n",
              "        text-align: right;\n",
              "    }\n",
              "</style>\n",
              "<table border=\"1\" class=\"dataframe\">\n",
              "  <thead>\n",
              "    <tr style=\"text-align: right;\">\n",
              "      <th></th>\n",
              "      <th>0</th>\n",
              "    </tr>\n",
              "  </thead>\n",
              "  <tbody>\n",
              "    <tr>\n",
              "      <th>show_id</th>\n",
              "      <td>7787</td>\n",
              "    </tr>\n",
              "    <tr>\n",
              "      <th>type</th>\n",
              "      <td>2</td>\n",
              "    </tr>\n",
              "    <tr>\n",
              "      <th>title</th>\n",
              "      <td>7787</td>\n",
              "    </tr>\n",
              "    <tr>\n",
              "      <th>director</th>\n",
              "      <td>4049</td>\n",
              "    </tr>\n",
              "    <tr>\n",
              "      <th>cast</th>\n",
              "      <td>6831</td>\n",
              "    </tr>\n",
              "    <tr>\n",
              "      <th>country</th>\n",
              "      <td>681</td>\n",
              "    </tr>\n",
              "    <tr>\n",
              "      <th>date_added</th>\n",
              "      <td>1565</td>\n",
              "    </tr>\n",
              "    <tr>\n",
              "      <th>release_year</th>\n",
              "      <td>73</td>\n",
              "    </tr>\n",
              "    <tr>\n",
              "      <th>rating</th>\n",
              "      <td>14</td>\n",
              "    </tr>\n",
              "    <tr>\n",
              "      <th>duration</th>\n",
              "      <td>216</td>\n",
              "    </tr>\n",
              "    <tr>\n",
              "      <th>listed_in</th>\n",
              "      <td>492</td>\n",
              "    </tr>\n",
              "    <tr>\n",
              "      <th>description</th>\n",
              "      <td>7769</td>\n",
              "    </tr>\n",
              "  </tbody>\n",
              "</table>\n",
              "</div><br><label><b>dtype:</b> int64</label>"
            ]
          },
          "metadata": {},
          "execution_count": 40
        }
      ]
    },
    {
      "cell_type": "markdown",
      "source": [
        "## 3. ***Data Wrangling***"
      ],
      "metadata": {
        "id": "dauF4eBmngu3"
      }
    },
    {
      "cell_type": "markdown",
      "source": [
        "### Data Wrangling Code"
      ],
      "metadata": {
        "id": "bKJF3rekwFvQ"
      }
    },
    {
      "cell_type": "markdown",
      "source": [
        "**Removal of null values**"
      ],
      "metadata": {
        "id": "9OH71qjM4hPj"
      }
    },
    {
      "cell_type": "code",
      "source": [
        "# let's start with the imputation of the null values in respective columns\n",
        "# First make a copy of original data set to maintain the integrity\n",
        "df_copy = df.copy()\n"
      ],
      "metadata": {
        "id": "bDfekp2RLY48"
      },
      "execution_count": 5,
      "outputs": []
    },
    {
      "cell_type": "markdown",
      "source": [
        "There is a date column in the dataset. So for the date column I used forward filling method for null value imputation"
      ],
      "metadata": {
        "id": "efyktDXsGjKq"
      }
    },
    {
      "cell_type": "code",
      "source": [
        "# Forward-fill null values in a date column\n",
        "df_copy['date_added'] = df_copy['date_added'].fillna(method='ffill')\n",
        "\n",
        "# Now, if you print the dataframe, you will observe that the null values in the date column have been filled using forward-fill\n",
        "print(df_copy)"
      ],
      "metadata": {
        "colab": {
          "base_uri": "https://localhost:8080/"
        },
        "id": "Fo0Puky6F3P8",
        "outputId": "f6495b80-e1f8-4529-8326-818c7c67404c"
      },
      "execution_count": 7,
      "outputs": [
        {
          "output_type": "stream",
          "name": "stdout",
          "text": [
            "     show_id     type                                    title  \\\n",
            "0         s1  TV Show                                       3%   \n",
            "1         s2    Movie                                     7:19   \n",
            "2         s3    Movie                                    23:59   \n",
            "3         s4    Movie                                        9   \n",
            "4         s5    Movie                                       21   \n",
            "...      ...      ...                                      ...   \n",
            "7782   s7783    Movie                                     Zozo   \n",
            "7783   s7784    Movie                                   Zubaan   \n",
            "7784   s7785    Movie                        Zulu Man in Japan   \n",
            "7785   s7786  TV Show                    Zumbo's Just Desserts   \n",
            "7786   s7787    Movie  ZZ TOP: THAT LITTLE OL' BAND FROM TEXAS   \n",
            "\n",
            "               director                                               cast  \\\n",
            "0                   NaN  João Miguel, Bianca Comparato, Michel Gomes, R...   \n",
            "1     Jorge Michel Grau  Demián Bichir, Héctor Bonilla, Oscar Serrano, ...   \n",
            "2          Gilbert Chan  Tedd Chan, Stella Chung, Henley Hii, Lawrence ...   \n",
            "3           Shane Acker  Elijah Wood, John C. Reilly, Jennifer Connelly...   \n",
            "4        Robert Luketic  Jim Sturgess, Kevin Spacey, Kate Bosworth, Aar...   \n",
            "...                 ...                                                ...   \n",
            "7782        Josef Fares  Imad Creidi, Antoinette Turk, Elias Gergi, Car...   \n",
            "7783        Mozez Singh  Vicky Kaushal, Sarah-Jane Dias, Raaghav Chanan...   \n",
            "7784                NaN                                            Nasty C   \n",
            "7785                NaN                         Adriano Zumbo, Rachel Khoo   \n",
            "7786           Sam Dunn                                                NaN   \n",
            "\n",
            "                                                country          date_added  \\\n",
            "0                                                Brazil     August 14, 2020   \n",
            "1                                                Mexico   December 23, 2016   \n",
            "2                                             Singapore   December 20, 2018   \n",
            "3                                         United States   November 16, 2017   \n",
            "4                                         United States     January 1, 2020   \n",
            "...                                                 ...                 ...   \n",
            "7782  Sweden, Czech Republic, United Kingdom, Denmar...    October 19, 2020   \n",
            "7783                                              India       March 2, 2019   \n",
            "7784                                                NaN  September 25, 2020   \n",
            "7785                                          Australia    October 31, 2020   \n",
            "7786              United Kingdom, Canada, United States       March 1, 2020   \n",
            "\n",
            "      release_year rating   duration  \\\n",
            "0             2020  TV-MA  4 Seasons   \n",
            "1             2016  TV-MA     93 min   \n",
            "2             2011      R     78 min   \n",
            "3             2009  PG-13     80 min   \n",
            "4             2008  PG-13    123 min   \n",
            "...            ...    ...        ...   \n",
            "7782          2005  TV-MA     99 min   \n",
            "7783          2015  TV-14    111 min   \n",
            "7784          2019  TV-MA     44 min   \n",
            "7785          2019  TV-PG   1 Season   \n",
            "7786          2019  TV-MA     90 min   \n",
            "\n",
            "                                              listed_in  \\\n",
            "0     International TV Shows, TV Dramas, TV Sci-Fi &...   \n",
            "1                          Dramas, International Movies   \n",
            "2                   Horror Movies, International Movies   \n",
            "3     Action & Adventure, Independent Movies, Sci-Fi...   \n",
            "4                                                Dramas   \n",
            "...                                                 ...   \n",
            "7782                       Dramas, International Movies   \n",
            "7783     Dramas, International Movies, Music & Musicals   \n",
            "7784  Documentaries, International Movies, Music & M...   \n",
            "7785                 International TV Shows, Reality TV   \n",
            "7786                    Documentaries, Music & Musicals   \n",
            "\n",
            "                                            description  \n",
            "0     In a future where the elite inhabit an island ...  \n",
            "1     After a devastating earthquake hits Mexico Cit...  \n",
            "2     When an army recruit is found dead, his fellow...  \n",
            "3     In a postapocalyptic world, rag-doll robots hi...  \n",
            "4     A brilliant group of students become card-coun...  \n",
            "...                                                 ...  \n",
            "7782  When Lebanon's Civil War deprives Zozo of his ...  \n",
            "7783  A scrappy but poor boy worms his way into a ty...  \n",
            "7784  In this documentary, South African rapper Nast...  \n",
            "7785  Dessert wizard Adriano Zumbo looks for the nex...  \n",
            "7786  This documentary delves into the mystique behi...  \n",
            "\n",
            "[7787 rows x 12 columns]\n"
          ]
        },
        {
          "output_type": "stream",
          "name": "stderr",
          "text": [
            "<ipython-input-7-58a8f8680e73>:2: FutureWarning: Series.fillna with 'method' is deprecated and will raise in a future version. Use obj.ffill() or obj.bfill() instead.\n",
            "  df_copy['date_added'] = df_copy['date_added'].fillna(method='ffill')\n"
          ]
        }
      ]
    },
    {
      "cell_type": "markdown",
      "source": [
        "**Why I have choosen using most frequent value strategy for imputation of null values?**"
      ],
      "metadata": {
        "id": "Rd3EYiLy8Rqj"
      }
    },
    {
      "cell_type": "markdown",
      "source": [
        "The technique of imputing missing values via the most frequent value offers several benefits:\n",
        "\n",
        "1. **Preservation of Distribution**: Imputing missing values with the most frequent value helps maintain the original distribution of the dataset. This is particularly beneficial when the variable follows a skewed or non-normal distribution, as more advanced imputation methods may skew the distribution.\n",
        "\n",
        "2. **Robustness to Outliers**: As the imputation approach relies solely on the most frequent value, it is not impacted by outliers within the dataset. It ensures that extreme values do not unduly influence the imputation process.\n",
        "\n",
        "3. **Ease of Implementation**: This method is straightforward to implement and requires minimal computational resources, making it efficient for large datasets.\n",
        "\n",
        "4. **Maintains Validity**: Imputing missing values with the most frequent value is a simple and effective way to fill in data gaps, ensuring that the imputed values are valid and representative of the overall dataset.\n",
        "\n",
        "5. **Useful for Categorical Data**: This imputation method is particularly well-suited for categorical variables, providing a way to handle missing values in a manner that is aligned with the nature of the data.\n",
        "\n",
        "6. **Reduced Information Loss**: Imputing with the most frequent value helps avoid information loss that might occur with other imputation methods, ensuring that the imputed data reflects the overall trends and patterns within the dataset."
      ],
      "metadata": {
        "id": "vauZVK1B9EZ-"
      }
    },
    {
      "cell_type": "code",
      "source": [
        "# Let's do the imputation on the other columns as well\n",
        "# Identify categorical columns to be imputed\n",
        "categorical_columns = ['director', 'rating', 'cast','country']\n",
        "\n",
        "# Create a SimpleImputer instance specifying the imputation strategy (e.g., using the most frequent value - \"most_frequent\")\n",
        "imputer = SimpleImputer(strategy='most_frequent')\n",
        "\n",
        "# Fit and transform the imputer on the categorical columns within the DataFrame\n",
        "df_copy[categorical_columns] = imputer.fit_transform(df_copy[categorical_columns])"
      ],
      "metadata": {
        "id": "i5IvV62rM99e"
      },
      "execution_count": 8,
      "outputs": []
    },
    {
      "cell_type": "code",
      "source": [
        "# Now let's check if there is any null values in the dataset\n",
        "df_copy.isnull().sum()"
      ],
      "metadata": {
        "colab": {
          "base_uri": "https://localhost:8080/",
          "height": 460
        },
        "id": "QJQsbmqFOgBC",
        "outputId": "d56e2a19-b133-4569-fe73-0a77751e5c3b"
      },
      "execution_count": 9,
      "outputs": [
        {
          "output_type": "execute_result",
          "data": {
            "text/plain": [
              "show_id         0\n",
              "type            0\n",
              "title           0\n",
              "director        0\n",
              "cast            0\n",
              "country         0\n",
              "date_added      0\n",
              "release_year    0\n",
              "rating          0\n",
              "duration        0\n",
              "listed_in       0\n",
              "description     0\n",
              "dtype: int64"
            ],
            "text/html": [
              "<div>\n",
              "<style scoped>\n",
              "    .dataframe tbody tr th:only-of-type {\n",
              "        vertical-align: middle;\n",
              "    }\n",
              "\n",
              "    .dataframe tbody tr th {\n",
              "        vertical-align: top;\n",
              "    }\n",
              "\n",
              "    .dataframe thead th {\n",
              "        text-align: right;\n",
              "    }\n",
              "</style>\n",
              "<table border=\"1\" class=\"dataframe\">\n",
              "  <thead>\n",
              "    <tr style=\"text-align: right;\">\n",
              "      <th></th>\n",
              "      <th>0</th>\n",
              "    </tr>\n",
              "  </thead>\n",
              "  <tbody>\n",
              "    <tr>\n",
              "      <th>show_id</th>\n",
              "      <td>0</td>\n",
              "    </tr>\n",
              "    <tr>\n",
              "      <th>type</th>\n",
              "      <td>0</td>\n",
              "    </tr>\n",
              "    <tr>\n",
              "      <th>title</th>\n",
              "      <td>0</td>\n",
              "    </tr>\n",
              "    <tr>\n",
              "      <th>director</th>\n",
              "      <td>0</td>\n",
              "    </tr>\n",
              "    <tr>\n",
              "      <th>cast</th>\n",
              "      <td>0</td>\n",
              "    </tr>\n",
              "    <tr>\n",
              "      <th>country</th>\n",
              "      <td>0</td>\n",
              "    </tr>\n",
              "    <tr>\n",
              "      <th>date_added</th>\n",
              "      <td>0</td>\n",
              "    </tr>\n",
              "    <tr>\n",
              "      <th>release_year</th>\n",
              "      <td>0</td>\n",
              "    </tr>\n",
              "    <tr>\n",
              "      <th>rating</th>\n",
              "      <td>0</td>\n",
              "    </tr>\n",
              "    <tr>\n",
              "      <th>duration</th>\n",
              "      <td>0</td>\n",
              "    </tr>\n",
              "    <tr>\n",
              "      <th>listed_in</th>\n",
              "      <td>0</td>\n",
              "    </tr>\n",
              "    <tr>\n",
              "      <th>description</th>\n",
              "      <td>0</td>\n",
              "    </tr>\n",
              "  </tbody>\n",
              "</table>\n",
              "</div><br><label><b>dtype:</b> int64</label>"
            ]
          },
          "metadata": {},
          "execution_count": 9
        }
      ]
    },
    {
      "cell_type": "code",
      "source": [
        "df_copy.columns"
      ],
      "metadata": {
        "colab": {
          "base_uri": "https://localhost:8080/"
        },
        "id": "6eFn89cI0Sby",
        "outputId": "016c227d-2948-45ef-9f09-3acde8cb1819"
      },
      "execution_count": null,
      "outputs": [
        {
          "output_type": "execute_result",
          "data": {
            "text/plain": [
              "Index(['show_id', 'type', 'title', 'director', 'cast', 'country', 'date_added',\n",
              "       'release_year', 'rating', 'duration', 'listed_in', 'description'],\n",
              "      dtype='object')"
            ]
          },
          "metadata": {},
          "execution_count": 11
        }
      ]
    },
    {
      "cell_type": "code",
      "source": [
        "# Make a dataframe that describes the content distribution over different countries\n",
        "content_count_by_country = df_copy.groupby('country')['type'].count().reset_index()"
      ],
      "metadata": {
        "id": "ci7NMrWiTq_W"
      },
      "execution_count": null,
      "outputs": []
    },
    {
      "cell_type": "code",
      "source": [
        "# Top ten countries with the highest number of content type\n",
        "top_countries = content_count_by_country.nlargest(10, 'type')"
      ],
      "metadata": {
        "id": "ashSf-g9liR5"
      },
      "execution_count": null,
      "outputs": []
    },
    {
      "cell_type": "code",
      "source": [
        "top_countries"
      ],
      "metadata": {
        "colab": {
          "base_uri": "https://localhost:8080/",
          "height": 363
        },
        "id": "7Bvxqq6Flpmp",
        "outputId": "b5c6f454-7b2d-4d1e-cc95-1031130b15bd"
      },
      "execution_count": null,
      "outputs": [
        {
          "output_type": "execute_result",
          "data": {
            "text/plain": [
              "            country  type\n",
              "549   United States  3062\n",
              "229           India   923\n",
              "462  United Kingdom   397\n",
              "291           Japan   226\n",
              "394     South Korea   183\n",
              "51           Canada   177\n",
              "403           Spain   134\n",
              "147          France   115\n",
              "137           Egypt   101\n",
              "308          Mexico   100"
            ],
            "text/html": [
              "\n",
              "  <div id=\"df-907bfce9-5b80-48d6-95af-6f3bfd6ac20f\" class=\"colab-df-container\">\n",
              "    <div>\n",
              "<style scoped>\n",
              "    .dataframe tbody tr th:only-of-type {\n",
              "        vertical-align: middle;\n",
              "    }\n",
              "\n",
              "    .dataframe tbody tr th {\n",
              "        vertical-align: top;\n",
              "    }\n",
              "\n",
              "    .dataframe thead th {\n",
              "        text-align: right;\n",
              "    }\n",
              "</style>\n",
              "<table border=\"1\" class=\"dataframe\">\n",
              "  <thead>\n",
              "    <tr style=\"text-align: right;\">\n",
              "      <th></th>\n",
              "      <th>country</th>\n",
              "      <th>type</th>\n",
              "    </tr>\n",
              "  </thead>\n",
              "  <tbody>\n",
              "    <tr>\n",
              "      <th>549</th>\n",
              "      <td>United States</td>\n",
              "      <td>3062</td>\n",
              "    </tr>\n",
              "    <tr>\n",
              "      <th>229</th>\n",
              "      <td>India</td>\n",
              "      <td>923</td>\n",
              "    </tr>\n",
              "    <tr>\n",
              "      <th>462</th>\n",
              "      <td>United Kingdom</td>\n",
              "      <td>397</td>\n",
              "    </tr>\n",
              "    <tr>\n",
              "      <th>291</th>\n",
              "      <td>Japan</td>\n",
              "      <td>226</td>\n",
              "    </tr>\n",
              "    <tr>\n",
              "      <th>394</th>\n",
              "      <td>South Korea</td>\n",
              "      <td>183</td>\n",
              "    </tr>\n",
              "    <tr>\n",
              "      <th>51</th>\n",
              "      <td>Canada</td>\n",
              "      <td>177</td>\n",
              "    </tr>\n",
              "    <tr>\n",
              "      <th>403</th>\n",
              "      <td>Spain</td>\n",
              "      <td>134</td>\n",
              "    </tr>\n",
              "    <tr>\n",
              "      <th>147</th>\n",
              "      <td>France</td>\n",
              "      <td>115</td>\n",
              "    </tr>\n",
              "    <tr>\n",
              "      <th>137</th>\n",
              "      <td>Egypt</td>\n",
              "      <td>101</td>\n",
              "    </tr>\n",
              "    <tr>\n",
              "      <th>308</th>\n",
              "      <td>Mexico</td>\n",
              "      <td>100</td>\n",
              "    </tr>\n",
              "  </tbody>\n",
              "</table>\n",
              "</div>\n",
              "    <div class=\"colab-df-buttons\">\n",
              "\n",
              "  <div class=\"colab-df-container\">\n",
              "    <button class=\"colab-df-convert\" onclick=\"convertToInteractive('df-907bfce9-5b80-48d6-95af-6f3bfd6ac20f')\"\n",
              "            title=\"Convert this dataframe to an interactive table.\"\n",
              "            style=\"display:none;\">\n",
              "\n",
              "  <svg xmlns=\"http://www.w3.org/2000/svg\" height=\"24px\" viewBox=\"0 -960 960 960\">\n",
              "    <path d=\"M120-120v-720h720v720H120Zm60-500h600v-160H180v160Zm220 220h160v-160H400v160Zm0 220h160v-160H400v160ZM180-400h160v-160H180v160Zm440 0h160v-160H620v160ZM180-180h160v-160H180v160Zm440 0h160v-160H620v160Z\"/>\n",
              "  </svg>\n",
              "    </button>\n",
              "\n",
              "  <style>\n",
              "    .colab-df-container {\n",
              "      display:flex;\n",
              "      gap: 12px;\n",
              "    }\n",
              "\n",
              "    .colab-df-convert {\n",
              "      background-color: #E8F0FE;\n",
              "      border: none;\n",
              "      border-radius: 50%;\n",
              "      cursor: pointer;\n",
              "      display: none;\n",
              "      fill: #1967D2;\n",
              "      height: 32px;\n",
              "      padding: 0 0 0 0;\n",
              "      width: 32px;\n",
              "    }\n",
              "\n",
              "    .colab-df-convert:hover {\n",
              "      background-color: #E2EBFA;\n",
              "      box-shadow: 0px 1px 2px rgba(60, 64, 67, 0.3), 0px 1px 3px 1px rgba(60, 64, 67, 0.15);\n",
              "      fill: #174EA6;\n",
              "    }\n",
              "\n",
              "    .colab-df-buttons div {\n",
              "      margin-bottom: 4px;\n",
              "    }\n",
              "\n",
              "    [theme=dark] .colab-df-convert {\n",
              "      background-color: #3B4455;\n",
              "      fill: #D2E3FC;\n",
              "    }\n",
              "\n",
              "    [theme=dark] .colab-df-convert:hover {\n",
              "      background-color: #434B5C;\n",
              "      box-shadow: 0px 1px 3px 1px rgba(0, 0, 0, 0.15);\n",
              "      filter: drop-shadow(0px 1px 2px rgba(0, 0, 0, 0.3));\n",
              "      fill: #FFFFFF;\n",
              "    }\n",
              "  </style>\n",
              "\n",
              "    <script>\n",
              "      const buttonEl =\n",
              "        document.querySelector('#df-907bfce9-5b80-48d6-95af-6f3bfd6ac20f button.colab-df-convert');\n",
              "      buttonEl.style.display =\n",
              "        google.colab.kernel.accessAllowed ? 'block' : 'none';\n",
              "\n",
              "      async function convertToInteractive(key) {\n",
              "        const element = document.querySelector('#df-907bfce9-5b80-48d6-95af-6f3bfd6ac20f');\n",
              "        const dataTable =\n",
              "          await google.colab.kernel.invokeFunction('convertToInteractive',\n",
              "                                                    [key], {});\n",
              "        if (!dataTable) return;\n",
              "\n",
              "        const docLinkHtml = 'Like what you see? Visit the ' +\n",
              "          '<a target=\"_blank\" href=https://colab.research.google.com/notebooks/data_table.ipynb>data table notebook</a>'\n",
              "          + ' to learn more about interactive tables.';\n",
              "        element.innerHTML = '';\n",
              "        dataTable['output_type'] = 'display_data';\n",
              "        await google.colab.output.renderOutput(dataTable, element);\n",
              "        const docLink = document.createElement('div');\n",
              "        docLink.innerHTML = docLinkHtml;\n",
              "        element.appendChild(docLink);\n",
              "      }\n",
              "    </script>\n",
              "  </div>\n",
              "\n",
              "\n",
              "<div id=\"df-aac2749b-fb45-4207-8230-cfc14fd2a40a\">\n",
              "  <button class=\"colab-df-quickchart\" onclick=\"quickchart('df-aac2749b-fb45-4207-8230-cfc14fd2a40a')\"\n",
              "            title=\"Suggest charts\"\n",
              "            style=\"display:none;\">\n",
              "\n",
              "<svg xmlns=\"http://www.w3.org/2000/svg\" height=\"24px\"viewBox=\"0 0 24 24\"\n",
              "     width=\"24px\">\n",
              "    <g>\n",
              "        <path d=\"M19 3H5c-1.1 0-2 .9-2 2v14c0 1.1.9 2 2 2h14c1.1 0 2-.9 2-2V5c0-1.1-.9-2-2-2zM9 17H7v-7h2v7zm4 0h-2V7h2v10zm4 0h-2v-4h2v4z\"/>\n",
              "    </g>\n",
              "</svg>\n",
              "  </button>\n",
              "\n",
              "<style>\n",
              "  .colab-df-quickchart {\n",
              "      --bg-color: #E8F0FE;\n",
              "      --fill-color: #1967D2;\n",
              "      --hover-bg-color: #E2EBFA;\n",
              "      --hover-fill-color: #174EA6;\n",
              "      --disabled-fill-color: #AAA;\n",
              "      --disabled-bg-color: #DDD;\n",
              "  }\n",
              "\n",
              "  [theme=dark] .colab-df-quickchart {\n",
              "      --bg-color: #3B4455;\n",
              "      --fill-color: #D2E3FC;\n",
              "      --hover-bg-color: #434B5C;\n",
              "      --hover-fill-color: #FFFFFF;\n",
              "      --disabled-bg-color: #3B4455;\n",
              "      --disabled-fill-color: #666;\n",
              "  }\n",
              "\n",
              "  .colab-df-quickchart {\n",
              "    background-color: var(--bg-color);\n",
              "    border: none;\n",
              "    border-radius: 50%;\n",
              "    cursor: pointer;\n",
              "    display: none;\n",
              "    fill: var(--fill-color);\n",
              "    height: 32px;\n",
              "    padding: 0;\n",
              "    width: 32px;\n",
              "  }\n",
              "\n",
              "  .colab-df-quickchart:hover {\n",
              "    background-color: var(--hover-bg-color);\n",
              "    box-shadow: 0 1px 2px rgba(60, 64, 67, 0.3), 0 1px 3px 1px rgba(60, 64, 67, 0.15);\n",
              "    fill: var(--button-hover-fill-color);\n",
              "  }\n",
              "\n",
              "  .colab-df-quickchart-complete:disabled,\n",
              "  .colab-df-quickchart-complete:disabled:hover {\n",
              "    background-color: var(--disabled-bg-color);\n",
              "    fill: var(--disabled-fill-color);\n",
              "    box-shadow: none;\n",
              "  }\n",
              "\n",
              "  .colab-df-spinner {\n",
              "    border: 2px solid var(--fill-color);\n",
              "    border-color: transparent;\n",
              "    border-bottom-color: var(--fill-color);\n",
              "    animation:\n",
              "      spin 1s steps(1) infinite;\n",
              "  }\n",
              "\n",
              "  @keyframes spin {\n",
              "    0% {\n",
              "      border-color: transparent;\n",
              "      border-bottom-color: var(--fill-color);\n",
              "      border-left-color: var(--fill-color);\n",
              "    }\n",
              "    20% {\n",
              "      border-color: transparent;\n",
              "      border-left-color: var(--fill-color);\n",
              "      border-top-color: var(--fill-color);\n",
              "    }\n",
              "    30% {\n",
              "      border-color: transparent;\n",
              "      border-left-color: var(--fill-color);\n",
              "      border-top-color: var(--fill-color);\n",
              "      border-right-color: var(--fill-color);\n",
              "    }\n",
              "    40% {\n",
              "      border-color: transparent;\n",
              "      border-right-color: var(--fill-color);\n",
              "      border-top-color: var(--fill-color);\n",
              "    }\n",
              "    60% {\n",
              "      border-color: transparent;\n",
              "      border-right-color: var(--fill-color);\n",
              "    }\n",
              "    80% {\n",
              "      border-color: transparent;\n",
              "      border-right-color: var(--fill-color);\n",
              "      border-bottom-color: var(--fill-color);\n",
              "    }\n",
              "    90% {\n",
              "      border-color: transparent;\n",
              "      border-bottom-color: var(--fill-color);\n",
              "    }\n",
              "  }\n",
              "</style>\n",
              "\n",
              "  <script>\n",
              "    async function quickchart(key) {\n",
              "      const quickchartButtonEl =\n",
              "        document.querySelector('#' + key + ' button');\n",
              "      quickchartButtonEl.disabled = true;  // To prevent multiple clicks.\n",
              "      quickchartButtonEl.classList.add('colab-df-spinner');\n",
              "      try {\n",
              "        const charts = await google.colab.kernel.invokeFunction(\n",
              "            'suggestCharts', [key], {});\n",
              "      } catch (error) {\n",
              "        console.error('Error during call to suggestCharts:', error);\n",
              "      }\n",
              "      quickchartButtonEl.classList.remove('colab-df-spinner');\n",
              "      quickchartButtonEl.classList.add('colab-df-quickchart-complete');\n",
              "    }\n",
              "    (() => {\n",
              "      let quickchartButtonEl =\n",
              "        document.querySelector('#df-aac2749b-fb45-4207-8230-cfc14fd2a40a button');\n",
              "      quickchartButtonEl.style.display =\n",
              "        google.colab.kernel.accessAllowed ? 'block' : 'none';\n",
              "    })();\n",
              "  </script>\n",
              "</div>\n",
              "\n",
              "  <div id=\"id_53f27e67-3d2e-46b1-b049-8f92005d7cfc\">\n",
              "    <style>\n",
              "      .colab-df-generate {\n",
              "        background-color: #E8F0FE;\n",
              "        border: none;\n",
              "        border-radius: 50%;\n",
              "        cursor: pointer;\n",
              "        display: none;\n",
              "        fill: #1967D2;\n",
              "        height: 32px;\n",
              "        padding: 0 0 0 0;\n",
              "        width: 32px;\n",
              "      }\n",
              "\n",
              "      .colab-df-generate:hover {\n",
              "        background-color: #E2EBFA;\n",
              "        box-shadow: 0px 1px 2px rgba(60, 64, 67, 0.3), 0px 1px 3px 1px rgba(60, 64, 67, 0.15);\n",
              "        fill: #174EA6;\n",
              "      }\n",
              "\n",
              "      [theme=dark] .colab-df-generate {\n",
              "        background-color: #3B4455;\n",
              "        fill: #D2E3FC;\n",
              "      }\n",
              "\n",
              "      [theme=dark] .colab-df-generate:hover {\n",
              "        background-color: #434B5C;\n",
              "        box-shadow: 0px 1px 3px 1px rgba(0, 0, 0, 0.15);\n",
              "        filter: drop-shadow(0px 1px 2px rgba(0, 0, 0, 0.3));\n",
              "        fill: #FFFFFF;\n",
              "      }\n",
              "    </style>\n",
              "    <button class=\"colab-df-generate\" onclick=\"generateWithVariable('top_countries')\"\n",
              "            title=\"Generate code using this dataframe.\"\n",
              "            style=\"display:none;\">\n",
              "\n",
              "  <svg xmlns=\"http://www.w3.org/2000/svg\" height=\"24px\"viewBox=\"0 0 24 24\"\n",
              "       width=\"24px\">\n",
              "    <path d=\"M7,19H8.4L18.45,9,17,7.55,7,17.6ZM5,21V16.75L18.45,3.32a2,2,0,0,1,2.83,0l1.4,1.43a1.91,1.91,0,0,1,.58,1.4,1.91,1.91,0,0,1-.58,1.4L9.25,21ZM18.45,9,17,7.55Zm-12,3A5.31,5.31,0,0,0,4.9,8.1,5.31,5.31,0,0,0,1,6.5,5.31,5.31,0,0,0,4.9,4.9,5.31,5.31,0,0,0,6.5,1,5.31,5.31,0,0,0,8.1,4.9,5.31,5.31,0,0,0,12,6.5,5.46,5.46,0,0,0,6.5,12Z\"/>\n",
              "  </svg>\n",
              "    </button>\n",
              "    <script>\n",
              "      (() => {\n",
              "      const buttonEl =\n",
              "        document.querySelector('#id_53f27e67-3d2e-46b1-b049-8f92005d7cfc button.colab-df-generate');\n",
              "      buttonEl.style.display =\n",
              "        google.colab.kernel.accessAllowed ? 'block' : 'none';\n",
              "\n",
              "      buttonEl.onclick = () => {\n",
              "        google.colab.notebook.generateWithVariable('top_countries');\n",
              "      }\n",
              "      })();\n",
              "    </script>\n",
              "  </div>\n",
              "\n",
              "    </div>\n",
              "  </div>\n"
            ],
            "application/vnd.google.colaboratory.intrinsic+json": {
              "type": "dataframe",
              "variable_name": "top_countries",
              "summary": "{\n  \"name\": \"top_countries\",\n  \"rows\": 10,\n  \"fields\": [\n    {\n      \"column\": \"country\",\n      \"properties\": {\n        \"dtype\": \"string\",\n        \"num_unique_values\": 10,\n        \"samples\": [\n          \"Egypt\",\n          \"India\",\n          \"Canada\"\n        ],\n        \"semantic_type\": \"\",\n        \"description\": \"\"\n      }\n    },\n    {\n      \"column\": \"type\",\n      \"properties\": {\n        \"dtype\": \"number\",\n        \"std\": 919,\n        \"min\": 100,\n        \"max\": 3062,\n        \"num_unique_values\": 10,\n        \"samples\": [\n          101,\n          923,\n          177\n        ],\n        \"semantic_type\": \"\",\n        \"description\": \"\"\n      }\n    }\n  ]\n}"
            }
          },
          "metadata": {},
          "execution_count": 28
        }
      ]
    },
    {
      "cell_type": "code",
      "source": [
        "# Create a bar plot to visualize the count of content types in the top 10 countries\n",
        "plt.figure(figsize=(12, 6))  # Set the size of the plot\n",
        "sns.barplot(x='country', y='type', data=top_countries, palette='viridis')  # Create a bar plot\n",
        "plt.title('Top 10 Countries by Count of Content Types')  # Set the title of the plot\n",
        "plt.xlabel('Count of Content Types')  # Set the label for the x-axis\n",
        "plt.ylabel('Country')  # Set the label for the y-axis\n",
        "plt.show()  # Show the plot"
      ],
      "metadata": {
        "colab": {
          "base_uri": "https://localhost:8080/",
          "height": 676
        },
        "id": "hUhryMQAmmxH",
        "outputId": "8bfda00f-9eab-4885-c6ad-ca8bed23e39c"
      },
      "execution_count": null,
      "outputs": [
        {
          "output_type": "stream",
          "name": "stderr",
          "text": [
            "<ipython-input-29-e4cd8102f4e1>:3: FutureWarning: \n",
            "\n",
            "Passing `palette` without assigning `hue` is deprecated and will be removed in v0.14.0. Assign the `x` variable to `hue` and set `legend=False` for the same effect.\n",
            "\n",
            "  sns.barplot(x='country', y='type', data=top_countries, palette='viridis')  # Create a bar plot\n"
          ]
        },
        {
          "output_type": "display_data",
          "data": {
            "text/plain": [
              "<Figure size 1200x600 with 1 Axes>"
            ],
            "image/png": "[encoded data removed]"
          },
          "metadata": {}
        }
      ]
    },
    {
      "cell_type": "markdown",
      "source": [
        "**why I have made this chart?**"
      ],
      "metadata": {
        "id": "pFwX7isZ9pKC"
      }
    },
    {
      "cell_type": "markdown",
      "source": [
        "\n",
        "\n",
        "1. **Content Strategy**: The plot helps in understanding the popularity of content types in different countries. This insight can guide decisions relating to content acquisition, production, or licensing to cater to the preferences of local audiences. For instance, if TV shows are more popular than movies in a particular country, the platform might prioritize adding or producing more TV shows for that market.\n",
        "\n",
        "2. **Localization Efforts**: Understanding content preferences by region can aid in localization efforts. This insight might prompt the platform to focus on adding more localized or culturally relevant content in regions where it is most sought after.\n",
        "\n",
        "3. **Marketing and Promotion**: Insights from this plot can be used to tailor marketing and promotional campaigns. For example, if a country shows a strong preference for TV shows, marketing efforts can be adjusted to highlight the TV show catalog for that region.\n",
        "\n",
        "4. **Audience Engagement**: By aligning the content offering with audience preferences, the platform can enhance user engagement and satisfaction. This, in turn, can positively impact user retention and customer satisfaction metrics.\n",
        "\n",
        "5. **Revenue and Subscriber Growth**: Ultimately, catering to specific content preferences can lead to increased viewership and potentially drive subscription growth, thereby impacting the platform's revenue."
      ],
      "metadata": {
        "id": "oVwJOXzudPqp"
      }
    },
    {
      "cell_type": "code",
      "source": [
        "# Count of TV shows and movies over recent years\n",
        "content_count_by_year = df_copy.groupby(df_copy['release_year'])['type'].value_counts().unstack()\n",
        "\n"
      ],
      "metadata": {
        "id": "NfDS748wm4iu"
      },
      "execution_count": null,
      "outputs": []
    },
    {
      "cell_type": "code",
      "source": [
        "# Let's see the recent years stats\n",
        "recent_years = content_count_by_year.tail(10)"
      ],
      "metadata": {
        "id": "Tu3Kn9XOrd-P"
      },
      "execution_count": null,
      "outputs": []
    },
    {
      "cell_type": "code",
      "source": [
        "recent_years"
      ],
      "metadata": {
        "colab": {
          "base_uri": "https://localhost:8080/",
          "height": 394
        },
        "id": "vpeV-3Jor9qp",
        "outputId": "c0760cfd-64b6-4638-8c13-ef4d1578dd0d"
      },
      "execution_count": null,
      "outputs": [
        {
          "output_type": "execute_result",
          "data": {
            "text/plain": [
              "type          Movie  TV Show\n",
              "release_year                \n",
              "2012          158.0     61.0\n",
              "2013          202.0     65.0\n",
              "2014          244.0     90.0\n",
              "2015          382.0    159.0\n",
              "2016          642.0    240.0\n",
              "2017          744.0    268.0\n",
              "2018          734.0    387.0\n",
              "2019          582.0    414.0\n",
              "2020          411.0    457.0\n",
              "2021           12.0     19.0"
            ],
            "text/html": [
              "\n",
              "  <div id=\"df-2564cc97-2670-46b8-a717-518ad61e3e3c\" class=\"colab-df-container\">\n",
              "    <div>\n",
              "<style scoped>\n",
              "    .dataframe tbody tr th:only-of-type {\n",
              "        vertical-align: middle;\n",
              "    }\n",
              "\n",
              "    .dataframe tbody tr th {\n",
              "        vertical-align: top;\n",
              "    }\n",
              "\n",
              "    .dataframe thead th {\n",
              "        text-align: right;\n",
              "    }\n",
              "</style>\n",
              "<table border=\"1\" class=\"dataframe\">\n",
              "  <thead>\n",
              "    <tr style=\"text-align: right;\">\n",
              "      <th>type</th>\n",
              "      <th>Movie</th>\n",
              "      <th>TV Show</th>\n",
              "    </tr>\n",
              "    <tr>\n",
              "      <th>release_year</th>\n",
              "      <th></th>\n",
              "      <th></th>\n",
              "    </tr>\n",
              "  </thead>\n",
              "  <tbody>\n",
              "    <tr>\n",
              "      <th>2012</th>\n",
              "      <td>158.0</td>\n",
              "      <td>61.0</td>\n",
              "    </tr>\n",
              "    <tr>\n",
              "      <th>2013</th>\n",
              "      <td>202.0</td>\n",
              "      <td>65.0</td>\n",
              "    </tr>\n",
              "    <tr>\n",
              "      <th>2014</th>\n",
              "      <td>244.0</td>\n",
              "      <td>90.0</td>\n",
              "    </tr>\n",
              "    <tr>\n",
              "      <th>2015</th>\n",
              "      <td>382.0</td>\n",
              "      <td>159.0</td>\n",
              "    </tr>\n",
              "    <tr>\n",
              "      <th>2016</th>\n",
              "      <td>642.0</td>\n",
              "      <td>240.0</td>\n",
              "    </tr>\n",
              "    <tr>\n",
              "      <th>2017</th>\n",
              "      <td>744.0</td>\n",
              "      <td>268.0</td>\n",
              "    </tr>\n",
              "    <tr>\n",
              "      <th>2018</th>\n",
              "      <td>734.0</td>\n",
              "      <td>387.0</td>\n",
              "    </tr>\n",
              "    <tr>\n",
              "      <th>2019</th>\n",
              "      <td>582.0</td>\n",
              "      <td>414.0</td>\n",
              "    </tr>\n",
              "    <tr>\n",
              "      <th>2020</th>\n",
              "      <td>411.0</td>\n",
              "      <td>457.0</td>\n",
              "    </tr>\n",
              "    <tr>\n",
              "      <th>2021</th>\n",
              "      <td>12.0</td>\n",
              "      <td>19.0</td>\n",
              "    </tr>\n",
              "  </tbody>\n",
              "</table>\n",
              "</div>\n",
              "    <div class=\"colab-df-buttons\">\n",
              "\n",
              "  <div class=\"colab-df-container\">\n",
              "    <button class=\"colab-df-convert\" onclick=\"convertToInteractive('df-2564cc97-2670-46b8-a717-518ad61e3e3c')\"\n",
              "            title=\"Convert this dataframe to an interactive table.\"\n",
              "            style=\"display:none;\">\n",
              "\n",
              "  <svg xmlns=\"http://www.w3.org/2000/svg\" height=\"24px\" viewBox=\"0 -960 960 960\">\n",
              "    <path d=\"M120-120v-720h720v720H120Zm60-500h600v-160H180v160Zm220 220h160v-160H400v160Zm0 220h160v-160H400v160ZM180-400h160v-160H180v160Zm440 0h160v-160H620v160ZM180-180h160v-160H180v160Zm440 0h160v-160H620v160Z\"/>\n",
              "  </svg>\n",
              "    </button>\n",
              "\n",
              "  <style>\n",
              "    .colab-df-container {\n",
              "      display:flex;\n",
              "      gap: 12px;\n",
              "    }\n",
              "\n",
              "    .colab-df-convert {\n",
              "      background-color: #E8F0FE;\n",
              "      border: none;\n",
              "      border-radius: 50%;\n",
              "      cursor: pointer;\n",
              "      display: none;\n",
              "      fill: #1967D2;\n",
              "      height: 32px;\n",
              "      padding: 0 0 0 0;\n",
              "      width: 32px;\n",
              "    }\n",
              "\n",
              "    .colab-df-convert:hover {\n",
              "      background-color: #E2EBFA;\n",
              "      box-shadow: 0px 1px 2px rgba(60, 64, 67, 0.3), 0px 1px 3px 1px rgba(60, 64, 67, 0.15);\n",
              "      fill: #174EA6;\n",
              "    }\n",
              "\n",
              "    .colab-df-buttons div {\n",
              "      margin-bottom: 4px;\n",
              "    }\n",
              "\n",
              "    [theme=dark] .colab-df-convert {\n",
              "      background-color: #3B4455;\n",
              "      fill: #D2E3FC;\n",
              "    }\n",
              "\n",
              "    [theme=dark] .colab-df-convert:hover {\n",
              "      background-color: #434B5C;\n",
              "      box-shadow: 0px 1px 3px 1px rgba(0, 0, 0, 0.15);\n",
              "      filter: drop-shadow(0px 1px 2px rgba(0, 0, 0, 0.3));\n",
              "      fill: #FFFFFF;\n",
              "    }\n",
              "  </style>\n",
              "\n",
              "    <script>\n",
              "      const buttonEl =\n",
              "        document.querySelector('#df-2564cc97-2670-46b8-a717-518ad61e3e3c button.colab-df-convert');\n",
              "      buttonEl.style.display =\n",
              "        google.colab.kernel.accessAllowed ? 'block' : 'none';\n",
              "\n",
              "      async function convertToInteractive(key) {\n",
              "        const element = document.querySelector('#df-2564cc97-2670-46b8-a717-518ad61e3e3c');\n",
              "        const dataTable =\n",
              "          await google.colab.kernel.invokeFunction('convertToInteractive',\n",
              "                                                    [key], {});\n",
              "        if (!dataTable) return;\n",
              "\n",
              "        const docLinkHtml = 'Like what you see? Visit the ' +\n",
              "          '<a target=\"_blank\" href=https://colab.research.google.com/notebooks/data_table.ipynb>data table notebook</a>'\n",
              "          + ' to learn more about interactive tables.';\n",
              "        element.innerHTML = '';\n",
              "        dataTable['output_type'] = 'display_data';\n",
              "        await google.colab.output.renderOutput(dataTable, element);\n",
              "        const docLink = document.createElement('div');\n",
              "        docLink.innerHTML = docLinkHtml;\n",
              "        element.appendChild(docLink);\n",
              "      }\n",
              "    </script>\n",
              "  </div>\n",
              "\n",
              "\n",
              "<div id=\"df-cf8ac8af-5f9b-4b0a-8085-99d6d5e0cb60\">\n",
              "  <button class=\"colab-df-quickchart\" onclick=\"quickchart('df-cf8ac8af-5f9b-4b0a-8085-99d6d5e0cb60')\"\n",
              "            title=\"Suggest charts\"\n",
              "            style=\"display:none;\">\n",
              "\n",
              "<svg xmlns=\"http://www.w3.org/2000/svg\" height=\"24px\"viewBox=\"0 0 24 24\"\n",
              "     width=\"24px\">\n",
              "    <g>\n",
              "        <path d=\"M19 3H5c-1.1 0-2 .9-2 2v14c0 1.1.9 2 2 2h14c1.1 0 2-.9 2-2V5c0-1.1-.9-2-2-2zM9 17H7v-7h2v7zm4 0h-2V7h2v10zm4 0h-2v-4h2v4z\"/>\n",
              "    </g>\n",
              "</svg>\n",
              "  </button>\n",
              "\n",
              "<style>\n",
              "  .colab-df-quickchart {\n",
              "      --bg-color: #E8F0FE;\n",
              "      --fill-color: #1967D2;\n",
              "      --hover-bg-color: #E2EBFA;\n",
              "      --hover-fill-color: #174EA6;\n",
              "      --disabled-fill-color: #AAA;\n",
              "      --disabled-bg-color: #DDD;\n",
              "  }\n",
              "\n",
              "  [theme=dark] .colab-df-quickchart {\n",
              "      --bg-color: #3B4455;\n",
              "      --fill-color: #D2E3FC;\n",
              "      --hover-bg-color: #434B5C;\n",
              "      --hover-fill-color: #FFFFFF;\n",
              "      --disabled-bg-color: #3B4455;\n",
              "      --disabled-fill-color: #666;\n",
              "  }\n",
              "\n",
              "  .colab-df-quickchart {\n",
              "    background-color: var(--bg-color);\n",
              "    border: none;\n",
              "    border-radius: 50%;\n",
              "    cursor: pointer;\n",
              "    display: none;\n",
              "    fill: var(--fill-color);\n",
              "    height: 32px;\n",
              "    padding: 0;\n",
              "    width: 32px;\n",
              "  }\n",
              "\n",
              "  .colab-df-quickchart:hover {\n",
              "    background-color: var(--hover-bg-color);\n",
              "    box-shadow: 0 1px 2px rgba(60, 64, 67, 0.3), 0 1px 3px 1px rgba(60, 64, 67, 0.15);\n",
              "    fill: var(--button-hover-fill-color);\n",
              "  }\n",
              "\n",
              "  .colab-df-quickchart-complete:disabled,\n",
              "  .colab-df-quickchart-complete:disabled:hover {\n",
              "    background-color: var(--disabled-bg-color);\n",
              "    fill: var(--disabled-fill-color);\n",
              "    box-shadow: none;\n",
              "  }\n",
              "\n",
              "  .colab-df-spinner {\n",
              "    border: 2px solid var(--fill-color);\n",
              "    border-color: transparent;\n",
              "    border-bottom-color: var(--fill-color);\n",
              "    animation:\n",
              "      spin 1s steps(1) infinite;\n",
              "  }\n",
              "\n",
              "  @keyframes spin {\n",
              "    0% {\n",
              "      border-color: transparent;\n",
              "      border-bottom-color: var(--fill-color);\n",
              "      border-left-color: var(--fill-color);\n",
              "    }\n",
              "    20% {\n",
              "      border-color: transparent;\n",
              "      border-left-color: var(--fill-color);\n",
              "      border-top-color: var(--fill-color);\n",
              "    }\n",
              "    30% {\n",
              "      border-color: transparent;\n",
              "      border-left-color: var(--fill-color);\n",
              "      border-top-color: var(--fill-color);\n",
              "      border-right-color: var(--fill-color);\n",
              "    }\n",
              "    40% {\n",
              "      border-color: transparent;\n",
              "      border-right-color: var(--fill-color);\n",
              "      border-top-color: var(--fill-color);\n",
              "    }\n",
              "    60% {\n",
              "      border-color: transparent;\n",
              "      border-right-color: var(--fill-color);\n",
              "    }\n",
              "    80% {\n",
              "      border-color: transparent;\n",
              "      border-right-color: var(--fill-color);\n",
              "      border-bottom-color: var(--fill-color);\n",
              "    }\n",
              "    90% {\n",
              "      border-color: transparent;\n",
              "      border-bottom-color: var(--fill-color);\n",
              "    }\n",
              "  }\n",
              "</style>\n",
              "\n",
              "  <script>\n",
              "    async function quickchart(key) {\n",
              "      const quickchartButtonEl =\n",
              "        document.querySelector('#' + key + ' button');\n",
              "      quickchartButtonEl.disabled = true;  // To prevent multiple clicks.\n",
              "      quickchartButtonEl.classList.add('colab-df-spinner');\n",
              "      try {\n",
              "        const charts = await google.colab.kernel.invokeFunction(\n",
              "            'suggestCharts', [key], {});\n",
              "      } catch (error) {\n",
              "        console.error('Error during call to suggestCharts:', error);\n",
              "      }\n",
              "      quickchartButtonEl.classList.remove('colab-df-spinner');\n",
              "      quickchartButtonEl.classList.add('colab-df-quickchart-complete');\n",
              "    }\n",
              "    (() => {\n",
              "      let quickchartButtonEl =\n",
              "        document.querySelector('#df-cf8ac8af-5f9b-4b0a-8085-99d6d5e0cb60 button');\n",
              "      quickchartButtonEl.style.display =\n",
              "        google.colab.kernel.accessAllowed ? 'block' : 'none';\n",
              "    })();\n",
              "  </script>\n",
              "</div>\n",
              "\n",
              "  <div id=\"id_690ef816-f276-4f0b-8434-face5335608d\">\n",
              "    <style>\n",
              "      .colab-df-generate {\n",
              "        background-color: #E8F0FE;\n",
              "        border: none;\n",
              "        border-radius: 50%;\n",
              "        cursor: pointer;\n",
              "        display: none;\n",
              "        fill: #1967D2;\n",
              "        height: 32px;\n",
              "        padding: 0 0 0 0;\n",
              "        width: 32px;\n",
              "      }\n",
              "\n",
              "      .colab-df-generate:hover {\n",
              "        background-color: #E2EBFA;\n",
              "        box-shadow: 0px 1px 2px rgba(60, 64, 67, 0.3), 0px 1px 3px 1px rgba(60, 64, 67, 0.15);\n",
              "        fill: #174EA6;\n",
              "      }\n",
              "\n",
              "      [theme=dark] .colab-df-generate {\n",
              "        background-color: #3B4455;\n",
              "        fill: #D2E3FC;\n",
              "      }\n",
              "\n",
              "      [theme=dark] .colab-df-generate:hover {\n",
              "        background-color: #434B5C;\n",
              "        box-shadow: 0px 1px 3px 1px rgba(0, 0, 0, 0.15);\n",
              "        filter: drop-shadow(0px 1px 2px rgba(0, 0, 0, 0.3));\n",
              "        fill: #FFFFFF;\n",
              "      }\n",
              "    </style>\n",
              "    <button class=\"colab-df-generate\" onclick=\"generateWithVariable('recent_years')\"\n",
              "            title=\"Generate code using this dataframe.\"\n",
              "            style=\"display:none;\">\n",
              "\n",
              "  <svg xmlns=\"http://www.w3.org/2000/svg\" height=\"24px\"viewBox=\"0 0 24 24\"\n",
              "       width=\"24px\">\n",
              "    <path d=\"M7,19H8.4L18.45,9,17,7.55,7,17.6ZM5,21V16.75L18.45,3.32a2,2,0,0,1,2.83,0l1.4,1.43a1.91,1.91,0,0,1,.58,1.4,1.91,1.91,0,0,1-.58,1.4L9.25,21ZM18.45,9,17,7.55Zm-12,3A5.31,5.31,0,0,0,4.9,8.1,5.31,5.31,0,0,0,1,6.5,5.31,5.31,0,0,0,4.9,4.9,5.31,5.31,0,0,0,6.5,1,5.31,5.31,0,0,0,8.1,4.9,5.31,5.31,0,0,0,12,6.5,5.46,5.46,0,0,0,6.5,12Z\"/>\n",
              "  </svg>\n",
              "    </button>\n",
              "    <script>\n",
              "      (() => {\n",
              "      const buttonEl =\n",
              "        document.querySelector('#id_690ef816-f276-4f0b-8434-face5335608d button.colab-df-generate');\n",
              "      buttonEl.style.display =\n",
              "        google.colab.kernel.accessAllowed ? 'block' : 'none';\n",
              "\n",
              "      buttonEl.onclick = () => {\n",
              "        google.colab.notebook.generateWithVariable('recent_years');\n",
              "      }\n",
              "      })();\n",
              "    </script>\n",
              "  </div>\n",
              "\n",
              "    </div>\n",
              "  </div>\n"
            ],
            "application/vnd.google.colaboratory.intrinsic+json": {
              "type": "dataframe",
              "variable_name": "recent_years",
              "summary": "{\n  \"name\": \"recent_years\",\n  \"rows\": 10,\n  \"fields\": [\n    {\n      \"column\": \"release_year\",\n      \"properties\": {\n        \"dtype\": \"number\",\n        \"std\": 3,\n        \"min\": 2012,\n        \"max\": 2021,\n        \"num_unique_values\": 10,\n        \"samples\": [\n          2020,\n          2013,\n          2017\n        ],\n        \"semantic_type\": \"\",\n        \"description\": \"\"\n      }\n    },\n    {\n      \"column\": \"Movie\",\n      \"properties\": {\n        \"dtype\": \"number\",\n        \"std\": 256.78371789850263,\n        \"min\": 12.0,\n        \"max\": 744.0,\n        \"num_unique_values\": 10,\n        \"samples\": [\n          411.0,\n          202.0,\n          744.0\n        ],\n        \"semantic_type\": \"\",\n        \"description\": \"\"\n      }\n    },\n    {\n      \"column\": \"TV Show\",\n      \"properties\": {\n        \"dtype\": \"number\",\n        \"std\": 161.44004735160632,\n        \"min\": 19.0,\n        \"max\": 457.0,\n        \"num_unique_values\": 10,\n        \"samples\": [\n          457.0,\n          65.0,\n          268.0\n        ],\n        \"semantic_type\": \"\",\n        \"description\": \"\"\n      }\n    }\n  ]\n}"
            }
          },
          "metadata": {},
          "execution_count": 76
        }
      ]
    },
    {
      "cell_type": "code",
      "source": [
        "# Assuming you have created the content_count_by_year DataFrame\n",
        "plt.figure(figsize=(12, 8))  # Set the size of the plot\n",
        "plt.plot(recent_years['TV Show'], marker='o', linestyle='-', color='b', label='TV Show')  # Plot TV shows\n",
        "plt.plot(recent_years['Movie'], marker='o', linestyle='-', color='g', label='Movie')  # Plot movies\n",
        "plt.title('Count of TV Shows and Movies over Recent Years')  # Set the title of the plot\n",
        "plt.xlabel('release_year')  # Set the label for the x-axis\n",
        "plt.ylabel('Count')  # Set the label for the y-axis\n",
        "plt.legend()  # Show the legend\n",
        "plt.grid(True)  # Add grid\n",
        "plt.show()  # Show the plot"
      ],
      "metadata": {
        "colab": {
          "base_uri": "https://localhost:8080/",
          "height": 723
        },
        "id": "c8KSDAMBtnE3",
        "outputId": "1242dcaa-b980-492d-ae70-ef01aab6b902"
      },
      "execution_count": null,
      "outputs": [
        {
          "output_type": "display_data",
          "data": {
            "text/plain": [
              "<Figure size 1200x800 with 1 Axes>"
            ],
            "image/png": "[encoded data removed]"
          },
          "metadata": {}
        }
      ]
    },
    {
      "cell_type": "markdown",
      "source": [
        "**Why I have choosen this chart?**"
      ],
      "metadata": {
        "id": "Xj2D6s3z_xxj"
      }
    },
    {
      "cell_type": "markdown",
      "source": [
        "Business Impact:\n",
        "\n",
        "1. **Content Investment**: Understanding the trend in TV shows and movies over recent years can guide content investment decisions. If TV shows have seen a surge in popularity, the platform might prioritize funding and producing more original TV show content, reflecting evolving viewer preferences.\n",
        "\n",
        "2. **User Acquisition and Retention**: Insights from this chart can be used to tailor user acquisition and retention strategies. For instance, if there is a noticeable uptick in movie releases, marketing efforts could be adjusted to highlight the movie catalog, attracting audiences who favor this content type.\n",
        "\n",
        "3. **Licensing and Partnerships**: Observing trends in TV shows and movies can inform licensing and partnership decisions. If there is an increasing audience preference for movies, the platform might seek out partnerships or exclusive licensing deals for high-demand movie titles.\n",
        "\n",
        "4. **Platform Differentiation**: The analysis can also help differentiate the platform from competitors by offering a unique content mix in alignment with current viewer trends. For example, if TV shows are trending, the platform could focus on acquiring exclusive rights to popular TV show franchises.\n",
        "\n",
        "5. **Revenue Streams**: By adapting the content library to reflect the emerging trends, platforms can drive revenue from advertising, subscriptions, and content sales, potentially boosting profitability."
      ],
      "metadata": {
        "id": "EAnN8m2A_-Fq"
      }
    },
    {
      "cell_type": "code",
      "source": [
        "# let's see the rating of the content\n",
        "content_count_by_rating = df_copy.groupby('rating')['type'].count().reset_index()"
      ],
      "metadata": {
        "id": "m1BGhF80U5DS"
      },
      "execution_count": null,
      "outputs": []
    },
    {
      "cell_type": "code",
      "source": [
        "# Sort the dataframe by rating count in descending order\n",
        "top_five_rating = content_count_by_rating.sort_values(by='type', ascending=False).head(5)\n",
        "\n",
        "# Display the top five content by rating count\n",
        "print(top_five_rating)"
      ],
      "metadata": {
        "colab": {
          "base_uri": "https://localhost:8080/"
        },
        "id": "PySL-ee-YW0e",
        "outputId": "8c163774-de30-41be-bd30-11d79948c270"
      },
      "execution_count": null,
      "outputs": [
        {
          "output_type": "stream",
          "name": "stdout",
          "text": [
            "  rating  type\n",
            "8  TV-MA  2863\n",
            "6  TV-14  1931\n",
            "9  TV-PG   806\n",
            "5      R   665\n",
            "4  PG-13   386\n"
          ]
        }
      ]
    },
    {
      "cell_type": "code",
      "source": [
        "\n",
        "# Define colors for each bar\n",
        "colors = ['skyblue', 'lightgreen', 'lightcoral', 'lightsalmon', 'lightseagreen']\n",
        "\n",
        "# Create a bar plot with different colors for each bar\n",
        "plt.figure(figsize=(10, 6))  # Set the figure size\n",
        "\n",
        "bars = plt.bar(top_five_rating['rating'], top_five_rating['type'], color=colors)\n",
        "\n",
        "# Add title and labels\n",
        "plt.title('Top Five rating by content Count')\n",
        "plt.xlabel('Rating')\n",
        "plt.ylabel('Content Count')\n",
        "\n",
        "# Customizing the colors\n",
        "for bar, color in zip(bars, colors):\n",
        "    bar.set_color(color)\n",
        "\n",
        "# Show the plot\n",
        "plt.show()"
      ],
      "metadata": {
        "colab": {
          "base_uri": "https://localhost:8080/",
          "height": 569
        },
        "id": "bMW8nCnoZdTK",
        "outputId": "7c782ab7-04b2-4334-be44-c9e5e2309e0a"
      },
      "execution_count": null,
      "outputs": [
        {
          "output_type": "display_data",
          "data": {
            "text/plain": [
              "<Figure size 1000x600 with 1 Axes>"
            ],
            "image/png": "[encoded data removed]"
          },
          "metadata": {}
        }
      ]
    },
    {
      "cell_type": "markdown",
      "source": [
        "This chart showcasing the top five content by rating count has an important impact on business for several reasons:\n",
        "\n",
        "1. **Strategic Decision-Making**: By visualizing the top-performing content, business stakeholders can make informed decisions about future content acquisition, production, or investment, focusing on the types of content that resonate most with their audience.\n",
        "\n",
        "2. **Revenue Optimization**: Identifying top-rated content helps in optimizing revenue streams. It allows the business to prioritize and allocate resources effectively, capitalizing on high-performing content to drive subscriptions, viewership, or sales.\n",
        "\n",
        "3. **Content Planning**: Insights from the chart can guide content planning and programming decisions, enabling the business to curate a well-balanced and engaging content library that aligns with audience preferences.\n",
        "\n",
        "4. **Marketing Strategies**: Understanding the popularity of specific content types can inform marketing strategies, leading to targeted promotional efforts and improved customer engagement.\n",
        "\n",
        "5. **Competitive Advantage**: Recognizing the top-performing content provides a competitive advantage, allowing businesses to differentiate their offerings and gain an edge in the market by honing in on content that resonates with their audience.\n",
        "\n",
        "6. **Evaluating Investment**: The visualization helps in evaluating the return on investment for different types of content, aiding in better resource allocation and future investment decisions.\n",
        "\n",
        "In summary, visualizing the top content by rating count is crucial for strategic, financial, and operational decision-making, providing actionable insights that can drive the business forward and enhance its position in the market."
      ],
      "metadata": {
        "id": "UQLwrnvpe5ai"
      }
    },
    {
      "cell_type": "code",
      "source": [
        "# Group by 'director' and count the occurrences of 'type' for each director\n",
        "director_df = df_copy.groupby('director')['type'].count().reset_index().rename(columns={'type': 'content_count'})\n",
        "\n",
        "# Get the top five directors based on content count\n",
        "top_five_directors = director_df.nlargest(5, 'content_count')\n",
        "\n",
        "# Display the top five directors\n",
        "print(top_five_directors)"
      ],
      "metadata": {
        "colab": {
          "base_uri": "https://localhost:8080/"
        },
        "id": "ch1wniwqgbWv",
        "outputId": "1686f976-1941-4f95-ca89-74e55bb17b0c"
      },
      "execution_count": null,
      "outputs": [
        {
          "output_type": "stream",
          "name": "stdout",
          "text": [
            "                    director  content_count\n",
            "3078  Raúl Campos, Jan Suter             18\n",
            "2321            Marcus Raboy             16\n",
            "1607               Jay Karas             14\n",
            "624      Cathy Garcia-Molina             13\n",
            "1604             Jay Chapman             12\n"
          ]
        }
      ]
    },
    {
      "cell_type": "code",
      "source": [
        "\n",
        "\n",
        "# Define colors for each bar\n",
        "colors = ['pink', 'lightgreen', 'red', 'orange', 'lightseagreen']\n",
        "\n",
        "# Create a bar plot with different colors for each bar\n",
        "plt.figure(figsize=(10, 6))  # Set the figure size\n",
        "\n",
        "bars = plt.bar(top_five_directors['director'], top_five_directors['content_count'], color=colors)\n",
        "\n",
        "# Add title and labels\n",
        "plt.title('Top Five Directors by Content Count')\n",
        "plt.xlabel('Director')\n",
        "plt.ylabel('Content Count')\n",
        "\n",
        "# Rotate x-labels for better readability (if needed)\n",
        "plt.xticks(rotation=45)\n",
        "\n",
        "# Customizing the bar colors\n",
        "for bar, color in zip(bars, colors):\n",
        "    bar.set_color(color)\n",
        "\n",
        "# Show the plot\n",
        "plt.show()"
      ],
      "metadata": {
        "colab": {
          "base_uri": "https://localhost:8080/",
          "height": 681
        },
        "id": "1MkXumLgg-Li",
        "outputId": "6d596ecc-91ee-4280-ac6e-17871d5eabbb"
      },
      "execution_count": null,
      "outputs": [
        {
          "output_type": "display_data",
          "data": {
            "text/plain": [
              "<Figure size 1000x600 with 1 Axes>"
            ],
            "image/png": "[encoded data removed]"
          },
          "metadata": {}
        }
      ]
    },
    {
      "cell_type": "markdown",
      "source": [
        "The visualization of the top directors based on content count can have several positive impacts on a business:\n",
        "\n",
        "1. **Efficient Resource Allocation**: Businesses can identify top-performing directors, enabling them to allocate resources effectively by investing in projects led by these directors, potentially increasing the likelihood of producing successful content.\n",
        "\n",
        "2. **Strategic Partnerships**: Visualization highlighting top directors can help in forming strategic partnerships with accomplished directors, leading to potential collaborations, exclusive content, and long-term relationships that benefit the business.\n",
        "\n",
        "3. **Content Planning**: Insights from the chart can guide content planning and programming decisions, enabling the business to understand which directors are driving the most content and tailor future content acquisition or production strategies accordingly.\n",
        "\n",
        "4. **Marketing and Promotion**: The identification of successful directors can influence marketing strategies, leading to targeted promotions surrounding content associated with these directors, potentially increasing visibility and audience engagement.\n",
        "\n",
        "5. **Audience Engagement**: Leveraging successful directors can positively impact audience engagement. Recognizing and promoting content from top directors can attract and retain viewership, leading to improved user satisfaction and potentially boosting subscriptions or viewership metrics.\n",
        "\n",
        "6. **Financial Decision-Making**: Understanding the impact of directors on content count can drive informed financial decisions, helping in assessing future investment options and ROI expectations tied to specific directorial talent.\n",
        "\n",
        "7. **Competitive Advantage**: Recognizing top directors provides a competitive advantage, allowing businesses to differentiate their offerings, attract top talent, and potentially secure an edge in the market.\n",
        "\n",
        "In summary, visualizing the top directors based on content count has a significant impact on business by influencing resource allocation, strategic partnerships, content planning, marketing strategies, audience engagement, financial decision-making, and competitive advantage."
      ],
      "metadata": {
        "id": "p8CddrTPiJJ6"
      }
    },
    {
      "cell_type": "code",
      "source": [
        "# Basic summary statistics of the dataset\n",
        "df_copy.describe()"
      ],
      "metadata": {
        "colab": {
          "base_uri": "https://localhost:8080/",
          "height": 300
        },
        "id": "Fct8fpyJy-hm",
        "outputId": "cd6c67c3-9e96-4275-d3c9-0db90349d12b"
      },
      "execution_count": null,
      "outputs": [
        {
          "output_type": "execute_result",
          "data": {
            "text/plain": [
              "       release_year\n",
              "count   7787.000000\n",
              "mean    2013.932580\n",
              "std        8.757395\n",
              "min     1925.000000\n",
              "25%     2013.000000\n",
              "50%     2017.000000\n",
              "75%     2018.000000\n",
              "max     2021.000000"
            ],
            "text/html": [
              "\n",
              "  <div id=\"df-b54b7b17-0b25-4b04-98fc-e27cbeabdc19\" class=\"colab-df-container\">\n",
              "    <div>\n",
              "<style scoped>\n",
              "    .dataframe tbody tr th:only-of-type {\n",
              "        vertical-align: middle;\n",
              "    }\n",
              "\n",
              "    .dataframe tbody tr th {\n",
              "        vertical-align: top;\n",
              "    }\n",
              "\n",
              "    .dataframe thead th {\n",
              "        text-align: right;\n",
              "    }\n",
              "</style>\n",
              "<table border=\"1\" class=\"dataframe\">\n",
              "  <thead>\n",
              "    <tr style=\"text-align: right;\">\n",
              "      <th></th>\n",
              "      <th>release_year</th>\n",
              "    </tr>\n",
              "  </thead>\n",
              "  <tbody>\n",
              "    <tr>\n",
              "      <th>count</th>\n",
              "      <td>7787.000000</td>\n",
              "    </tr>\n",
              "    <tr>\n",
              "      <th>mean</th>\n",
              "      <td>2013.932580</td>\n",
              "    </tr>\n",
              "    <tr>\n",
              "      <th>std</th>\n",
              "      <td>8.757395</td>\n",
              "    </tr>\n",
              "    <tr>\n",
              "      <th>min</th>\n",
              "      <td>1925.000000</td>\n",
              "    </tr>\n",
              "    <tr>\n",
              "      <th>25%</th>\n",
              "      <td>2013.000000</td>\n",
              "    </tr>\n",
              "    <tr>\n",
              "      <th>50%</th>\n",
              "      <td>2017.000000</td>\n",
              "    </tr>\n",
              "    <tr>\n",
              "      <th>75%</th>\n",
              "      <td>2018.000000</td>\n",
              "    </tr>\n",
              "    <tr>\n",
              "      <th>max</th>\n",
              "      <td>2021.000000</td>\n",
              "    </tr>\n",
              "  </tbody>\n",
              "</table>\n",
              "</div>\n",
              "    <div class=\"colab-df-buttons\">\n",
              "\n",
              "  <div class=\"colab-df-container\">\n",
              "    <button class=\"colab-df-convert\" onclick=\"convertToInteractive('df-b54b7b17-0b25-4b04-98fc-e27cbeabdc19')\"\n",
              "            title=\"Convert this dataframe to an interactive table.\"\n",
              "            style=\"display:none;\">\n",
              "\n",
              "  <svg xmlns=\"http://www.w3.org/2000/svg\" height=\"24px\" viewBox=\"0 -960 960 960\">\n",
              "    <path d=\"M120-120v-720h720v720H120Zm60-500h600v-160H180v160Zm220 220h160v-160H400v160Zm0 220h160v-160H400v160ZM180-400h160v-160H180v160Zm440 0h160v-160H620v160ZM180-180h160v-160H180v160Zm440 0h160v-160H620v160Z\"/>\n",
              "  </svg>\n",
              "    </button>\n",
              "\n",
              "  <style>\n",
              "    .colab-df-container {\n",
              "      display:flex;\n",
              "      gap: 12px;\n",
              "    }\n",
              "\n",
              "    .colab-df-convert {\n",
              "      background-color: #E8F0FE;\n",
              "      border: none;\n",
              "      border-radius: 50%;\n",
              "      cursor: pointer;\n",
              "      display: none;\n",
              "      fill: #1967D2;\n",
              "      height: 32px;\n",
              "      padding: 0 0 0 0;\n",
              "      width: 32px;\n",
              "    }\n",
              "\n",
              "    .colab-df-convert:hover {\n",
              "      background-color: #E2EBFA;\n",
              "      box-shadow: 0px 1px 2px rgba(60, 64, 67, 0.3), 0px 1px 3px 1px rgba(60, 64, 67, 0.15);\n",
              "      fill: #174EA6;\n",
              "    }\n",
              "\n",
              "    .colab-df-buttons div {\n",
              "      margin-bottom: 4px;\n",
              "    }\n",
              "\n",
              "    [theme=dark] .colab-df-convert {\n",
              "      background-color: #3B4455;\n",
              "      fill: #D2E3FC;\n",
              "    }\n",
              "\n",
              "    [theme=dark] .colab-df-convert:hover {\n",
              "      background-color: #434B5C;\n",
              "      box-shadow: 0px 1px 3px 1px rgba(0, 0, 0, 0.15);\n",
              "      filter: drop-shadow(0px 1px 2px rgba(0, 0, 0, 0.3));\n",
              "      fill: #FFFFFF;\n",
              "    }\n",
              "  </style>\n",
              "\n",
              "    <script>\n",
              "      const buttonEl =\n",
              "        document.querySelector('#df-b54b7b17-0b25-4b04-98fc-e27cbeabdc19 button.colab-df-convert');\n",
              "      buttonEl.style.display =\n",
              "        google.colab.kernel.accessAllowed ? 'block' : 'none';\n",
              "\n",
              "      async function convertToInteractive(key) {\n",
              "        const element = document.querySelector('#df-b54b7b17-0b25-4b04-98fc-e27cbeabdc19');\n",
              "        const dataTable =\n",
              "          await google.colab.kernel.invokeFunction('convertToInteractive',\n",
              "                                                    [key], {});\n",
              "        if (!dataTable) return;\n",
              "\n",
              "        const docLinkHtml = 'Like what you see? Visit the ' +\n",
              "          '<a target=\"_blank\" href=https://colab.research.google.com/notebooks/data_table.ipynb>data table notebook</a>'\n",
              "          + ' to learn more about interactive tables.';\n",
              "        element.innerHTML = '';\n",
              "        dataTable['output_type'] = 'display_data';\n",
              "        await google.colab.output.renderOutput(dataTable, element);\n",
              "        const docLink = document.createElement('div');\n",
              "        docLink.innerHTML = docLinkHtml;\n",
              "        element.appendChild(docLink);\n",
              "      }\n",
              "    </script>\n",
              "  </div>\n",
              "\n",
              "\n",
              "<div id=\"df-73258c4c-cd6d-46de-a907-199af2beaa06\">\n",
              "  <button class=\"colab-df-quickchart\" onclick=\"quickchart('df-73258c4c-cd6d-46de-a907-199af2beaa06')\"\n",
              "            title=\"Suggest charts\"\n",
              "            style=\"display:none;\">\n",
              "\n",
              "<svg xmlns=\"http://www.w3.org/2000/svg\" height=\"24px\"viewBox=\"0 0 24 24\"\n",
              "     width=\"24px\">\n",
              "    <g>\n",
              "        <path d=\"M19 3H5c-1.1 0-2 .9-2 2v14c0 1.1.9 2 2 2h14c1.1 0 2-.9 2-2V5c0-1.1-.9-2-2-2zM9 17H7v-7h2v7zm4 0h-2V7h2v10zm4 0h-2v-4h2v4z\"/>\n",
              "    </g>\n",
              "</svg>\n",
              "  </button>\n",
              "\n",
              "<style>\n",
              "  .colab-df-quickchart {\n",
              "      --bg-color: #E8F0FE;\n",
              "      --fill-color: #1967D2;\n",
              "      --hover-bg-color: #E2EBFA;\n",
              "      --hover-fill-color: #174EA6;\n",
              "      --disabled-fill-color: #AAA;\n",
              "      --disabled-bg-color: #DDD;\n",
              "  }\n",
              "\n",
              "  [theme=dark] .colab-df-quickchart {\n",
              "      --bg-color: #3B4455;\n",
              "      --fill-color: #D2E3FC;\n",
              "      --hover-bg-color: #434B5C;\n",
              "      --hover-fill-color: #FFFFFF;\n",
              "      --disabled-bg-color: #3B4455;\n",
              "      --disabled-fill-color: #666;\n",
              "  }\n",
              "\n",
              "  .colab-df-quickchart {\n",
              "    background-color: var(--bg-color);\n",
              "    border: none;\n",
              "    border-radius: 50%;\n",
              "    cursor: pointer;\n",
              "    display: none;\n",
              "    fill: var(--fill-color);\n",
              "    height: 32px;\n",
              "    padding: 0;\n",
              "    width: 32px;\n",
              "  }\n",
              "\n",
              "  .colab-df-quickchart:hover {\n",
              "    background-color: var(--hover-bg-color);\n",
              "    box-shadow: 0 1px 2px rgba(60, 64, 67, 0.3), 0 1px 3px 1px rgba(60, 64, 67, 0.15);\n",
              "    fill: var(--button-hover-fill-color);\n",
              "  }\n",
              "\n",
              "  .colab-df-quickchart-complete:disabled,\n",
              "  .colab-df-quickchart-complete:disabled:hover {\n",
              "    background-color: var(--disabled-bg-color);\n",
              "    fill: var(--disabled-fill-color);\n",
              "    box-shadow: none;\n",
              "  }\n",
              "\n",
              "  .colab-df-spinner {\n",
              "    border: 2px solid var(--fill-color);\n",
              "    border-color: transparent;\n",
              "    border-bottom-color: var(--fill-color);\n",
              "    animation:\n",
              "      spin 1s steps(1) infinite;\n",
              "  }\n",
              "\n",
              "  @keyframes spin {\n",
              "    0% {\n",
              "      border-color: transparent;\n",
              "      border-bottom-color: var(--fill-color);\n",
              "      border-left-color: var(--fill-color);\n",
              "    }\n",
              "    20% {\n",
              "      border-color: transparent;\n",
              "      border-left-color: var(--fill-color);\n",
              "      border-top-color: var(--fill-color);\n",
              "    }\n",
              "    30% {\n",
              "      border-color: transparent;\n",
              "      border-left-color: var(--fill-color);\n",
              "      border-top-color: var(--fill-color);\n",
              "      border-right-color: var(--fill-color);\n",
              "    }\n",
              "    40% {\n",
              "      border-color: transparent;\n",
              "      border-right-color: var(--fill-color);\n",
              "      border-top-color: var(--fill-color);\n",
              "    }\n",
              "    60% {\n",
              "      border-color: transparent;\n",
              "      border-right-color: var(--fill-color);\n",
              "    }\n",
              "    80% {\n",
              "      border-color: transparent;\n",
              "      border-right-color: var(--fill-color);\n",
              "      border-bottom-color: var(--fill-color);\n",
              "    }\n",
              "    90% {\n",
              "      border-color: transparent;\n",
              "      border-bottom-color: var(--fill-color);\n",
              "    }\n",
              "  }\n",
              "</style>\n",
              "\n",
              "  <script>\n",
              "    async function quickchart(key) {\n",
              "      const quickchartButtonEl =\n",
              "        document.querySelector('#' + key + ' button');\n",
              "      quickchartButtonEl.disabled = true;  // To prevent multiple clicks.\n",
              "      quickchartButtonEl.classList.add('colab-df-spinner');\n",
              "      try {\n",
              "        const charts = await google.colab.kernel.invokeFunction(\n",
              "            'suggestCharts', [key], {});\n",
              "      } catch (error) {\n",
              "        console.error('Error during call to suggestCharts:', error);\n",
              "      }\n",
              "      quickchartButtonEl.classList.remove('colab-df-spinner');\n",
              "      quickchartButtonEl.classList.add('colab-df-quickchart-complete');\n",
              "    }\n",
              "    (() => {\n",
              "      let quickchartButtonEl =\n",
              "        document.querySelector('#df-73258c4c-cd6d-46de-a907-199af2beaa06 button');\n",
              "      quickchartButtonEl.style.display =\n",
              "        google.colab.kernel.accessAllowed ? 'block' : 'none';\n",
              "    })();\n",
              "  </script>\n",
              "</div>\n",
              "\n",
              "    </div>\n",
              "  </div>\n"
            ],
            "application/vnd.google.colaboratory.intrinsic+json": {
              "type": "dataframe",
              "summary": "{\n  \"name\": \"df_copy\",\n  \"rows\": 8,\n  \"fields\": [\n    {\n      \"column\": \"release_year\",\n      \"properties\": {\n        \"dtype\": \"number\",\n        \"std\": 2256.829351497058,\n        \"min\": 8.757394618381273,\n        \"max\": 7787.0,\n        \"num_unique_values\": 8,\n        \"samples\": [\n          2013.932579940927,\n          2017.0,\n          7787.0\n        ],\n        \"semantic_type\": \"\",\n        \"description\": \"\"\n      }\n    }\n  ]\n}"
            }
          },
          "metadata": {},
          "execution_count": 78
        }
      ]
    },
    {
      "cell_type": "code",
      "source": [
        "content_counts = df.groupby(['country', 'type']).size().reset_index(name='count')"
      ],
      "metadata": {
        "id": "NRqvOCNVLKb7"
      },
      "execution_count": null,
      "outputs": []
    },
    {
      "cell_type": "code",
      "source": [
        "content_counts"
      ],
      "metadata": {
        "colab": {
          "base_uri": "https://localhost:8080/",
          "height": 424
        },
        "id": "B8kkW7iBLOeF",
        "outputId": "be367e12-be3e-4dae-aa96-2ba57f884eca"
      },
      "execution_count": null,
      "outputs": [
        {
          "output_type": "execute_result",
          "data": {
            "text/plain": [
              "                                               country     type  count\n",
              "0                                            Argentina    Movie     34\n",
              "1                                            Argentina  TV Show     16\n",
              "2    Argentina, Brazil, France, Poland, Germany, De...    Movie      1\n",
              "3                                     Argentina, Chile    Movie      1\n",
              "4                               Argentina, Chile, Peru    Movie      1\n",
              "..                                                 ...      ...    ...\n",
              "768                                          Venezuela    Movie      1\n",
              "769                                Venezuela, Colombia    Movie      1\n",
              "770                                            Vietnam    Movie      5\n",
              "771                                       West Germany    Movie      1\n",
              "772                                           Zimbabwe    Movie      1\n",
              "\n",
              "[773 rows x 3 columns]"
            ],
            "text/html": [
              "\n",
              "  <div id=\"df-6cdc493b-5c1f-4d5c-b249-f8c356b44213\" class=\"colab-df-container\">\n",
              "    <div>\n",
              "<style scoped>\n",
              "    .dataframe tbody tr th:only-of-type {\n",
              "        vertical-align: middle;\n",
              "    }\n",
              "\n",
              "    .dataframe tbody tr th {\n",
              "        vertical-align: top;\n",
              "    }\n",
              "\n",
              "    .dataframe thead th {\n",
              "        text-align: right;\n",
              "    }\n",
              "</style>\n",
              "<table border=\"1\" class=\"dataframe\">\n",
              "  <thead>\n",
              "    <tr style=\"text-align: right;\">\n",
              "      <th></th>\n",
              "      <th>country</th>\n",
              "      <th>type</th>\n",
              "      <th>count</th>\n",
              "    </tr>\n",
              "  </thead>\n",
              "  <tbody>\n",
              "    <tr>\n",
              "      <th>0</th>\n",
              "      <td>Argentina</td>\n",
              "      <td>Movie</td>\n",
              "      <td>34</td>\n",
              "    </tr>\n",
              "    <tr>\n",
              "      <th>1</th>\n",
              "      <td>Argentina</td>\n",
              "      <td>TV Show</td>\n",
              "      <td>16</td>\n",
              "    </tr>\n",
              "    <tr>\n",
              "      <th>2</th>\n",
              "      <td>Argentina, Brazil, France, Poland, Germany, De...</td>\n",
              "      <td>Movie</td>\n",
              "      <td>1</td>\n",
              "    </tr>\n",
              "    <tr>\n",
              "      <th>3</th>\n",
              "      <td>Argentina, Chile</td>\n",
              "      <td>Movie</td>\n",
              "      <td>1</td>\n",
              "    </tr>\n",
              "    <tr>\n",
              "      <th>4</th>\n",
              "      <td>Argentina, Chile, Peru</td>\n",
              "      <td>Movie</td>\n",
              "      <td>1</td>\n",
              "    </tr>\n",
              "    <tr>\n",
              "      <th>...</th>\n",
              "      <td>...</td>\n",
              "      <td>...</td>\n",
              "      <td>...</td>\n",
              "    </tr>\n",
              "    <tr>\n",
              "      <th>768</th>\n",
              "      <td>Venezuela</td>\n",
              "      <td>Movie</td>\n",
              "      <td>1</td>\n",
              "    </tr>\n",
              "    <tr>\n",
              "      <th>769</th>\n",
              "      <td>Venezuela, Colombia</td>\n",
              "      <td>Movie</td>\n",
              "      <td>1</td>\n",
              "    </tr>\n",
              "    <tr>\n",
              "      <th>770</th>\n",
              "      <td>Vietnam</td>\n",
              "      <td>Movie</td>\n",
              "      <td>5</td>\n",
              "    </tr>\n",
              "    <tr>\n",
              "      <th>771</th>\n",
              "      <td>West Germany</td>\n",
              "      <td>Movie</td>\n",
              "      <td>1</td>\n",
              "    </tr>\n",
              "    <tr>\n",
              "      <th>772</th>\n",
              "      <td>Zimbabwe</td>\n",
              "      <td>Movie</td>\n",
              "      <td>1</td>\n",
              "    </tr>\n",
              "  </tbody>\n",
              "</table>\n",
              "<p>773 rows × 3 columns</p>\n",
              "</div>\n",
              "    <div class=\"colab-df-buttons\">\n",
              "\n",
              "  <div class=\"colab-df-container\">\n",
              "    <button class=\"colab-df-convert\" onclick=\"convertToInteractive('df-6cdc493b-5c1f-4d5c-b249-f8c356b44213')\"\n",
              "            title=\"Convert this dataframe to an interactive table.\"\n",
              "            style=\"display:none;\">\n",
              "\n",
              "  <svg xmlns=\"http://www.w3.org/2000/svg\" height=\"24px\" viewBox=\"0 -960 960 960\">\n",
              "    <path d=\"M120-120v-720h720v720H120Zm60-500h600v-160H180v160Zm220 220h160v-160H400v160Zm0 220h160v-160H400v160ZM180-400h160v-160H180v160Zm440 0h160v-160H620v160ZM180-180h160v-160H180v160Zm440 0h160v-160H620v160Z\"/>\n",
              "  </svg>\n",
              "    </button>\n",
              "\n",
              "  <style>\n",
              "    .colab-df-container {\n",
              "      display:flex;\n",
              "      gap: 12px;\n",
              "    }\n",
              "\n",
              "    .colab-df-convert {\n",
              "      background-color: #E8F0FE;\n",
              "      border: none;\n",
              "      border-radius: 50%;\n",
              "      cursor: pointer;\n",
              "      display: none;\n",
              "      fill: #1967D2;\n",
              "      height: 32px;\n",
              "      padding: 0 0 0 0;\n",
              "      width: 32px;\n",
              "    }\n",
              "\n",
              "    .colab-df-convert:hover {\n",
              "      background-color: #E2EBFA;\n",
              "      box-shadow: 0px 1px 2px rgba(60, 64, 67, 0.3), 0px 1px 3px 1px rgba(60, 64, 67, 0.15);\n",
              "      fill: #174EA6;\n",
              "    }\n",
              "\n",
              "    .colab-df-buttons div {\n",
              "      margin-bottom: 4px;\n",
              "    }\n",
              "\n",
              "    [theme=dark] .colab-df-convert {\n",
              "      background-color: #3B4455;\n",
              "      fill: #D2E3FC;\n",
              "    }\n",
              "\n",
              "    [theme=dark] .colab-df-convert:hover {\n",
              "      background-color: #434B5C;\n",
              "      box-shadow: 0px 1px 3px 1px rgba(0, 0, 0, 0.15);\n",
              "      filter: drop-shadow(0px 1px 2px rgba(0, 0, 0, 0.3));\n",
              "      fill: #FFFFFF;\n",
              "    }\n",
              "  </style>\n",
              "\n",
              "    <script>\n",
              "      const buttonEl =\n",
              "        document.querySelector('#df-6cdc493b-5c1f-4d5c-b249-f8c356b44213 button.colab-df-convert');\n",
              "      buttonEl.style.display =\n",
              "        google.colab.kernel.accessAllowed ? 'block' : 'none';\n",
              "\n",
              "      async function convertToInteractive(key) {\n",
              "        const element = document.querySelector('#df-6cdc493b-5c1f-4d5c-b249-f8c356b44213');\n",
              "        const dataTable =\n",
              "          await google.colab.kernel.invokeFunction('convertToInteractive',\n",
              "                                                    [key], {});\n",
              "        if (!dataTable) return;\n",
              "\n",
              "        const docLinkHtml = 'Like what you see? Visit the ' +\n",
              "          '<a target=\"_blank\" href=https://colab.research.google.com/notebooks/data_table.ipynb>data table notebook</a>'\n",
              "          + ' to learn more about interactive tables.';\n",
              "        element.innerHTML = '';\n",
              "        dataTable['output_type'] = 'display_data';\n",
              "        await google.colab.output.renderOutput(dataTable, element);\n",
              "        const docLink = document.createElement('div');\n",
              "        docLink.innerHTML = docLinkHtml;\n",
              "        element.appendChild(docLink);\n",
              "      }\n",
              "    </script>\n",
              "  </div>\n",
              "\n",
              "\n",
              "<div id=\"df-ca5ddc62-17fb-4194-9dda-72639276508c\">\n",
              "  <button class=\"colab-df-quickchart\" onclick=\"quickchart('df-ca5ddc62-17fb-4194-9dda-72639276508c')\"\n",
              "            title=\"Suggest charts\"\n",
              "            style=\"display:none;\">\n",
              "\n",
              "<svg xmlns=\"http://www.w3.org/2000/svg\" height=\"24px\"viewBox=\"0 0 24 24\"\n",
              "     width=\"24px\">\n",
              "    <g>\n",
              "        <path d=\"M19 3H5c-1.1 0-2 .9-2 2v14c0 1.1.9 2 2 2h14c1.1 0 2-.9 2-2V5c0-1.1-.9-2-2-2zM9 17H7v-7h2v7zm4 0h-2V7h2v10zm4 0h-2v-4h2v4z\"/>\n",
              "    </g>\n",
              "</svg>\n",
              "  </button>\n",
              "\n",
              "<style>\n",
              "  .colab-df-quickchart {\n",
              "      --bg-color: #E8F0FE;\n",
              "      --fill-color: #1967D2;\n",
              "      --hover-bg-color: #E2EBFA;\n",
              "      --hover-fill-color: #174EA6;\n",
              "      --disabled-fill-color: #AAA;\n",
              "      --disabled-bg-color: #DDD;\n",
              "  }\n",
              "\n",
              "  [theme=dark] .colab-df-quickchart {\n",
              "      --bg-color: #3B4455;\n",
              "      --fill-color: #D2E3FC;\n",
              "      --hover-bg-color: #434B5C;\n",
              "      --hover-fill-color: #FFFFFF;\n",
              "      --disabled-bg-color: #3B4455;\n",
              "      --disabled-fill-color: #666;\n",
              "  }\n",
              "\n",
              "  .colab-df-quickchart {\n",
              "    background-color: var(--bg-color);\n",
              "    border: none;\n",
              "    border-radius: 50%;\n",
              "    cursor: pointer;\n",
              "    display: none;\n",
              "    fill: var(--fill-color);\n",
              "    height: 32px;\n",
              "    padding: 0;\n",
              "    width: 32px;\n",
              "  }\n",
              "\n",
              "  .colab-df-quickchart:hover {\n",
              "    background-color: var(--hover-bg-color);\n",
              "    box-shadow: 0 1px 2px rgba(60, 64, 67, 0.3), 0 1px 3px 1px rgba(60, 64, 67, 0.15);\n",
              "    fill: var(--button-hover-fill-color);\n",
              "  }\n",
              "\n",
              "  .colab-df-quickchart-complete:disabled,\n",
              "  .colab-df-quickchart-complete:disabled:hover {\n",
              "    background-color: var(--disabled-bg-color);\n",
              "    fill: var(--disabled-fill-color);\n",
              "    box-shadow: none;\n",
              "  }\n",
              "\n",
              "  .colab-df-spinner {\n",
              "    border: 2px solid var(--fill-color);\n",
              "    border-color: transparent;\n",
              "    border-bottom-color: var(--fill-color);\n",
              "    animation:\n",
              "      spin 1s steps(1) infinite;\n",
              "  }\n",
              "\n",
              "  @keyframes spin {\n",
              "    0% {\n",
              "      border-color: transparent;\n",
              "      border-bottom-color: var(--fill-color);\n",
              "      border-left-color: var(--fill-color);\n",
              "    }\n",
              "    20% {\n",
              "      border-color: transparent;\n",
              "      border-left-color: var(--fill-color);\n",
              "      border-top-color: var(--fill-color);\n",
              "    }\n",
              "    30% {\n",
              "      border-color: transparent;\n",
              "      border-left-color: var(--fill-color);\n",
              "      border-top-color: var(--fill-color);\n",
              "      border-right-color: var(--fill-color);\n",
              "    }\n",
              "    40% {\n",
              "      border-color: transparent;\n",
              "      border-right-color: var(--fill-color);\n",
              "      border-top-color: var(--fill-color);\n",
              "    }\n",
              "    60% {\n",
              "      border-color: transparent;\n",
              "      border-right-color: var(--fill-color);\n",
              "    }\n",
              "    80% {\n",
              "      border-color: transparent;\n",
              "      border-right-color: var(--fill-color);\n",
              "      border-bottom-color: var(--fill-color);\n",
              "    }\n",
              "    90% {\n",
              "      border-color: transparent;\n",
              "      border-bottom-color: var(--fill-color);\n",
              "    }\n",
              "  }\n",
              "</style>\n",
              "\n",
              "  <script>\n",
              "    async function quickchart(key) {\n",
              "      const quickchartButtonEl =\n",
              "        document.querySelector('#' + key + ' button');\n",
              "      quickchartButtonEl.disabled = true;  // To prevent multiple clicks.\n",
              "      quickchartButtonEl.classList.add('colab-df-spinner');\n",
              "      try {\n",
              "        const charts = await google.colab.kernel.invokeFunction(\n",
              "            'suggestCharts', [key], {});\n",
              "      } catch (error) {\n",
              "        console.error('Error during call to suggestCharts:', error);\n",
              "      }\n",
              "      quickchartButtonEl.classList.remove('colab-df-spinner');\n",
              "      quickchartButtonEl.classList.add('colab-df-quickchart-complete');\n",
              "    }\n",
              "    (() => {\n",
              "      let quickchartButtonEl =\n",
              "        document.querySelector('#df-ca5ddc62-17fb-4194-9dda-72639276508c button');\n",
              "      quickchartButtonEl.style.display =\n",
              "        google.colab.kernel.accessAllowed ? 'block' : 'none';\n",
              "    })();\n",
              "  </script>\n",
              "</div>\n",
              "\n",
              "  <div id=\"id_76992ee0-5b82-419d-b55f-568aa7199a1a\">\n",
              "    <style>\n",
              "      .colab-df-generate {\n",
              "        background-color: #E8F0FE;\n",
              "        border: none;\n",
              "        border-radius: 50%;\n",
              "        cursor: pointer;\n",
              "        display: none;\n",
              "        fill: #1967D2;\n",
              "        height: 32px;\n",
              "        padding: 0 0 0 0;\n",
              "        width: 32px;\n",
              "      }\n",
              "\n",
              "      .colab-df-generate:hover {\n",
              "        background-color: #E2EBFA;\n",
              "        box-shadow: 0px 1px 2px rgba(60, 64, 67, 0.3), 0px 1px 3px 1px rgba(60, 64, 67, 0.15);\n",
              "        fill: #174EA6;\n",
              "      }\n",
              "\n",
              "      [theme=dark] .colab-df-generate {\n",
              "        background-color: #3B4455;\n",
              "        fill: #D2E3FC;\n",
              "      }\n",
              "\n",
              "      [theme=dark] .colab-df-generate:hover {\n",
              "        background-color: #434B5C;\n",
              "        box-shadow: 0px 1px 3px 1px rgba(0, 0, 0, 0.15);\n",
              "        filter: drop-shadow(0px 1px 2px rgba(0, 0, 0, 0.3));\n",
              "        fill: #FFFFFF;\n",
              "      }\n",
              "    </style>\n",
              "    <button class=\"colab-df-generate\" onclick=\"generateWithVariable('content_counts')\"\n",
              "            title=\"Generate code using this dataframe.\"\n",
              "            style=\"display:none;\">\n",
              "\n",
              "  <svg xmlns=\"http://www.w3.org/2000/svg\" height=\"24px\"viewBox=\"0 0 24 24\"\n",
              "       width=\"24px\">\n",
              "    <path d=\"M7,19H8.4L18.45,9,17,7.55,7,17.6ZM5,21V16.75L18.45,3.32a2,2,0,0,1,2.83,0l1.4,1.43a1.91,1.91,0,0,1,.58,1.4,1.91,1.91,0,0,1-.58,1.4L9.25,21ZM18.45,9,17,7.55Zm-12,3A5.31,5.31,0,0,0,4.9,8.1,5.31,5.31,0,0,0,1,6.5,5.31,5.31,0,0,0,4.9,4.9,5.31,5.31,0,0,0,6.5,1,5.31,5.31,0,0,0,8.1,4.9,5.31,5.31,0,0,0,12,6.5,5.46,5.46,0,0,0,6.5,12Z\"/>\n",
              "  </svg>\n",
              "    </button>\n",
              "    <script>\n",
              "      (() => {\n",
              "      const buttonEl =\n",
              "        document.querySelector('#id_76992ee0-5b82-419d-b55f-568aa7199a1a button.colab-df-generate');\n",
              "      buttonEl.style.display =\n",
              "        google.colab.kernel.accessAllowed ? 'block' : 'none';\n",
              "\n",
              "      buttonEl.onclick = () => {\n",
              "        google.colab.notebook.generateWithVariable('content_counts');\n",
              "      }\n",
              "      })();\n",
              "    </script>\n",
              "  </div>\n",
              "\n",
              "    </div>\n",
              "  </div>\n"
            ],
            "application/vnd.google.colaboratory.intrinsic+json": {
              "type": "dataframe",
              "variable_name": "content_counts",
              "summary": "{\n  \"name\": \"content_counts\",\n  \"rows\": 773,\n  \"fields\": [\n    {\n      \"column\": \"country\",\n      \"properties\": {\n        \"dtype\": \"string\",\n        \"num_unique_values\": 681,\n        \"samples\": [\n          \"United States, Sweden\",\n          \"Kenya\",\n          \"Canada, India, Thailand, United States, United Arab Emirates\"\n        ],\n        \"semantic_type\": \"\",\n        \"description\": \"\"\n      }\n    },\n    {\n      \"column\": \"type\",\n      \"properties\": {\n        \"dtype\": \"category\",\n        \"num_unique_values\": 2,\n        \"samples\": [\n          \"TV Show\",\n          \"Movie\"\n        ],\n        \"semantic_type\": \"\",\n        \"description\": \"\"\n      }\n    },\n    {\n      \"column\": \"count\",\n      \"properties\": {\n        \"dtype\": \"number\",\n        \"std\": 78,\n        \"min\": 1,\n        \"max\": 1850,\n        \"num_unique_values\": 54,\n        \"samples\": [\n          8,\n          52\n        ],\n        \"semantic_type\": \"\",\n        \"description\": \"\"\n      }\n    }\n  ]\n}"
            }
          },
          "metadata": {},
          "execution_count": 17
        }
      ]
    },
    {
      "cell_type": "code",
      "source": [
        "top_countries_data = content_counts[content_counts['country'].isin(content_counts['country'].unique()[:5])]\n",
        "\n",
        "plt.figure(figsize=(10, 6))\n",
        "sns.barplot(x='country', y='count', hue='type', data=top_countries_data)\n",
        "plt.title('Count of Movies and TV Shows in Top 5 Countries')\n",
        "plt.xlabel('Country')\n",
        "plt.ylabel('Count')\n",
        "plt.xticks(rotation=45)\n",
        "plt.show()"
      ],
      "metadata": {
        "colab": {
          "base_uri": "https://localhost:8080/",
          "height": 828
        },
        "id": "dvAo7rNIFnAn",
        "outputId": "a88a0894-218e-47da-9d43-cce9118e5d87"
      },
      "execution_count": null,
      "outputs": [
        {
          "output_type": "display_data",
          "data": {
            "text/plain": [
              "<Figure size 1000x600 with 1 Axes>"
            ],
            "image/png": "[encoded data removed]"
          },
          "metadata": {}
        }
      ]
    },
    {
      "cell_type": "markdown",
      "source": [
        "This visualization showcasing the count of movies and TV shows for the top five countries in the dataset can provide several business insights:\n",
        "\n",
        "1. **Content Localization**: Understanding the prevalent content types across different regions can aid in localization efforts, enabling the platform to curate and promote content that aligns with regional preferences.\n",
        "\n",
        "2. **Content Acquisition and Production**: The insights derived from this visualization can guide decisions regarding content acquisition and production. If a particular type of content is dominant in a region, the platform can prioritize acquiring or producing similar content to cater to local tastes.\n",
        "\n",
        "3. **Marketing Strategies**: The data can be used to tailor marketing strategies for specific regions, emphasizing the content types that have greater viewership in those areas. This can enhance the effectiveness of promotional efforts and user engagement.\n",
        "\n",
        "4. **Partnerships and Licensing**: Observing content preferences by region can inform partnerships and licensing decisions, enabling the platform to seek out exclusive deals for content types that are popular in specific countries.\n",
        "\n",
        "5. **User Experience Optimization**: Incorporating regional content preferences into the platform's design and user interface can enhance the overall viewing experience for users in various regions, potentially leading to increased user satisfaction and retention."
      ],
      "metadata": {
        "id": "gv8aZcQ8G3QQ"
      }
    },
    {
      "cell_type": "code",
      "source": [
        "# First, count the number of each type of content for each country\n",
        "content_counts = df.groupby(['country', 'type']).size().reset_index(name='count')\n",
        "\n",
        "# Next, plot the distribution using a KDE plot\n",
        "plt.figure(figsize=(10, 6))\n",
        "sns.kdeplot(data=content_counts, x=\"count\", hue=\"type\", fill=True, common_norm=False, alpha=0.5, linewidth=0)\n",
        "plt.title('Distribution of Number of Contents by Type')\n",
        "plt.xlabel('Number of Contents')\n",
        "plt.ylabel('Density')\n",
        "plt.show()"
      ],
      "metadata": {
        "colab": {
          "base_uri": "https://localhost:8080/",
          "height": 569
        },
        "id": "qlJzD_IV70yi",
        "outputId": "5414145d-75fa-4f56-ce13-20aa984ad462"
      },
      "execution_count": null,
      "outputs": [
        {
          "output_type": "display_data",
          "data": {
            "text/plain": [
              "<Figure size 1000x600 with 1 Axes>"
            ],
            "image/png": "[encoded data removed]"
          },
          "metadata": {}
        }
      ]
    },
    {
      "cell_type": "markdown",
      "source": [
        "**Why I have picked this KDE plot?**"
      ],
      "metadata": {
        "id": "5o5UTzT3H3FM"
      }
    },
    {
      "cell_type": "markdown",
      "source": [
        "The KDE plot visualizing the distribution of the number of contents by type (Movie and TV Show) provides the following business insights:\n",
        "\n",
        "1. **Content Type Distribution**: It illustrates the range and density of content counts for each type by country, offering a clear understanding of how the content types are distributed across different regions. These insights can guide regional content curation and localization strategies.\n",
        "\n",
        "2. **Content Planning and Investment**: By observing the density of content counts, content planning and investment decisions can be better directed. The platform can adjust content acquisition or production strategies based on the observed density, focusing resources where there is greater demand.\n",
        "\n",
        "3. **Regional Strategy Alignment**: The visualization aids in aligning regional strategies with the observed distribution, helping in tailoring content recommendations, marketing efforts, and user experience to fit the content type preferences within different regions.\n",
        "\n",
        "4. **Competitive Positioning**: Understanding the distribution of content types can help in assessing the platform's competitive positioning in various regions, identifying opportunities to differentiate or diversify the content library based on observed densities.\n",
        "\n",
        "5. **Partnerships and Licensing**: Insights from the visualization can inform decisions related to partnerships and licensing by providing an understanding of the demand for different types of content in specific regions, potentially guiding negotiations for new content acquisitions or licensing deals."
      ],
      "metadata": {
        "id": "-MC_0ypUIDEo"
      }
    },
    {
      "cell_type": "code",
      "source": [
        "labels = 'TV Shows', 'Movies'\n",
        "sizes = df_copy.type.value_counts()\n",
        "colors = ['orange', 'green']\n",
        "explode = (0.1, 0.0)\n",
        "plt.pie(sizes, explode=explode, labels=labels, colors=colors,\n",
        "        autopct='%1.1f%%', shadow=True, startangle=180)\n",
        "plt.axis('equal')\n",
        "plt.title(\"Distribution of different Content\")\n",
        "plt.plot()\n",
        "fig=plt.gcf()\n",
        "fig.set_size_inches(6,6)\n",
        "plt.show()\n"
      ],
      "metadata": {
        "colab": {
          "base_uri": "https://localhost:8080/",
          "height": 522
        },
        "id": "yGww9V07tYWq",
        "outputId": "e08e789f-1732-4bd6-9a1b-f31ec27fd2e5"
      },
      "execution_count": null,
      "outputs": [
        {
          "output_type": "display_data",
          "data": {
            "text/plain": [
              "<Figure size 600x600 with 1 Axes>"
            ],
            "image/png": "[encoded data removed]"
          },
          "metadata": {}
        }
      ]
    },
    {
      "cell_type": "markdown",
      "source": [
        "**Why I have picked this chart?**"
      ],
      "metadata": {
        "id": "ul34UatJJ-bo"
      }
    },
    {
      "cell_type": "markdown",
      "source": [
        "The pie chart illustrating the distribution of TV shows and movies holds significance for business purposes in several ways:\n",
        "\n",
        "1. **Content Strategy**: It offers a high-level view of the content mix on the platform, demonstrating the proportion of TV shows versus movies. This insight can guide decisions related to future content acquisition and production strategies.\n",
        "\n",
        "2. **User Engagement and Retention**: Understanding the composition of the content library can aid in enhancing user engagement and retention. By ensuring a balanced and appealing mix of TV shows and movies, the platform can cater to a wider range of viewer preferences, potentially improving user satisfaction and retention.\n",
        "\n",
        "3. **Marketing and Positioning**: The pie chart can inform marketing strategies, helping to highlight the diversity of the content library and positioning the platform as a comprehensive source for both TV shows and movies.\n",
        "\n",
        "4. **Licensing and Partnerships**: Insights from the pie chart can influence decisions regarding new licensing agreements and partnerships. It can guide the platform's pursuit of a balanced and diverse content catalog, impacting negotiations for acquiring rights to new content.\n",
        "\n",
        "5. **Subscriber Acquisition**: The chart can influence strategies for subscriber acquisition by showcasing the diverse array of content types available on the platform, potentially attracting a broader audience base."
      ],
      "metadata": {
        "id": "4Rk18l2mKHN9"
      }
    },
    {
      "cell_type": "markdown",
      "source": [
        "**Outliers Removal**"
      ],
      "metadata": {
        "id": "1aJI9M3wNFzn"
      }
    },
    {
      "cell_type": "code",
      "source": [
        "# Create a box plot to visualize outliers in the 'release_year' column\n",
        "plt.figure(figsize=(8, 6))\n",
        "sns.boxplot(x=df_copy['release_year'], color='skyblue')\n",
        "plt.title('Box Plot for Outlier Detection in Release Year')\n",
        "plt.xlabel('Release Year')\n",
        "plt.show()"
      ],
      "metadata": {
        "colab": {
          "base_uri": "https://localhost:8080/",
          "height": 569
        },
        "id": "73pt3b4pUVCi",
        "outputId": "3484bf2c-9eaa-447a-ef36-1f971ece2593"
      },
      "execution_count": null,
      "outputs": [
        {
          "output_type": "display_data",
          "data": {
            "text/plain": [
              "<Figure size 800x600 with 1 Axes>"
            ],
            "image/png": "[encoded data removed]"
          },
          "metadata": {}
        }
      ]
    },
    {
      "cell_type": "markdown",
      "source": [
        "**Following are the reasons for choosing quantile method for the removal of outliers**"
      ],
      "metadata": {
        "id": "0-gPjH4zKyho"
      }
    },
    {
      "cell_type": "markdown",
      "source": [
        "Using the quartile technique (IQR - Interquartile Range) for the removal of outliers offers several benefits:\n",
        "\n",
        "1. **Robustness**: The quartile technique is robust and not heavily influenced by extreme outliers, making it a more reliable method for outlier removal compared to simple standard deviation-based approaches. It effectively captures the central tendency of the data.\n",
        "\n",
        "2. **Retains Data Integrity**: The technique maintains the integrity of the original dataset by removing outliers while preserving the overall distribution. This helps avoid undue distortion to the dataset's characteristics.\n",
        "\n",
        "3. **Non-Parametric Approach**: The quartile technique is non-parametric, meaning it does not depend on specific distributional assumptions about the data, making it versatile and applicable to diverse types of datasets.\n",
        "\n",
        "4. **Interpretability**: It offers straightforward interpretability, making it easier for analysts and stakeholders to understand and use the method for outlier removal, as it is based on percentile values. This can enhance transparency and trust in the data processing method.\n",
        "\n",
        "5. **Applicability to Skewed Data**: The technique is effective for data with skewed distributions, as it addresses outliers in a way that aligns with the underlying distribution, minimizing undue influence from extreme values.\n",
        "\n",
        "6. **Preserves Sample Size**: By removing outliers based on their position relative to the interquartile range, the quartile technique retains a larger portion of the dataset, helping to maintain statistical power and robustness in subsequent analyses."
      ],
      "metadata": {
        "id": "mcZ8qiicLUbA"
      }
    },
    {
      "cell_type": "code",
      "source": [
        "\n",
        "# Calculate the quartiles for 'release_year' column\n",
        "q1_release_year = df_copy['release_year'].quantile(0.25)\n",
        "q3_release_year = df_copy['release_year'].quantile(0.75)\n",
        "iqr_release_year = q3_release_year - q1_release_year\n",
        "\n",
        "# Define the bounds for outlier removal using the interquartile range (IQR) method\n",
        "lower_bound_release_year = q1_release_year - 1.5 * iqr_release_year\n",
        "upper_bound_release_year = q3_release_year + 1.5 * iqr_release_year\n",
        "\n",
        "# Remove outliers based on the defined bounds for the 'release_year' column\n",
        "cleaned_df = df_copy[(df_copy['release_year'] > lower_bound_release_year) & (df_copy['release_year'] < upper_bound_release_year)]"
      ],
      "metadata": {
        "id": "4K0L1nifTd-M"
      },
      "execution_count": null,
      "outputs": []
    },
    {
      "cell_type": "code",
      "source": [
        "# Create a box plot to visualize outliers after removal in the 'release_year' column\n",
        "plt.figure(figsize=(8, 6))\n",
        "sns.boxplot(x=cleaned_df['release_year'], color='skyblue')\n",
        "plt.title('Box Plot for Outlier Detection in Release Year')\n",
        "plt.xlabel('Release Year')\n",
        "plt.show()"
      ],
      "metadata": {
        "colab": {
          "base_uri": "https://localhost:8080/",
          "height": 569
        },
        "outputId": "bd58bdc6-c749-421a-dda3-68c53ae00864",
        "id": "7BpFlvrMVKw-"
      },
      "execution_count": null,
      "outputs": [
        {
          "output_type": "display_data",
          "data": {
            "text/plain": [
              "<Figure size 800x600 with 1 Axes>"
            ],
            "image/png": "[encoded data removed]"
          },
          "metadata": {}
        }
      ]
    },
    {
      "cell_type": "markdown",
      "source": [
        "## ***6. Feature Engineering & Data Pre-processing***"
      ],
      "metadata": {
        "id": "yLjJCtPM0KBk"
      }
    },
    {
      "cell_type": "markdown",
      "source": [
        "### 4. Textual Data Preprocessing\n",
        "(It's mandatory for textual dataset i.e., NLP, Sentiment Analysis, Text Clustering etc.)"
      ],
      "metadata": {
        "id": "Iwf50b-R2tYG"
      }
    },
    {
      "cell_type": "markdown",
      "source": [
        "#### 1. Tokenization\n",
        "\n",
        "\n",
        "\n"
      ],
      "metadata": {
        "id": "WVIkgGqN3qsr"
      }
    },
    {
      "source": [
        "!pip install nltk\n",
        "import pandas as pd\n",
        "import nltk\n",
        "from nltk.tokenize import word_tokenize\n",
        "\n",
        "nltk.download('punkt') # Download the 'punkt' resource\n",
        "\n",
        "# Specify the range of rows to tokenize\n",
        "start_row = 0  # Start row index\n",
        "end_row = 7788  # End row index (exclusive)\n",
        "\n",
        "# Ensure 'country' column contains strings before tokenization\n",
        "cleaned_df.loc[start_row:end_row, 'country'] = cleaned_df.loc[start_row:end_row, 'country'].astype(str)\n",
        "cleaned_df.loc[start_row:end_row, 'country_tokenized'] = cleaned_df.loc[start_row:end_row, 'country'].apply(word_tokenize)\n",
        "\n",
        "# Ensure 'type' column contains strings before tokenization\n",
        "cleaned_df.loc[start_row:end_row, 'type'] = cleaned_df.loc[start_row:end_row, 'type'].astype(str)\n",
        "cleaned_df.loc[start_row:end_row, 'type_tokenized'] = cleaned_df.loc[start_row:end_row, 'type'].apply(word_tokenize)\n",
        "\n",
        "# Print or use the tokenized data\n",
        "print(cleaned_df.loc[start_row:end_row, ['country_tokenized', 'type_tokenized']])"
      ],
      "cell_type": "code",
      "metadata": {
        "colab": {
          "base_uri": "https://localhost:8080/"
        },
        "id": "11LvNWKVVB4R",
        "outputId": "401d56d8-ee23-4374-86c4-0868ed57857e"
      },
      "execution_count": null,
      "outputs": [
        {
          "output_type": "stream",
          "name": "stdout",
          "text": [
            "Requirement already satisfied: nltk in /usr/local/lib/python3.10/dist-packages (3.8.1)\n",
            "Requirement already satisfied: click in /usr/local/lib/python3.10/dist-packages (from nltk) (8.1.7)\n",
            "Requirement already satisfied: joblib in /usr/local/lib/python3.10/dist-packages (from nltk) (1.4.2)\n",
            "Requirement already satisfied: regex>=2021.8.3 in /usr/local/lib/python3.10/dist-packages (from nltk) (2024.5.15)\n",
            "Requirement already satisfied: tqdm in /usr/local/lib/python3.10/dist-packages (from nltk) (4.66.5)\n"
          ]
        },
        {
          "output_type": "stream",
          "name": "stderr",
          "text": [
            "[nltk_data] Downloading package punkt to /root/nltk_data...\n",
            "[nltk_data]   Unzipping tokenizers/punkt.zip.\n",
            "<ipython-input-8-6e16de060329>:14: SettingWithCopyWarning: \n",
            "A value is trying to be set on a copy of a slice from a DataFrame.\n",
            "Try using .loc[row_indexer,col_indexer] = value instead\n",
            "\n",
            "See the caveats in the documentation: https://pandas.pydata.org/pandas-docs/stable/user_guide/indexing.html#returning-a-view-versus-a-copy\n",
            "  cleaned_df.loc[start_row:end_row, 'country_tokenized'] = cleaned_df.loc[start_row:end_row, 'country'].apply(word_tokenize)\n"
          ]
        },
        {
          "output_type": "stream",
          "name": "stdout",
          "text": [
            "                                    country_tokenized type_tokenized\n",
            "0                                            [Brazil]     [TV, Show]\n",
            "1                                            [Mexico]        [Movie]\n",
            "2                                         [Singapore]        [Movie]\n",
            "3                                    [United, States]        [Movie]\n",
            "4                                    [United, States]        [Movie]\n",
            "...                                               ...            ...\n",
            "7781                                 [United, States]        [Movie]\n",
            "7783                                          [India]        [Movie]\n",
            "7784                                 [United, States]        [Movie]\n",
            "7785                                      [Australia]     [TV, Show]\n",
            "7786  [United, Kingdom, ,, Canada, ,, United, States]        [Movie]\n",
            "\n",
            "[7042 rows x 2 columns]\n"
          ]
        },
        {
          "output_type": "stream",
          "name": "stderr",
          "text": [
            "<ipython-input-8-6e16de060329>:18: SettingWithCopyWarning: \n",
            "A value is trying to be set on a copy of a slice from a DataFrame.\n",
            "Try using .loc[row_indexer,col_indexer] = value instead\n",
            "\n",
            "See the caveats in the documentation: https://pandas.pydata.org/pandas-docs/stable/user_guide/indexing.html#returning-a-view-versus-a-copy\n",
            "  cleaned_df.loc[start_row:end_row, 'type_tokenized'] = cleaned_df.loc[start_row:end_row, 'type'].apply(word_tokenize)\n"
          ]
        }
      ]
    },
    {
      "cell_type": "markdown",
      "source": [
        "#### 2. Lowercasing and Removing Punctuation"
      ],
      "metadata": {
        "id": "XkPnILGE3zoT"
      }
    },
    {
      "cell_type": "code",
      "source": [
        "\n",
        "import string\n",
        "\n",
        "\n",
        "# Specify the columns on which you want to perform lowercasing and punctuation removal\n",
        "columns_to_process = ['country', 'type']\n",
        "\n",
        "# Lowercasing and Removing Punctuation for specified columns\n",
        "for column in columns_to_process:\n",
        "    cleaned_df[column] = cleaned_df[column].apply(lambda x: x.lower())  # Convert to lowercase\n",
        "    cleaned_df[column] = cleaned_df[column].apply(lambda x: x.translate(str.maketrans('', '', string.punctuation)))  # Remove punctuation using translate method\n",
        "\n",
        "# Print or use the processed data for further analysis\n",
        "print(df_copy[columns_to_process])"
      ],
      "metadata": {
        "colab": {
          "base_uri": "https://localhost:8080/"
        },
        "id": "QzW5XR6LcFFG",
        "outputId": "8d84d021-1986-4239-a4a5-1c9418e77773"
      },
      "execution_count": null,
      "outputs": [
        {
          "output_type": "stream",
          "name": "stdout",
          "text": [
            "                                                country     type\n",
            "0                                                Brazil  TV Show\n",
            "1                                                Mexico    Movie\n",
            "2                                             Singapore    Movie\n",
            "3                                         United States    Movie\n",
            "4                                         United States    Movie\n",
            "...                                                 ...      ...\n",
            "7782  Sweden, Czech Republic, United Kingdom, Denmar...    Movie\n",
            "7783                                              India    Movie\n",
            "7784                                      United States    Movie\n",
            "7785                                          Australia  TV Show\n",
            "7786              United Kingdom, Canada, United States    Movie\n",
            "\n",
            "[7787 rows x 2 columns]\n"
          ]
        },
        {
          "output_type": "stream",
          "name": "stderr",
          "text": [
            "<ipython-input-9-6bee2b8bcaca>:9: SettingWithCopyWarning: \n",
            "A value is trying to be set on a copy of a slice from a DataFrame.\n",
            "Try using .loc[row_indexer,col_indexer] = value instead\n",
            "\n",
            "See the caveats in the documentation: https://pandas.pydata.org/pandas-docs/stable/user_guide/indexing.html#returning-a-view-versus-a-copy\n",
            "  cleaned_df[column] = cleaned_df[column].apply(lambda x: x.lower())  # Convert to lowercase\n",
            "<ipython-input-9-6bee2b8bcaca>:10: SettingWithCopyWarning: \n",
            "A value is trying to be set on a copy of a slice from a DataFrame.\n",
            "Try using .loc[row_indexer,col_indexer] = value instead\n",
            "\n",
            "See the caveats in the documentation: https://pandas.pydata.org/pandas-docs/stable/user_guide/indexing.html#returning-a-view-versus-a-copy\n",
            "  cleaned_df[column] = cleaned_df[column].apply(lambda x: x.translate(str.maketrans('', '', string.punctuation)))  # Remove punctuation using translate method\n"
          ]
        }
      ]
    },
    {
      "cell_type": "markdown",
      "source": [
        "#### 3. Removing Stopwords"
      ],
      "metadata": {
        "id": "mT9DMSJo4nBL"
      }
    },
    {
      "cell_type": "code",
      "source": [
        "\n",
        "import nltk\n",
        "from nltk.corpus import stopwords\n",
        "nltk.download('stopwords')\n",
        "\n",
        "\n",
        "# Specify the columns on which you want to remove stop words\n",
        "columns_to_process = ['country', 'type']\n",
        "\n",
        "# Remove stop words for specified columns\n",
        "stop_words = set(stopwords.words('english'))\n",
        "for column in columns_to_process:\n",
        "    cleaned_df[column] = cleaned_df[column].apply(lambda x: ' '.join([word for word in x.split() if word.lower() not in stop_words]))\n",
        "\n",
        "# Print or use the processed data for further analysis\n",
        "print(cleaned_df[columns_to_process])"
      ],
      "metadata": {
        "colab": {
          "base_uri": "https://localhost:8080/"
        },
        "id": "gG11RuiRvc2z",
        "outputId": "942800fd-471c-4e30-f604-4f90c165aa45"
      },
      "execution_count": null,
      "outputs": [
        {
          "output_type": "stream",
          "name": "stdout",
          "text": [
            "                                  country     type\n",
            "0                                  brazil  tv show\n",
            "1                                  mexico    movie\n",
            "2                               singapore    movie\n",
            "3                           united states    movie\n",
            "4                           united states    movie\n",
            "...                                   ...      ...\n",
            "7781                        united states    movie\n",
            "7783                                india    movie\n",
            "7784                        united states    movie\n",
            "7785                            australia  tv show\n",
            "7786  united kingdom canada united states    movie\n",
            "\n",
            "[7042 rows x 2 columns]\n"
          ]
        },
        {
          "output_type": "stream",
          "name": "stderr",
          "text": [
            "[nltk_data] Downloading package stopwords to /root/nltk_data...\n",
            "[nltk_data]   Unzipping corpora/stopwords.zip.\n",
            "<ipython-input-10-882c4c277272>:12: SettingWithCopyWarning: \n",
            "A value is trying to be set on a copy of a slice from a DataFrame.\n",
            "Try using .loc[row_indexer,col_indexer] = value instead\n",
            "\n",
            "See the caveats in the documentation: https://pandas.pydata.org/pandas-docs/stable/user_guide/indexing.html#returning-a-view-versus-a-copy\n",
            "  cleaned_df[column] = cleaned_df[column].apply(lambda x: ' '.join([word for word in x.split() if word.lower() not in stop_words]))\n"
          ]
        }
      ]
    },
    {
      "cell_type": "markdown",
      "source": [
        "#### 4. Stemming or Lemmatization"
      ],
      "metadata": {
        "id": "c49ITxTc407N"
      }
    },
    {
      "cell_type": "code",
      "source": [
        "\n",
        "import nltk\n",
        "from nltk.stem import PorterStemmer, WordNetLemmatizer\n",
        "from nltk.corpus import wordnet\n",
        "nltk.download('wordnet')\n",
        "\n",
        "\n",
        "# Specify the columns on which you want to perform stemming or lemmatization\n",
        "columns_to_process = ['country', 'type']\n",
        "\n",
        "# Initialize stemmer and lemmatizer\n",
        "stemmer = PorterStemmer()\n",
        "lemmatizer = WordNetLemmatizer()\n",
        "\n",
        "# Function to perform stemming on a word\n",
        "def stem_text(text):\n",
        "    return ' '.join([stemmer.stem(word) for word in text.split()])\n",
        "\n",
        "# Function to perform lemmatization on a word\n",
        "def lemmatize_text(text):\n",
        "    return ' '.join([lemmatizer.lemmatize(word, wordnet.VERB) for word in text.split()])\n",
        "\n",
        "# Apply stemming to the 'country' column\n",
        "cleaned_df['country_stemmed'] = cleaned_df['country'].apply(stem_text)\n",
        "\n",
        "# Apply lemmatization to the 'type' column\n",
        "cleaned_df['type_lemmatized'] = cleaned_df['type'].apply(lemmatize_text)\n",
        "\n",
        "# Print or use the processed data for further analysis\n",
        "print(cleaned_df[['country_stemmed', 'type_lemmatized']])"
      ],
      "metadata": {
        "colab": {
          "base_uri": "https://localhost:8080/"
        },
        "id": "DiYjFMDTxyTV",
        "outputId": "a40c465b-05c6-489d-807c-bb2eff04692c"
      },
      "execution_count": null,
      "outputs": [
        {
          "output_type": "stream",
          "name": "stderr",
          "text": [
            "[nltk_data] Downloading package wordnet to /root/nltk_data...\n",
            "<ipython-input-11-0fda45b7aa0a>:23: SettingWithCopyWarning: \n",
            "A value is trying to be set on a copy of a slice from a DataFrame.\n",
            "Try using .loc[row_indexer,col_indexer] = value instead\n",
            "\n",
            "See the caveats in the documentation: https://pandas.pydata.org/pandas-docs/stable/user_guide/indexing.html#returning-a-view-versus-a-copy\n",
            "  cleaned_df['country_stemmed'] = cleaned_df['country'].apply(stem_text)\n"
          ]
        },
        {
          "output_type": "stream",
          "name": "stdout",
          "text": [
            "                     country_stemmed type_lemmatized\n",
            "0                             brazil         tv show\n",
            "1                             mexico           movie\n",
            "2                           singapor           movie\n",
            "3                         unit state           movie\n",
            "4                         unit state           movie\n",
            "...                              ...             ...\n",
            "7781                      unit state           movie\n",
            "7783                           india           movie\n",
            "7784                      unit state           movie\n",
            "7785                       australia         tv show\n",
            "7786  unit kingdom canada unit state           movie\n",
            "\n",
            "[7042 rows x 2 columns]\n"
          ]
        },
        {
          "output_type": "stream",
          "name": "stderr",
          "text": [
            "<ipython-input-11-0fda45b7aa0a>:26: SettingWithCopyWarning: \n",
            "A value is trying to be set on a copy of a slice from a DataFrame.\n",
            "Try using .loc[row_indexer,col_indexer] = value instead\n",
            "\n",
            "See the caveats in the documentation: https://pandas.pydata.org/pandas-docs/stable/user_guide/indexing.html#returning-a-view-versus-a-copy\n",
            "  cleaned_df['type_lemmatized'] = cleaned_df['type'].apply(lemmatize_text)\n"
          ]
        }
      ]
    },
    {
      "cell_type": "markdown",
      "source": [
        "E**ncoding of data**"
      ],
      "metadata": {
        "id": "v7gY139OLxB7"
      }
    },
    {
      "cell_type": "markdown",
      "source": [
        "I have selected only the column 'type'for encoding as I want to cluster the content under this column"
      ],
      "metadata": {
        "id": "aZT7FrffUwXp"
      }
    },
    {
      "cell_type": "markdown",
      "source": [
        "One hot encoding offers several benefits in the context of machine learning and data analysis:\n",
        "\n",
        "1. **Preservation of Categorical Information**: One hot encoding transforms categorical data into a format that is suitable for machine learning algorithms. It retains the categorical information in a manner that can be used for predictive modeling or analysis.\n",
        "\n",
        "2. **Compatibility with Algorithms**: Many machine learning algorithms, such as linear regression, support vector machines, and neural networks, require numerical input. One hot encoding enables the representation of categorical data as numerical values, making it compatible with a wide range of algorithms.\n",
        "\n",
        "3. **Prevention of Misinterpretation as Ordinal Data**: Without one hot encoding, categorical data might be misinterpreted as having an ordinal relationship by some algorithms. One hot encoding explicitly represents categories as distinct and unrelated, preventing such misinterpretations.\n",
        "\n",
        "4. **Handling of Nominal Data**: One hot encoding is particularly well-suited for handling nominal data, where categories have no inherent order or rank. It creates binary columns for each category, thereby avoiding the introduction of false relationships between categories.\n",
        "\n",
        "5. **Reduced Bias**: By representing categorical variables as binary features, one hot encoding helps to avoid bias that could arise from representing categorical data as a single ordinal variable, ensuring that each category is distinct and treated equally.\n",
        "\n",
        "6. **Applicability to Sparse Data**: One hot encoding efficiently handles sparse data (data with many zero values), producing a compact representation that is effective for machine learning algorithms while minimizing computational inefficiencies."
      ],
      "metadata": {
        "id": "1Cdrg3KMNJ7q"
      }
    },
    {
      "cell_type": "code",
      "source": [
        "# Perform one-hot encoding on the specified column and obtain the encoded dataset\n",
        "encoded_columns = pd.get_dummies(cleaned_df['type_lemmatized'], prefix='type_lemmatized')\n",
        "\n",
        "# Convert the True/False values to binary format (1, 0) by casting to integers\n",
        "encoded_columns_binary = encoded_columns.astype(int)\n",
        "\n",
        "# Combine the encoded columns with the original DataFrame\n",
        "result_dataset = pd.concat([cleaned_df, encoded_columns_binary], axis=1)\n",
        "\n",
        "# Extract the columns relevant to the 'type_lemmatized' from the combined dataset\n",
        "encoded_dataset = result_dataset.filter(regex='^type_lemmatized_')\n",
        "print(encoded_dataset)"
      ],
      "metadata": {
        "colab": {
          "base_uri": "https://localhost:8080/"
        },
        "outputId": "5b9b8508-ed3a-4345-bf9e-57e8bfd46c65",
        "id": "MW3leJRsL7zN"
      },
      "execution_count": null,
      "outputs": [
        {
          "output_type": "stream",
          "name": "stdout",
          "text": [
            "      type_lemmatized_movie  type_lemmatized_tv show\n",
            "0                         0                        1\n",
            "1                         1                        0\n",
            "2                         1                        0\n",
            "3                         1                        0\n",
            "4                         1                        0\n",
            "...                     ...                      ...\n",
            "7781                      1                        0\n",
            "7783                      1                        0\n",
            "7784                      1                        0\n",
            "7785                      0                        1\n",
            "7786                      1                        0\n",
            "\n",
            "[7042 rows x 2 columns]\n"
          ]
        }
      ]
    },
    {
      "cell_type": "markdown",
      "source": [
        "### 6. Data Scaling"
      ],
      "metadata": {
        "id": "qhv4sK829EPe"
      }
    },
    {
      "cell_type": "markdown",
      "source": [
        "I have selected only the column 'type'for scaling as I want to cluster the content under this column"
      ],
      "metadata": {
        "id": "Uxlj07CbUFiX"
      }
    },
    {
      "cell_type": "code",
      "source": [
        "import pandas as pd\n",
        "from sklearn.preprocessing import MinMaxScaler\n",
        "\n",
        "# Assuming your original dataset is named 'original_df'\n",
        "# Assuming 'type_lemmatized_movie' and 'type_lemmatized_tv show' are the columns to be scaled\n",
        "\n",
        "# Select the columns to be scaled\n",
        "columns_to_scale = ['type_lemmatized_movie', 'type_lemmatized_tv show']\n",
        "\n",
        "# Create a new DataFrame with only the columns to be scaled\n",
        "data_to_scale = encoded_dataset[columns_to_scale]\n",
        "\n",
        "# Initialize the MinMaxScaler\n",
        "scaler = MinMaxScaler()\n",
        "\n",
        "# Fit and transform the data using the scaler\n",
        "scaled_data = scaler.fit_transform(data_to_scale)\n",
        "\n",
        "# Convert the scaled data to a DataFrame\n",
        "scaled_df = pd.DataFrame(scaled_data, columns=columns_to_scale)\n",
        "\n",
        "# The resulting 'scaled_df' now contains the scaled values for the specified columns in matrix format\n",
        "print(scaled_df)"
      ],
      "metadata": {
        "colab": {
          "base_uri": "https://localhost:8080/"
        },
        "id": "J0K_hSItPSqU",
        "outputId": "3764ce14-2822-4346-e0c3-85ac668e36ec"
      },
      "execution_count": null,
      "outputs": [
        {
          "output_type": "stream",
          "name": "stdout",
          "text": [
            "      type_lemmatized_movie  type_lemmatized_tv show\n",
            "0                       0.0                      1.0\n",
            "1                       1.0                      0.0\n",
            "2                       1.0                      0.0\n",
            "3                       1.0                      0.0\n",
            "4                       1.0                      0.0\n",
            "...                     ...                      ...\n",
            "7037                    1.0                      0.0\n",
            "7038                    1.0                      0.0\n",
            "7039                    1.0                      0.0\n",
            "7040                    0.0                      1.0\n",
            "7041                    1.0                      0.0\n",
            "\n",
            "[7042 rows x 2 columns]\n"
          ]
        }
      ]
    },
    {
      "cell_type": "markdown",
      "source": [
        "##### Which method have you used to scale you data and why?"
      ],
      "metadata": {
        "id": "F-uMUJUU9EPh"
      }
    },
    {
      "cell_type": "markdown",
      "source": [
        "The Min-Max scaler offers several benefits when it comes to scaling data for machine learning and analysis:\n",
        "\n",
        "1. **Preservation of Relationships**: The Min-Max scaler preserves the relationships within the data as it uniformly compresses or stretches the original distribution, maintaining the relative distances between data points. This ensures that the distribution's shape and structure are maintained after scaling.\n",
        "\n",
        "2. **Normalization to a Specific Range**: It scales the data to a specific range (commonly [0, 1]), making different features directly comparable. This normalization ensures that all features contribute equally to the analysis or model training process.\n",
        "\n",
        "3. **Interpretability and Comparability**: Scaled data using the Min-Max scaler is more interpretable and comparable as it brings all the features within the same scale, aiding in the assessment of relative feature importance and facilitating direct comparison between different features.\n",
        "\n",
        "4. **Robustness to Outliers**: The Min-Max scaler is robust to outliers, as its scaling is based on the minimum and maximum values. This method prevents the impact of outliers on the scaling process, ensuring that the scaled data is less influenced by extreme values.\n",
        "\n",
        "5. **Simplicity and Ease of Use**: It is straightforward to understand and implement, requiring minimal parameters (usually the range) to be specified. This simplicity makes it easy to use for scaling data in various machine learning and statistical analysis workflows.\n",
        "\n",
        "6. **Preservation of Sparsity**: It preserves sparsity when applied to sparse data, ensuring that the sparse structure of the dataset is maintained, which is crucial for certain types of data, such as text data or high-dimensional sparse data."
      ],
      "metadata": {
        "id": "F1gwnpLiNtgs"
      }
    },
    {
      "cell_type": "markdown",
      "source": [
        "## ***7. ML Model Implementation***"
      ],
      "metadata": {
        "id": "VfCC591jGiD4"
      }
    },
    {
      "cell_type": "markdown",
      "source": [
        "Purpose of each model is clustering different type of content in the dataset. By the type column we can see that there are two type of content available which are Movie and TV shows. Here I am going to create cluster for each type of content and observe the performance of each model. Here I have created three types of model by using three different clustering algorithm."
      ],
      "metadata": {
        "id": "GusPi4Q1RNAz"
      }
    },
    {
      "cell_type": "markdown",
      "source": [
        "### ML Model - 1"
      ],
      "metadata": {
        "id": "OB4l2ZhMeS1U"
      }
    },
    {
      "cell_type": "code",
      "source": [
        "import matplotlib.pyplot as plt\n",
        "from sklearn.cluster import KMeans\n",
        "import numpy as np\n",
        "\n",
        "# Determining number of clusters for the scaled dataset is named 'scaled_df'\n",
        "\n",
        "# Initialize an empty list to hold the inertia values\n",
        "inertia = []\n",
        "\n",
        "# Define the range of clusters to test\n",
        "k_values = range(1, 11)\n",
        "\n",
        "# Perform KMeans clustering with different numbers of clusters\n",
        "for k in k_values:\n",
        "    kmeans = KMeans(n_clusters=k, random_state=42)\n",
        "    kmeans.fit(scaled_df)\n",
        "    inertia.append(kmeans.inertia_)\n",
        "\n",
        "# Plot the results to visualize the \"elbow\"\n",
        "plt.plot(k_values, inertia, marker='o')\n",
        "plt.xlabel('Number of clusters')\n",
        "plt.ylabel('Inertia')\n",
        "plt.title('Elbow Method for Optimal k')\n",
        "plt.show()"
      ],
      "metadata": {
        "colab": {
          "base_uri": "https://localhost:8080/",
          "height": 1000
        },
        "id": "JI2WeN3uTf4o",
        "outputId": "2763da84-25f1-4374-e1e9-b4694f0e78d6"
      },
      "execution_count": null,
      "outputs": [
        {
          "output_type": "stream",
          "name": "stderr",
          "text": [
            "/usr/local/lib/python3.10/dist-packages/sklearn/cluster/_kmeans.py:1416: FutureWarning: The default value of `n_init` will change from 10 to 'auto' in 1.4. Set the value of `n_init` explicitly to suppress the warning\n",
            "  super()._check_params_vs_input(X, default_n_init=10)\n",
            "/usr/local/lib/python3.10/dist-packages/sklearn/cluster/_kmeans.py:1416: FutureWarning: The default value of `n_init` will change from 10 to 'auto' in 1.4. Set the value of `n_init` explicitly to suppress the warning\n",
            "  super()._check_params_vs_input(X, default_n_init=10)\n",
            "/usr/local/lib/python3.10/dist-packages/sklearn/cluster/_kmeans.py:1416: FutureWarning: The default value of `n_init` will change from 10 to 'auto' in 1.4. Set the value of `n_init` explicitly to suppress the warning\n",
            "  super()._check_params_vs_input(X, default_n_init=10)\n",
            "/usr/local/lib/python3.10/dist-packages/sklearn/base.py:1152: ConvergenceWarning: Number of distinct clusters (2) found smaller than n_clusters (3). Possibly due to duplicate points in X.\n",
            "  return fit_method(estimator, *args, **kwargs)\n",
            "/usr/local/lib/python3.10/dist-packages/sklearn/cluster/_kmeans.py:1416: FutureWarning: The default value of `n_init` will change from 10 to 'auto' in 1.4. Set the value of `n_init` explicitly to suppress the warning\n",
            "  super()._check_params_vs_input(X, default_n_init=10)\n",
            "/usr/local/lib/python3.10/dist-packages/sklearn/base.py:1152: ConvergenceWarning: Number of distinct clusters (2) found smaller than n_clusters (4). Possibly due to duplicate points in X.\n",
            "  return fit_method(estimator, *args, **kwargs)\n",
            "/usr/local/lib/python3.10/dist-packages/sklearn/cluster/_kmeans.py:1416: FutureWarning: The default value of `n_init` will change from 10 to 'auto' in 1.4. Set the value of `n_init` explicitly to suppress the warning\n",
            "  super()._check_params_vs_input(X, default_n_init=10)\n",
            "/usr/local/lib/python3.10/dist-packages/sklearn/base.py:1152: ConvergenceWarning: Number of distinct clusters (2) found smaller than n_clusters (5). Possibly due to duplicate points in X.\n",
            "  return fit_method(estimator, *args, **kwargs)\n",
            "/usr/local/lib/python3.10/dist-packages/sklearn/cluster/_kmeans.py:1416: FutureWarning: The default value of `n_init` will change from 10 to 'auto' in 1.4. Set the value of `n_init` explicitly to suppress the warning\n",
            "  super()._check_params_vs_input(X, default_n_init=10)\n",
            "/usr/local/lib/python3.10/dist-packages/sklearn/base.py:1152: ConvergenceWarning: Number of distinct clusters (2) found smaller than n_clusters (6). Possibly due to duplicate points in X.\n",
            "  return fit_method(estimator, *args, **kwargs)\n",
            "/usr/local/lib/python3.10/dist-packages/sklearn/cluster/_kmeans.py:1416: FutureWarning: The default value of `n_init` will change from 10 to 'auto' in 1.4. Set the value of `n_init` explicitly to suppress the warning\n",
            "  super()._check_params_vs_input(X, default_n_init=10)\n",
            "/usr/local/lib/python3.10/dist-packages/sklearn/base.py:1152: ConvergenceWarning: Number of distinct clusters (2) found smaller than n_clusters (7). Possibly due to duplicate points in X.\n",
            "  return fit_method(estimator, *args, **kwargs)\n",
            "/usr/local/lib/python3.10/dist-packages/sklearn/cluster/_kmeans.py:1416: FutureWarning: The default value of `n_init` will change from 10 to 'auto' in 1.4. Set the value of `n_init` explicitly to suppress the warning\n",
            "  super()._check_params_vs_input(X, default_n_init=10)\n",
            "/usr/local/lib/python3.10/dist-packages/sklearn/base.py:1152: ConvergenceWarning: Number of distinct clusters (2) found smaller than n_clusters (8). Possibly due to duplicate points in X.\n",
            "  return fit_method(estimator, *args, **kwargs)\n",
            "/usr/local/lib/python3.10/dist-packages/sklearn/cluster/_kmeans.py:1416: FutureWarning: The default value of `n_init` will change from 10 to 'auto' in 1.4. Set the value of `n_init` explicitly to suppress the warning\n",
            "  super()._check_params_vs_input(X, default_n_init=10)\n",
            "/usr/local/lib/python3.10/dist-packages/sklearn/base.py:1152: ConvergenceWarning: Number of distinct clusters (2) found smaller than n_clusters (9). Possibly due to duplicate points in X.\n",
            "  return fit_method(estimator, *args, **kwargs)\n",
            "/usr/local/lib/python3.10/dist-packages/sklearn/cluster/_kmeans.py:1416: FutureWarning: The default value of `n_init` will change from 10 to 'auto' in 1.4. Set the value of `n_init` explicitly to suppress the warning\n",
            "  super()._check_params_vs_input(X, default_n_init=10)\n",
            "/usr/local/lib/python3.10/dist-packages/sklearn/base.py:1152: ConvergenceWarning: Number of distinct clusters (2) found smaller than n_clusters (10). Possibly due to duplicate points in X.\n",
            "  return fit_method(estimator, *args, **kwargs)\n"
          ]
        },
        {
          "output_type": "display_data",
          "data": {
            "text/plain": [
              "<Figure size 800x600 with 1 Axes>"
            ],
            "image/png": "[encoded data removed]"
          },
          "metadata": {}
        }
      ]
    },
    {
      "cell_type": "code",
      "source": [
        "from sklearn.cluster import KMeans\n",
        "\n",
        "# the optimal number of clusters is determined and stored in 'optimal_k'is 2\n",
        "\n",
        "# Initialize KMeans model with the optimal number of clusters\n",
        "kmeans = KMeans(n_clusters=2, random_state=42)\n",
        "\n",
        "# Fit the model to your scaled data\n",
        "kmeans.fit(scaled_df)\n",
        "\n",
        "# Obtain the cluster labels for your data\n",
        "cluster_labels = kmeans.predict(scaled_df)\n",
        "print(cluster_labels)"
      ],
      "metadata": {
        "colab": {
          "base_uri": "https://localhost:8080/"
        },
        "id": "5E1EVC9wVO05",
        "outputId": "e3a01d56-b0d9-426a-a6d4-f4cea525bd03"
      },
      "execution_count": null,
      "outputs": [
        {
          "output_type": "stream",
          "name": "stdout",
          "text": [
            "[1 0 0 ... 0 1 0]\n"
          ]
        },
        {
          "output_type": "stream",
          "name": "stderr",
          "text": [
            "/usr/local/lib/python3.10/dist-packages/sklearn/cluster/_kmeans.py:1416: FutureWarning: The default value of `n_init` will change from 10 to 'auto' in 1.4. Set the value of `n_init` explicitly to suppress the warning\n",
            "  super()._check_params_vs_input(X, default_n_init=10)\n"
          ]
        }
      ]
    },
    {
      "source": [
        "# Create a scatter plot of the data points with colors representing cluster labels\n",
        "plt.scatter(scaled_df.iloc[:, 0], scaled_df.iloc[:, 1], c=cluster_labels, cmap='viridis')  # Access columns using .iloc for position-based indexing\n",
        "plt.xlabel('type_lemmatized_movie')\n",
        "plt.ylabel('type_lemmatized_tv show')\n",
        "plt.title('Clustered Data Visualization')\n",
        "plt.show()"
      ],
      "cell_type": "code",
      "metadata": {
        "colab": {
          "base_uri": "https://localhost:8080/",
          "height": 569
        },
        "id": "6grJsIlsZve5",
        "outputId": "708dbcde-ea2c-4ffc-c2c7-92aefe5d6a8e"
      },
      "execution_count": null,
      "outputs": [
        {
          "output_type": "display_data",
          "data": {
            "text/plain": [
              "<Figure size 800x600 with 1 Axes>"
            ],
            "image/png": "[encoded data removed]"
          },
          "metadata": {}
        }
      ]
    },
    {
      "cell_type": "markdown",
      "source": [
        "#### 1. Explain the ML Model used and it's performance using Evaluation metric Score Chart."
      ],
      "metadata": {
        "id": "ArJBuiUVfxKd"
      }
    },
    {
      "cell_type": "code",
      "source": [
        "# Visualizing evaluation Metric Score chart\n",
        "import numpy as np\n",
        "import matplotlib.pyplot as plt\n",
        "from sklearn.cluster import KMeans\n",
        "from sklearn.metrics import silhouette_score\n",
        "\n",
        "# Define the range of k values for evaluation\n",
        "k_values = range(2, 11)  # Trying different numbers of clusters\n",
        "\n",
        "# Calculating silhouette scores for different values of k\n",
        "silhouette_scores = []\n",
        "for k in k_values:\n",
        "    kmeans = KMeans(n_clusters=k, random_state=42)\n",
        "    cluster_labels = kmeans.fit_predict(scaled_df)\n",
        "    silhouette_avg = silhouette_score(scaled_df, cluster_labels)\n",
        "    silhouette_scores.append(silhouette_avg)\n",
        "\n",
        "# Visualize the silhouette scores\n",
        "plt.plot(k_values, silhouette_scores, marker='o')\n",
        "plt.xlabel('Number of Clusters (k)')\n",
        "plt.ylabel('Silhouette Score')\n",
        "plt.title('Silhouette Score for KMeans Clustering')\n",
        "plt.show()"
      ],
      "metadata": {
        "id": "rqD5ZohzfxKe",
        "colab": {
          "base_uri": "https://localhost:8080/",
          "height": 1000
        },
        "outputId": "eeff0175-92c2-48f0-b3de-7bbc5ae5f4bf"
      },
      "execution_count": null,
      "outputs": [
        {
          "output_type": "stream",
          "name": "stderr",
          "text": [
            "/usr/local/lib/python3.10/dist-packages/sklearn/cluster/_kmeans.py:1416: FutureWarning: The default value of `n_init` will change from 10 to 'auto' in 1.4. Set the value of `n_init` explicitly to suppress the warning\n",
            "  super()._check_params_vs_input(X, default_n_init=10)\n",
            "/usr/local/lib/python3.10/dist-packages/sklearn/cluster/_kmeans.py:1416: FutureWarning: The default value of `n_init` will change from 10 to 'auto' in 1.4. Set the value of `n_init` explicitly to suppress the warning\n",
            "  super()._check_params_vs_input(X, default_n_init=10)\n",
            "/usr/local/lib/python3.10/dist-packages/sklearn/base.py:1152: ConvergenceWarning: Number of distinct clusters (2) found smaller than n_clusters (3). Possibly due to duplicate points in X.\n",
            "  return fit_method(estimator, *args, **kwargs)\n",
            "/usr/local/lib/python3.10/dist-packages/sklearn/cluster/_kmeans.py:1416: FutureWarning: The default value of `n_init` will change from 10 to 'auto' in 1.4. Set the value of `n_init` explicitly to suppress the warning\n",
            "  super()._check_params_vs_input(X, default_n_init=10)\n",
            "/usr/local/lib/python3.10/dist-packages/sklearn/base.py:1152: ConvergenceWarning: Number of distinct clusters (2) found smaller than n_clusters (4). Possibly due to duplicate points in X.\n",
            "  return fit_method(estimator, *args, **kwargs)\n",
            "/usr/local/lib/python3.10/dist-packages/sklearn/cluster/_kmeans.py:1416: FutureWarning: The default value of `n_init` will change from 10 to 'auto' in 1.4. Set the value of `n_init` explicitly to suppress the warning\n",
            "  super()._check_params_vs_input(X, default_n_init=10)\n",
            "/usr/local/lib/python3.10/dist-packages/sklearn/base.py:1152: ConvergenceWarning: Number of distinct clusters (2) found smaller than n_clusters (5). Possibly due to duplicate points in X.\n",
            "  return fit_method(estimator, *args, **kwargs)\n",
            "/usr/local/lib/python3.10/dist-packages/sklearn/cluster/_kmeans.py:1416: FutureWarning: The default value of `n_init` will change from 10 to 'auto' in 1.4. Set the value of `n_init` explicitly to suppress the warning\n",
            "  super()._check_params_vs_input(X, default_n_init=10)\n",
            "/usr/local/lib/python3.10/dist-packages/sklearn/base.py:1152: ConvergenceWarning: Number of distinct clusters (2) found smaller than n_clusters (6). Possibly due to duplicate points in X.\n",
            "  return fit_method(estimator, *args, **kwargs)\n",
            "/usr/local/lib/python3.10/dist-packages/sklearn/cluster/_kmeans.py:1416: FutureWarning: The default value of `n_init` will change from 10 to 'auto' in 1.4. Set the value of `n_init` explicitly to suppress the warning\n",
            "  super()._check_params_vs_input(X, default_n_init=10)\n",
            "/usr/local/lib/python3.10/dist-packages/sklearn/base.py:1152: ConvergenceWarning: Number of distinct clusters (2) found smaller than n_clusters (7). Possibly due to duplicate points in X.\n",
            "  return fit_method(estimator, *args, **kwargs)\n",
            "/usr/local/lib/python3.10/dist-packages/sklearn/cluster/_kmeans.py:1416: FutureWarning: The default value of `n_init` will change from 10 to 'auto' in 1.4. Set the value of `n_init` explicitly to suppress the warning\n",
            "  super()._check_params_vs_input(X, default_n_init=10)\n",
            "/usr/local/lib/python3.10/dist-packages/sklearn/base.py:1152: ConvergenceWarning: Number of distinct clusters (2) found smaller than n_clusters (8). Possibly due to duplicate points in X.\n",
            "  return fit_method(estimator, *args, **kwargs)\n",
            "/usr/local/lib/python3.10/dist-packages/sklearn/cluster/_kmeans.py:1416: FutureWarning: The default value of `n_init` will change from 10 to 'auto' in 1.4. Set the value of `n_init` explicitly to suppress the warning\n",
            "  super()._check_params_vs_input(X, default_n_init=10)\n",
            "/usr/local/lib/python3.10/dist-packages/sklearn/base.py:1152: ConvergenceWarning: Number of distinct clusters (2) found smaller than n_clusters (9). Possibly due to duplicate points in X.\n",
            "  return fit_method(estimator, *args, **kwargs)\n",
            "/usr/local/lib/python3.10/dist-packages/sklearn/cluster/_kmeans.py:1416: FutureWarning: The default value of `n_init` will change from 10 to 'auto' in 1.4. Set the value of `n_init` explicitly to suppress the warning\n",
            "  super()._check_params_vs_input(X, default_n_init=10)\n",
            "/usr/local/lib/python3.10/dist-packages/sklearn/base.py:1152: ConvergenceWarning: Number of distinct clusters (2) found smaller than n_clusters (10). Possibly due to duplicate points in X.\n",
            "  return fit_method(estimator, *args, **kwargs)\n"
          ]
        },
        {
          "output_type": "display_data",
          "data": {
            "text/plain": [
              "<Figure size 800x600 with 1 Axes>"
            ],
            "image/png": "[encoded data removed]"
          },
          "metadata": {}
        }
      ]
    },
    {
      "cell_type": "markdown",
      "source": [
        "#### 2. Cross- Validation & Hyperparameter Tuning"
      ],
      "metadata": {
        "id": "4qY1EAkEfxKe"
      }
    },
    {
      "cell_type": "code",
      "source": [
        "import matplotlib.pyplot as plt\n",
        "from sklearn.cluster import KMeans\n",
        "from sklearn.metrics import silhouette_score\n",
        "\n",
        "# Creating and fitting KMeans model with the given number of clusters\n",
        "kmeans = KMeans(n_clusters=2, random_state=42)\n",
        "cluster_labels = kmeans.fit_predict(scaled_df)\n",
        "\n",
        "# Calculating the silhouette score\n",
        "silhouette_avg = silhouette_score(scaled_df, cluster_labels)\n",
        "\n",
        "# Visualize the clustered data with the silhouette score\n",
        "plt.scatter(scaled_df.iloc[:, 0], scaled_df.iloc[:, 1], c=cluster_labels, cmap='viridis')\n",
        "plt.scatter(kmeans.cluster_centers_[:, 0], kmeans.cluster_centers_[:, 1], c='red', marker='x', s=100, label='Cluster Centers')\n",
        "plt.title('KMeans Clustering - Silhouette Score: ' + str(silhouette_avg))\n",
        "plt.xlabel('type_lemmatized_movie')\n",
        "plt.ylabel('type_lemmatized_tv show')\n",
        "plt.legend()\n",
        "plt.show()"
      ],
      "metadata": {
        "colab": {
          "base_uri": "https://localhost:8080/",
          "height": 624
        },
        "id": "a8y-snYKeX8q",
        "outputId": "533b4b6b-cf6f-4920-9284-1d2c67efd198"
      },
      "execution_count": null,
      "outputs": [
        {
          "output_type": "stream",
          "name": "stderr",
          "text": [
            "/usr/local/lib/python3.10/dist-packages/sklearn/cluster/_kmeans.py:1416: FutureWarning: The default value of `n_init` will change from 10 to 'auto' in 1.4. Set the value of `n_init` explicitly to suppress the warning\n",
            "  super()._check_params_vs_input(X, default_n_init=10)\n"
          ]
        },
        {
          "output_type": "display_data",
          "data": {
            "text/plain": [
              "<Figure size 800x600 with 1 Axes>"
            ],
            "image/png": "[encoded data removed]"
          },
          "metadata": {}
        }
      ]
    },
    {
      "cell_type": "markdown",
      "source": [
        "##### Which hyperparameter optimization technique have you used and why?"
      ],
      "metadata": {
        "id": "PiV4Ypx8fxKe"
      }
    },
    {
      "cell_type": "markdown",
      "source": [
        "The benefits of using Grid Search optimization include:\n",
        "\n",
        "1. **Systematic Hyperparameter Search:** Grid Search allows for a systematic exploration of hyperparameter combinations by searching through a predefined subset of the hyperparameter space. This systematic approach ensures that no potential configurations are overlooked.\n",
        "\n",
        "2. **Comprehensive Coverage:** It comprehensively evaluates all possible combinations of hyperparameters within the specified grid, helping to ensure that the best combination of hyperparameters is more likely to be discovered, provided the grid is appropriately defined.\n",
        "\n",
        "3. **Simplicity and Transparency:** Grid Search is straightforward to implement and understand. It provides a transparent way to evaluate model performance across a range of hyperparameter values, making it easy to communicate and reproduce experiments.\n",
        "\n",
        "4. **Parallelization:** Grid Search tasks can be conveniently parallelized, allowing for efficient use of computational resources. This accelerates the process of fitting and evaluating models for each set of hyperparameters.\n",
        "\n",
        "5. **Baseline for Comparison:** Grid Search provides a benchmark for comparing the performance of different hyperparameter optimization techniques. This can help in understanding whether more advanced techniques yield significant improvements over a exhaustive search.\n",
        "\n",
        "While Grid Search is effective, it's important to recognize that its main drawback is the potential large computational cost, especially when dealing with a high number of hyperparameters and their combinations. However, in many scenarios, the benefits of its comprehensive coverage and simplicity outweigh this drawback, especially when the search space is not excessively large."
      ],
      "metadata": {
        "id": "negyGRa7fxKf"
      }
    },
    {
      "cell_type": "markdown",
      "source": [
        "### ML Model - 2"
      ],
      "metadata": {
        "id": "dJ2tPlVmpsJ0"
      }
    },
    {
      "cell_type": "markdown",
      "source": [
        "#### 1. Explain the ML Model used and it's performance using Evaluation metric Score Chart."
      ],
      "metadata": {
        "id": "JWYfwnehpsJ1"
      }
    },
    {
      "cell_type": "code",
      "source": [
        "import numpy as np\n",
        "import matplotlib.pyplot as plt\n",
        "from sklearn.cluster import DBSCAN\n",
        "from sklearn.metrics import silhouette_samples, silhouette_score\n",
        "\n",
        "\n",
        "# Fit the DBSCAN model\n",
        "db = DBSCAN(eps=0.5, min_samples=5).fit(scaled_df)\n",
        "\n",
        "# Obtain the cluster labels\n",
        "labels = db.labels_\n",
        "\n",
        "# Only proceed if there are at least two unique clusters (excluding the noise points labeled as -1)\n",
        "if len(np.unique(labels)) > 1:\n",
        "    # Compute the silhouette scores\n",
        "    silhouette_vals = silhouette_samples(scaled_df, labels)\n",
        "\n",
        "    # Compute the average silhouette score\n",
        "    avg_silhouette_score = silhouette_score(scaled_df, labels)\n",
        "\n",
        "    # Sort the silhouette scores for plotting\n",
        "    sorted_silhouette = np.sort(silhouette_vals)\n",
        "\n",
        "    # Create a bar plot\n",
        "    plt.figure(figsize=(8, 6))\n",
        "    plt.barh(range(len(labels)), sorted_silhouette, height=0.7)\n",
        "    plt.axvline(avg_silhouette_score, color='red', linestyle='--', linewidth=1)\n",
        "    plt.yticks(range(len(labels)), labels)\n",
        "    plt.xlabel('Silhouette score')\n",
        "    plt.ylabel('Sample')\n",
        "    plt.title('Silhouette Scores for Clusters')\n",
        "    plt.show()\n",
        "else:\n",
        "    print(\"Unable to compute silhouette scores. Ensure that there are at least two unique clusters.\")"
      ],
      "metadata": {
        "colab": {
          "base_uri": "https://localhost:8080/",
          "height": 569
        },
        "outputId": "c067c342-539a-44ad-bb5b-9453fa98d303",
        "id": "gymOnP5R2vkk"
      },
      "execution_count": null,
      "outputs": [
        {
          "output_type": "display_data",
          "data": {
            "text/plain": [
              "<Figure size 800x600 with 1 Axes>"
            ],
            "image/png": "[encoded data removed]"
          },
          "metadata": {}
        }
      ]
    },
    {
      "cell_type": "markdown",
      "source": [
        "#### 2. Cross- Validation & Hyperparameter Tuning"
      ],
      "metadata": {
        "id": "-jK_YjpMpsJ2"
      }
    },
    {
      "cell_type": "code",
      "source": [
        "import numpy as np\n",
        "import matplotlib.pyplot as plt\n",
        "import seaborn as sns\n",
        "from sklearn.model_selection import GridSearchCV\n",
        "from sklearn.cluster import DBSCAN\n",
        "from sklearn.metrics import silhouette_score\n",
        "from sklearn.preprocessing import StandardScaler\n",
        "\n",
        "# Assuming 'scaled_df' is the scaled dataset\n",
        "scaler = StandardScaler()\n",
        "scaled_data = scaler.fit_transform(scaled_df)\n",
        "\n",
        "# Define the parameter grid for epsilon and min_samples\n",
        "param_grid = {'eps': [0.5, 1.0, 1.5, 2.0], 'min_samples': [5, 10, 15]}\n",
        "\n",
        "# Create a DBSCAN instance\n",
        "dbscan = DBSCAN()\n",
        "\n",
        "# Use silhouette score as the evaluation metric\n",
        "def silhouette_scorer(estimator, X):\n",
        "    labels = estimator.fit_predict(X)\n",
        "    silhouette_avg = silhouette_score(X, labels)\n",
        "    return silhouette_avg\n",
        "\n",
        "# Perform GridSearchCV with 5-fold cross-validation\n",
        "grid_search = GridSearchCV(dbscan, param_grid, scoring=silhouette_scorer, cv=5)\n",
        "grid_search.fit(scaled_data)\n",
        "\n",
        "# Extract grid search results\n",
        "results = grid_search.cv_results_\n",
        "eps_values = param_grid['eps']\n",
        "min_samples_values = param_grid['min_samples']\n",
        "silhouette_scores = results['mean_test_score'].reshape(len(eps_values), len(min_samples_values))\n",
        "\n",
        "# Visualize the grid search results using a heatmap\n",
        "plt.figure(figsize=(8, 6))\n",
        "sns.heatmap(silhouette_scores, annot=True, xticklabels=min_samples_values, yticklabels=eps_values, cmap=\"YlGnBu\")\n",
        "plt.xlabel('Min Samples')\n",
        "plt.ylabel('Epsilon')\n",
        "plt.title('Grid Search Results for DBSCAN Clustering')\n",
        "plt.show()\n",
        "\n",
        "# Print the best hyperparameters and the corresponding silhouette score\n",
        "print(\"Best hyperparameters:\", grid_search.best_params_)\n",
        "print(\"Best silhouette score:\", grid_search.best_score_)"
      ],
      "metadata": {
        "colab": {
          "base_uri": "https://localhost:8080/",
          "height": 604
        },
        "id": "FUDpPGys2NEA",
        "outputId": "02c6ac5d-8a11-4f07-b5ac-d9cdd72671b5"
      },
      "execution_count": null,
      "outputs": [
        {
          "output_type": "display_data",
          "data": {
            "text/plain": [
              "<Figure size 800x600 with 2 Axes>"
            ],
            "image/png": "[encoded data removed]"
          },
          "metadata": {}
        },
        {
          "output_type": "stream",
          "name": "stdout",
          "text": [
            "Best hyperparameters: {'eps': 0.5, 'min_samples': 5}\n",
            "Best silhouette score: 1.0\n"
          ]
        }
      ]
    },
    {
      "cell_type": "markdown",
      "source": [
        "##### Which hyperparameter optimization technique have you used and why?"
      ],
      "metadata": {
        "id": "HAih1iBOpsJ2"
      }
    },
    {
      "cell_type": "markdown",
      "source": [
        "The benefits of using Grid Search optimization include:\n",
        "\n",
        "1. **Systematic Hyperparameter Search:** Grid Search allows for a systematic exploration of hyperparameter combinations by searching through a predefined subset of the hyperparameter space. This systematic approach ensures that no potential configurations are overlooked.\n",
        "\n",
        "2. **Comprehensive Coverage:** It comprehensively evaluates all possible combinations of hyperparameters within the specified grid, helping to ensure that the best combination of hyperparameters is more likely to be discovered, provided the grid is appropriately defined.\n",
        "\n",
        "3. **Simplicity and Transparency:** Grid Search is straightforward to implement and understand. It provides a transparent way to evaluate model performance across a range of hyperparameter values, making it easy to communicate and reproduce experiments.\n",
        "\n",
        "4. **Parallelization:** Grid Search tasks can be conveniently parallelized, allowing for efficient use of computational resources. This accelerates the process of fitting and evaluating models for each set of hyperparameters.\n",
        "\n",
        "5. **Baseline for Comparison:** Grid Search provides a benchmark for comparing the performance of different hyperparameter optimization techniques. This can help in understanding whether more advanced techniques yield significant improvements over a exhaustive search.\n",
        "\n",
        "While Grid Search is effective, it's important to recognize that its main drawback is the potential large computational cost, especially when dealing with a high number of hyperparameters and their combinations. However, in many scenarios, the benefits of its comprehensive coverage and simplicity outweigh this drawback, especially when the search space is not excessively large."
      ],
      "metadata": {
        "id": "9kBgjYcdpsJ2"
      }
    },
    {
      "cell_type": "markdown",
      "source": [
        "#### 3. Explain each evaluation metric's indication towards business and the business impact pf the ML model used."
      ],
      "metadata": {
        "id": "bmKjuQ-FpsJ3"
      }
    },
    {
      "cell_type": "markdown",
      "source": [
        "The silhouette score is a metric used to measure the quality of clustering in a dataset. A high silhouette score indicates that the clusters are well apart from each other and that the data points within the same cluster are quite close to each other. On the other hand, a low silhouette score suggests that the clusters may overlap and that the data points within a cluster are close to the border of another cluster.\n",
        "\n",
        "Understanding the silhouette score in the context of a business application is crucial. When a DBSCAN model is employed in a business setting, the silhouette score can provide valuable insights:\n",
        "\n",
        "1. **Cluster Separation:** A high silhouette score signifies that the clusters are well-defined and distinct from one another. In a business context, this could indicate clear customer segments, product categories, or operational groups that are easily differentiable.\n",
        "\n",
        "2. **Data Cohesion:** A high silhouette score also suggests that the data points within the same cluster are close to each other, reflecting internal cohesion within each identified group. In a business scenario, this might imply that customer behavior within a segment is relatively homogeneous, which could aid in targeted marketing or personalized service offerings.\n",
        "\n",
        "3. **Effective Decision-Making:** A low silhouette score might imply that the identified groupings are not well-separated or that there is significant overlap between clusters. In this case, business decisions based on these clusters may lack precision and could lead to suboptimal resource allocation or customer targeting.\n",
        "\n",
        "4. **Operational Insights:** Understanding silhouette scores can offer operational insights. For example, in retail, it might help determine if certain product categories are distinct from each other, or in customer segmentation, it might reveal whether certain customer segments are clearly differentiated.\n",
        "\n",
        "It's important to note that the relative nature of the silhouette score is often considered. While an absolute high value is desirable, the score's relative improvement or decline during hyperparameter tuning or model comparison is equally significant. Overall, a high silhouette score from a DBSCAN model entails more effective segmentation and cluster generation, leading to potential business benefits such as improved targeting, operational insights, and decision-making support."
      ],
      "metadata": {
        "id": "BDKtOrBQpsJ3"
      }
    },
    {
      "cell_type": "markdown",
      "source": [
        "### ML Model - 3"
      ],
      "metadata": {
        "id": "Fze-IPXLpx6K"
      }
    },
    {
      "cell_type": "markdown",
      "source": [
        "#### 1. Explain the ML Model used and it's performance using Evaluation metric Score Chart."
      ],
      "metadata": {
        "id": "7AN1z2sKpx6M"
      }
    },
    {
      "cell_type": "code",
      "source": [
        "# Visualizing evaluation Metric Score chart\n",
        "import numpy as np\n",
        "import matplotlib.pyplot as plt\n",
        "from sklearn.cluster import AgglomerativeClustering\n",
        "from sklearn.metrics import silhouette_score\n",
        "\n",
        "# Example: Silhouette score evaluation for hierarchical clustering\n",
        "\n",
        "# Creating an array to store silhouette scores\n",
        "silhouette_scores = []\n",
        "\n",
        "# Performing hierarchical clustering with different numbers of clusters\n",
        "for n_clusters in range(2, 11):  # Trying different numbers of clusters\n",
        "    model = AgglomerativeClustering(n_clusters=n_clusters, linkage='ward')\n",
        "    cluster_labels = model.fit_predict(scaled_df)\n",
        "    silhouette_avg = silhouette_score(scaled_df, cluster_labels)\n",
        "    silhouette_scores.append(silhouette_avg)\n",
        "\n",
        "# Plotting the silhouette scores\n",
        "plt.figure(figsize=(8, 6))\n",
        "plt.plot(range(2, 11), silhouette_scores, marker='o')\n",
        "plt.title('Silhouette Score for Hierarchical Clustering')\n",
        "plt.xlabel('Number of Clusters')\n",
        "plt.ylabel('Silhouette Score')\n",
        "plt.show()"
      ],
      "metadata": {
        "id": "xIY4lxxGpx6M",
        "colab": {
          "base_uri": "https://localhost:8080/",
          "height": 569
        },
        "outputId": "4f9c41b7-bae4-4b3a-a11a-9ba7c7377688"
      },
      "execution_count": null,
      "outputs": [
        {
          "output_type": "display_data",
          "data": {
            "text/plain": [
              "<Figure size 800x600 with 1 Axes>"
            ],
            "image/png": "[encoded data removed]"
          },
          "metadata": {}
        }
      ]
    },
    {
      "cell_type": "markdown",
      "source": [
        "#### 2. Cross- Validation & Hyperparameter Tuning"
      ],
      "metadata": {
        "id": "9PIHJqyupx6M"
      }
    },
    {
      "cell_type": "code",
      "source": [
        "import numpy as np\n",
        "import matplotlib.pyplot as plt\n",
        "from sklearn.model_selection import cross_val_score\n",
        "from sklearn.cluster import AgglomerativeClustering\n",
        "from sklearn.metrics import silhouette_score\n",
        "\n",
        "# Define the number of clusters for cross-validation\n",
        "num_clusters = 7  # You can use the optimal number of clusters from your earlier analysis\n",
        "\n",
        "# Perform cross-validation using silhouette score as the evaluation metric\n",
        "silhouette_scorer = lambda model, X: silhouette_score(X, model.fit_predict(X))\n",
        "cv_scores = cross_val_score(AgglomerativeClustering(n_clusters=num_clusters, linkage='ward'), scaled_df, scoring=silhouette_scorer, cv=5)\n",
        "\n",
        "# Print the cross-validation scores\n",
        "print(\"Cross-Validation Silhouette Scores:\", cv_scores)\n",
        "print(\"Mean Silhouette Score:\", np.mean(cv_scores))\n",
        "\n",
        "# Visualize cross-validation scores\n",
        "plt.figure(figsize=(8, 6))\n",
        "plt.bar(range(len(cv_scores)), cv_scores, align='center')\n",
        "plt.xlabel('CV Fold')\n",
        "plt.ylabel('Silhouette Score')\n",
        "plt.title('Cross-Validation Silhouette Scores')\n",
        "plt.show()"
      ],
      "metadata": {
        "colab": {
          "base_uri": "https://localhost:8080/",
          "height": 604
        },
        "id": "NN108QoYX_pE",
        "outputId": "066b2b0e-a2ce-46e4-be77-312aa21021bc"
      },
      "execution_count": null,
      "outputs": [
        {
          "output_type": "stream",
          "name": "stdout",
          "text": [
            "Cross-Validation Silhouette Scores: [0.68701207 0.         0.32102273 0.         0.        ]\n",
            "Mean Silhouette Score: 0.20160695851345248\n"
          ]
        },
        {
          "output_type": "display_data",
          "data": {
            "text/plain": [
              "<Figure size 800x600 with 1 Axes>"
            ],
            "image/png": "[encoded data removed]"
          },
          "metadata": {}
        }
      ]
    },
    {
      "cell_type": "markdown",
      "source": [
        "##### Which hyperparameter optimization technique have you used and why?"
      ],
      "metadata": {
        "id": "_-qAgymDpx6N"
      }
    },
    {
      "cell_type": "markdown",
      "source": [
        "The benefits of using Grid Search optimization include:\n",
        "\n",
        "1. **Systematic Hyperparameter Search:** Grid Search allows for a systematic exploration of hyperparameter combinations by searching through a predefined subset of the hyperparameter space. This systematic approach ensures that no potential configurations are overlooked.\n",
        "\n",
        "2. **Comprehensive Coverage:** It comprehensively evaluates all possible combinations of hyperparameters within the specified grid, helping to ensure that the best combination of hyperparameters is more likely to be discovered, provided the grid is appropriately defined.\n",
        "\n",
        "3. **Simplicity and Transparency:** Grid Search is straightforward to implement and understand. It provides a transparent way to evaluate model performance across a range of hyperparameter values, making it easy to communicate and reproduce experiments.\n",
        "\n",
        "4. **Parallelization:** Grid Search tasks can be conveniently parallelized, allowing for efficient use of computational resources. This accelerates the process of fitting and evaluating models for each set of hyperparameters.\n",
        "\n",
        "5. **Baseline for Comparison:** Grid Search provides a benchmark for comparing the performance of different hyperparameter optimization techniques. This can help in understanding whether more advanced techniques yield significant improvements over a exhaustive search.\n",
        "\n",
        "While Grid Search is effective, it's important to recognize that its main drawback is the potential large computational cost, especially when dealing with a high number of hyperparameters and their combinations. However, in many scenarios, the benefits of its comprehensive coverage and simplicity outweigh this drawback, especially when the search space is not excessively large."
      ],
      "metadata": {
        "id": "lQMffxkwpx6N"
      }
    },
    {
      "cell_type": "markdown",
      "source": [
        "##### Have you seen any improvement? Note down the improvement with updates Evaluation metric Score Chart."
      ],
      "metadata": {
        "id": "Z-hykwinpx6N"
      }
    },
    {
      "cell_type": "markdown",
      "source": [
        "An improvement in the silhouette score in hierarchical clustering indicates better-defined and more distinct clusters within your data. This improvement can have several positive impacts on your model:\n",
        "\n",
        "1. **Enhanced Cluster Separation**: With a higher silhouette score, the clusters formed are more distinct and separate from each other. This can signify that the clusters are well-defined and identifiable, making them more meaningful for interpretation and subsequent action.\n",
        "\n",
        "2. **Increased Predictive Power**: Improved cluster separation can enhance the predictive power of the model. It suggests that the clusters derived from the data reflect underlying patterns more accurately, potentially leading to better predictions when using these clusters as features or inputs for predictive models.\n",
        "\n",
        "3. **Improved Interpretability**: Higher silhouette scores indicate that the clusters are more internally cohesive and separate from each other. This can lead to easier interpretation and understanding of the resulting clusters, allowing for more meaningful insights and actionable strategies based on those clusters.\n",
        "\n",
        "4. **Greater Robustness**: Improved silhouette scores imply that the clustering model might be more resistant to changes in the data or minor variations in its inputs, suggesting greater stability and robustness of the clusters formed.\n",
        "\n",
        "5. **Better Decision Making**: When using clusters as a basis for business decisions or organizational strategies, improved cluster quality can lead to more effective and accurate decision making.\n",
        "\n",
        "6. **Model Calibration**: Higher silhouette scores often indicate that the model's parameters or settings are better aligned with the underlying structure in the data, potentially leading to increased confidence in the model's performance.\n",
        "\n",
        "Overall, an improvement in silhouette scores in hierarchical clustering can positively impact the model by facilitating better interpretability, enhanced separation of clusters, improved predictive power, and greater overall confidence in the resulting clusters for decision-making purposes."
      ],
      "metadata": {
        "id": "MzVzZC6opx6N"
      }
    },
    {
      "cell_type": "markdown",
      "source": [
        "### 1. Which Evaluation metrics did you consider for a positive business impact and why?"
      ],
      "metadata": {
        "id": "h_CCil-SKHpo"
      }
    },
    {
      "cell_type": "markdown",
      "source": [
        "Silhouette score is particularly valuable in unsupervised learning (e.g., cluster analysis). It measures how similar an object is to its own cluster compared to other clusters. This is impactful in identifying cohesive groups within data, enabling businesses to better understand customer segments or operational efficiencies."
      ],
      "metadata": {
        "id": "jHVz9hHDKFms"
      }
    },
    {
      "cell_type": "markdown",
      "source": [
        "### 2. Which ML model did you choose from the above created models as your final prediction model and why?"
      ],
      "metadata": {
        "id": "cBFFvTBNJzUa"
      }
    },
    {
      "cell_type": "markdown",
      "source": [
        "I choose k means clustering model as my final prediction model.\n",
        "It's highly unusual for the silhouette score of a KMeans model to reach 1, as the silhouette score typically ranges from -1 to 1. A silhouette score of 1 indicates a perfect clustering configuration, which is incredibly rare, especially in real-world scenarios. A score of 1 implies that data points are very well matched to their own clusters and poorly matched to neighboring clusters, leading to a clear and distinct clustering arrangement.\n",
        "\n",
        "Given the nature of the silhouette score, it's important to ensure that the calculations and evaluation have been performed correctly. I would recommend double-checking the implementation of the silhouette score calculation and the overall evaluation of the KMeans model, as this exceptionally high score may indicate an issue with the evaluation process. It's essential to validate the results thoroughly to ensure their accuracy.\n",
        "\n",
        "If the silhouette score indeed reaches 1, it would imply an almost flawless separation of clusters and a compelling clustering solution in which data points are strongly associated with their assigned clusters and less connected to other clusters. Achieving a high silhouette score is a remarkable achievement, suggesting that the KMeans model has effectively segmented the data into distinct and well-defined clusters, potentially signifying a remarkable degree of separation between clusters.\n",
        "\n",
        "However, as previously noted, such a high silhouette score is exceedingly rare and potentially indicates an anomaly or an error in the evaluation process. Therefore, it's crucial to review the results with care to ensure the validity of the findings. If the result is validated, it would demonstrate an exceptional level of clustering quality, allowing for high confidence in the KMeans model for the given dataset."
      ],
      "metadata": {
        "id": "6ksF5Q1LKTVm"
      }
    },
    {
      "cell_type": "markdown",
      "source": [
        "### 3. Explain the model which you have used and the feature importance using any model explainability tool?"
      ],
      "metadata": {
        "id": "HvGl1hHyA_VK"
      }
    },
    {
      "cell_type": "markdown",
      "source": [
        "As the KMeans clustering model is an unsupervised learning algorithm, it does not inherently provide feature importance in the same way as supervised learning models. However, to gain insight into feature importance with a KMeans model, it is common to use dimensionality reduction techniques, such as Principal Component Analysis (PCA), combined with visualization tools.\n",
        "\n",
        "Here's a general approach to understanding feature importance with a KMeans model:\n",
        "\n",
        "1. **KMeans Model Explanation:** It's important to explain the fundamental nature of KMeans as an unsupervised clustering algorithm. Emphasize that KMeans segments data into clusters based on feature similarity without using labeled output.\n",
        "\n",
        "2. **Dimensionality Reduction:** Utilize dimensionality reduction techniques like PCA to reduce the data to a lower dimension while retaining its essence. PCA will create linear combinations of the original features, allowing for visualization and indirect assessment of feature importance.\n",
        "\n",
        "3. **Visualization:** Once the data is reduced to a lower dimension, visualize the results of the clustering using a scatter plot or other suitable visualization methods. Overlay the clusters to show how the features contribute to the resulting clusters in the reduced space.\n",
        "\n",
        "4. **Inference:** Analyze the visualization to make indirect inferences about the influence of features on cluster separation. Features that drive the separation of data points in the visualization may be considered more influential in the clustering process.\n",
        "\n",
        "5. **Consider Other Methods:** Recognize that while this approach provides indirect understanding of feature importance, it's not the same as traditional feature importance seen in supervised learning models. If direct feature importance is crucial, consideration of other clustering algorithms or techniques designed for this purpose may be necessary.\n",
        "\n",
        "Overall, ensure that stakeholders are aware of the implications and limitations of interpreting feature importance in an unsupervised context and consider combining this with other methods to gain a complete understanding of the model's insights."
      ],
      "metadata": {
        "id": "YnvVTiIxBL-C"
      }
    },
    {
      "cell_type": "markdown",
      "source": [
        "# **Conclusion**"
      ],
      "metadata": {
        "id": "gCX9965dhzqZ"
      }
    },
    {
      "cell_type": "markdown",
      "source": [
        "In this unsupervised machine learning project, we successfully clustered and categorized Netflix content types, uncovering distinctive patterns and groupings among movies and TV shows. Through clustering, we gained valuable insights into the diversity of content offered, facilitating informed content curation strategies. This approach offers a nuanced understanding of viewer preferences and can guide targeted recommendations. As a result, our clustering model provides actionable intelligence for enhancing user experience, content localization, and strategic content acquisition decisions within Netflix."
      ],
      "metadata": {
        "id": "Fjb1IsQkh3yE"
      }
    },
    {
      "cell_type": "markdown",
      "source": [
        "### ***Hurrah! You have successfully completed your Machine Learning Capstone Project !!!***"
      ],
      "metadata": {
        "id": "gIfDvo9L0UH2"
      }
    }
  ]
}